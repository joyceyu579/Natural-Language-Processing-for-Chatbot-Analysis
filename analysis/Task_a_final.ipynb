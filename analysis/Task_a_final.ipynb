{
 "cells": [
  {
   "cell_type": "markdown",
   "metadata": {},
   "source": [
    "# load dependencies"
   ]
  },
  {
   "cell_type": "code",
   "execution_count": 76,
   "metadata": {},
   "outputs": [],
   "source": [
    "from collections import defaultdict\n",
    "import json, math, gdown\n",
    "import numpy as np\n",
    "import pandas as pd\n",
    "import plotly.express as px\n",
    "from tqdm import tqdm\n",
    "import requests\n",
    "pd.options.display.float_format = '{:.2f}'.format\n",
    "\n",
    "# Re-import necessary libraries and reload the dataset, as the previous session context was lost.\n",
    "import pandas as pd\n",
    "from sklearn.model_selection import train_test_split\n",
    "from sklearn.linear_model import LogisticRegression\n",
    "from sklearn.svm import SVC\n",
    "from sklearn.neighbors import KNeighborsClassifier\n",
    "from sklearn.ensemble import RandomForestClassifier\n",
    "from sklearn.metrics import accuracy_score, precision_score, recall_score, f1_score, confusion_matrix\n",
    "import seaborn as sns\n",
    "import matplotlib.pyplot as plt\n",
    "from sklearn.preprocessing import LabelEncoder\n",
    "from sklearn.impute import SimpleImputer\n",
    "\n",
    "import numpy as np\n",
    "\n",
    "import pandas as pd\n",
    "import numpy as np\n",
    "import matplotlib.pyplot as plt\n",
    "from sklearn.model_selection import train_test_split\n",
    "from sklearn.preprocessing import StandardScaler\n",
    "from sklearn.linear_model import LogisticRegression\n",
    "from sklearn.metrics import accuracy_score, classification_report, confusion_matrix"
   ]
  },
  {
   "cell_type": "markdown",
   "metadata": {},
   "source": [
    "# Load chatbot-arena-conversations as data frame"
   ]
  },
  {
   "cell_type": "code",
   "execution_count": 77,
   "metadata": {},
   "outputs": [],
   "source": [
    "\n",
    "battles = pd.read_json(\n",
    "    \"data/nlp-chatbot-analysis_data/training-set/chatbot-arena-conversations.jsonl.gz\",\n",
    "    lines=True,\n",
    "    compression=\"gzip\")"
   ]
  },
  {
   "cell_type": "markdown",
   "metadata": {},
   "source": [
    "# Count classes"
   ]
  },
  {
   "cell_type": "code",
   "execution_count": 78,
   "metadata": {},
   "outputs": [
    {
     "data": {
      "text/plain": [
       "winner\n",
       "model_a          9002\n",
       "model_b          8862\n",
       "tie (bothbad)    4632\n",
       "tie              2786\n",
       "Name: count, dtype: int64"
      ]
     },
     "execution_count": 78,
     "metadata": {},
     "output_type": "execute_result"
    }
   ],
   "source": [
    "battles[\"winner\"].value_counts()"
   ]
  },
  {
   "cell_type": "code",
   "execution_count": 79,
   "metadata": {},
   "outputs": [],
   "source": [
    "battles_no_ties = battles[~battles[\"winner\"].str.contains(\"tie\")]"
   ]
  },
  {
   "cell_type": "code",
   "execution_count": 80,
   "metadata": {},
   "outputs": [
    {
     "data": {
      "application/vnd.plotly.v1+json": {
       "config": {
        "plotlyServerURL": "https://plot.ly"
       },
       "data": [
        {
         "alignmentgroup": "True",
         "hovertemplate": "variable=count<br>index=%{x}<br>value=%{y}<extra></extra>",
         "legendgroup": "count",
         "marker": {
          "color": "#636efa",
          "pattern": {
           "shape": ""
          }
         },
         "name": "count",
         "offsetgroup": "count",
         "orientation": "v",
         "showlegend": true,
         "textposition": "auto",
         "texttemplate": "%{y}",
         "type": "bar",
         "x": [
          "vicuna-13b",
          "koala-13b",
          "oasst-pythia-12b",
          "gpt-3.5-turbo",
          "alpaca-13b",
          "gpt-4",
          "claude-v1",
          "RWKV-4-Raven-14B",
          "chatglm-6b",
          "fastchat-t5-3b",
          "palm-2",
          "mpt-7b-chat",
          "stablelm-tuned-alpha-7b",
          "vicuna-7b",
          "dolly-v2-12b",
          "claude-instant-v1",
          "llama-13b",
          "wizardlm-13b",
          "guanaco-33b",
          "gpt4all-13b-snoozy"
         ],
         "xaxis": "x",
         "y": [
          4502,
          4246,
          3784,
          3602,
          3353,
          3280,
          3071,
          2807,
          2685,
          2474,
          2272,
          2174,
          2162,
          2148,
          2095,
          2011,
          1543,
          844,
          757,
          754
         ],
         "yaxis": "y"
        }
       ],
       "layout": {
        "barmode": "relative",
        "height": 400,
        "legend": {
         "title": {
          "text": "variable"
         },
         "tracegroupgap": 0
        },
        "showlegend": false,
        "template": {
         "data": {
          "bar": [
           {
            "error_x": {
             "color": "#2a3f5f"
            },
            "error_y": {
             "color": "#2a3f5f"
            },
            "marker": {
             "line": {
              "color": "#E5ECF6",
              "width": 0.5
             },
             "pattern": {
              "fillmode": "overlay",
              "size": 10,
              "solidity": 0.2
             }
            },
            "type": "bar"
           }
          ],
          "barpolar": [
           {
            "marker": {
             "line": {
              "color": "#E5ECF6",
              "width": 0.5
             },
             "pattern": {
              "fillmode": "overlay",
              "size": 10,
              "solidity": 0.2
             }
            },
            "type": "barpolar"
           }
          ],
          "carpet": [
           {
            "aaxis": {
             "endlinecolor": "#2a3f5f",
             "gridcolor": "white",
             "linecolor": "white",
             "minorgridcolor": "white",
             "startlinecolor": "#2a3f5f"
            },
            "baxis": {
             "endlinecolor": "#2a3f5f",
             "gridcolor": "white",
             "linecolor": "white",
             "minorgridcolor": "white",
             "startlinecolor": "#2a3f5f"
            },
            "type": "carpet"
           }
          ],
          "choropleth": [
           {
            "colorbar": {
             "outlinewidth": 0,
             "ticks": ""
            },
            "type": "choropleth"
           }
          ],
          "contour": [
           {
            "colorbar": {
             "outlinewidth": 0,
             "ticks": ""
            },
            "colorscale": [
             [
              0,
              "#0d0887"
             ],
             [
              0.1111111111111111,
              "#46039f"
             ],
             [
              0.2222222222222222,
              "#7201a8"
             ],
             [
              0.3333333333333333,
              "#9c179e"
             ],
             [
              0.4444444444444444,
              "#bd3786"
             ],
             [
              0.5555555555555556,
              "#d8576b"
             ],
             [
              0.6666666666666666,
              "#ed7953"
             ],
             [
              0.7777777777777778,
              "#fb9f3a"
             ],
             [
              0.8888888888888888,
              "#fdca26"
             ],
             [
              1,
              "#f0f921"
             ]
            ],
            "type": "contour"
           }
          ],
          "contourcarpet": [
           {
            "colorbar": {
             "outlinewidth": 0,
             "ticks": ""
            },
            "type": "contourcarpet"
           }
          ],
          "heatmap": [
           {
            "colorbar": {
             "outlinewidth": 0,
             "ticks": ""
            },
            "colorscale": [
             [
              0,
              "#0d0887"
             ],
             [
              0.1111111111111111,
              "#46039f"
             ],
             [
              0.2222222222222222,
              "#7201a8"
             ],
             [
              0.3333333333333333,
              "#9c179e"
             ],
             [
              0.4444444444444444,
              "#bd3786"
             ],
             [
              0.5555555555555556,
              "#d8576b"
             ],
             [
              0.6666666666666666,
              "#ed7953"
             ],
             [
              0.7777777777777778,
              "#fb9f3a"
             ],
             [
              0.8888888888888888,
              "#fdca26"
             ],
             [
              1,
              "#f0f921"
             ]
            ],
            "type": "heatmap"
           }
          ],
          "heatmapgl": [
           {
            "colorbar": {
             "outlinewidth": 0,
             "ticks": ""
            },
            "colorscale": [
             [
              0,
              "#0d0887"
             ],
             [
              0.1111111111111111,
              "#46039f"
             ],
             [
              0.2222222222222222,
              "#7201a8"
             ],
             [
              0.3333333333333333,
              "#9c179e"
             ],
             [
              0.4444444444444444,
              "#bd3786"
             ],
             [
              0.5555555555555556,
              "#d8576b"
             ],
             [
              0.6666666666666666,
              "#ed7953"
             ],
             [
              0.7777777777777778,
              "#fb9f3a"
             ],
             [
              0.8888888888888888,
              "#fdca26"
             ],
             [
              1,
              "#f0f921"
             ]
            ],
            "type": "heatmapgl"
           }
          ],
          "histogram": [
           {
            "marker": {
             "pattern": {
              "fillmode": "overlay",
              "size": 10,
              "solidity": 0.2
             }
            },
            "type": "histogram"
           }
          ],
          "histogram2d": [
           {
            "colorbar": {
             "outlinewidth": 0,
             "ticks": ""
            },
            "colorscale": [
             [
              0,
              "#0d0887"
             ],
             [
              0.1111111111111111,
              "#46039f"
             ],
             [
              0.2222222222222222,
              "#7201a8"
             ],
             [
              0.3333333333333333,
              "#9c179e"
             ],
             [
              0.4444444444444444,
              "#bd3786"
             ],
             [
              0.5555555555555556,
              "#d8576b"
             ],
             [
              0.6666666666666666,
              "#ed7953"
             ],
             [
              0.7777777777777778,
              "#fb9f3a"
             ],
             [
              0.8888888888888888,
              "#fdca26"
             ],
             [
              1,
              "#f0f921"
             ]
            ],
            "type": "histogram2d"
           }
          ],
          "histogram2dcontour": [
           {
            "colorbar": {
             "outlinewidth": 0,
             "ticks": ""
            },
            "colorscale": [
             [
              0,
              "#0d0887"
             ],
             [
              0.1111111111111111,
              "#46039f"
             ],
             [
              0.2222222222222222,
              "#7201a8"
             ],
             [
              0.3333333333333333,
              "#9c179e"
             ],
             [
              0.4444444444444444,
              "#bd3786"
             ],
             [
              0.5555555555555556,
              "#d8576b"
             ],
             [
              0.6666666666666666,
              "#ed7953"
             ],
             [
              0.7777777777777778,
              "#fb9f3a"
             ],
             [
              0.8888888888888888,
              "#fdca26"
             ],
             [
              1,
              "#f0f921"
             ]
            ],
            "type": "histogram2dcontour"
           }
          ],
          "mesh3d": [
           {
            "colorbar": {
             "outlinewidth": 0,
             "ticks": ""
            },
            "type": "mesh3d"
           }
          ],
          "parcoords": [
           {
            "line": {
             "colorbar": {
              "outlinewidth": 0,
              "ticks": ""
             }
            },
            "type": "parcoords"
           }
          ],
          "pie": [
           {
            "automargin": true,
            "type": "pie"
           }
          ],
          "scatter": [
           {
            "fillpattern": {
             "fillmode": "overlay",
             "size": 10,
             "solidity": 0.2
            },
            "type": "scatter"
           }
          ],
          "scatter3d": [
           {
            "line": {
             "colorbar": {
              "outlinewidth": 0,
              "ticks": ""
             }
            },
            "marker": {
             "colorbar": {
              "outlinewidth": 0,
              "ticks": ""
             }
            },
            "type": "scatter3d"
           }
          ],
          "scattercarpet": [
           {
            "marker": {
             "colorbar": {
              "outlinewidth": 0,
              "ticks": ""
             }
            },
            "type": "scattercarpet"
           }
          ],
          "scattergeo": [
           {
            "marker": {
             "colorbar": {
              "outlinewidth": 0,
              "ticks": ""
             }
            },
            "type": "scattergeo"
           }
          ],
          "scattergl": [
           {
            "marker": {
             "colorbar": {
              "outlinewidth": 0,
              "ticks": ""
             }
            },
            "type": "scattergl"
           }
          ],
          "scattermapbox": [
           {
            "marker": {
             "colorbar": {
              "outlinewidth": 0,
              "ticks": ""
             }
            },
            "type": "scattermapbox"
           }
          ],
          "scatterpolar": [
           {
            "marker": {
             "colorbar": {
              "outlinewidth": 0,
              "ticks": ""
             }
            },
            "type": "scatterpolar"
           }
          ],
          "scatterpolargl": [
           {
            "marker": {
             "colorbar": {
              "outlinewidth": 0,
              "ticks": ""
             }
            },
            "type": "scatterpolargl"
           }
          ],
          "scatterternary": [
           {
            "marker": {
             "colorbar": {
              "outlinewidth": 0,
              "ticks": ""
             }
            },
            "type": "scatterternary"
           }
          ],
          "surface": [
           {
            "colorbar": {
             "outlinewidth": 0,
             "ticks": ""
            },
            "colorscale": [
             [
              0,
              "#0d0887"
             ],
             [
              0.1111111111111111,
              "#46039f"
             ],
             [
              0.2222222222222222,
              "#7201a8"
             ],
             [
              0.3333333333333333,
              "#9c179e"
             ],
             [
              0.4444444444444444,
              "#bd3786"
             ],
             [
              0.5555555555555556,
              "#d8576b"
             ],
             [
              0.6666666666666666,
              "#ed7953"
             ],
             [
              0.7777777777777778,
              "#fb9f3a"
             ],
             [
              0.8888888888888888,
              "#fdca26"
             ],
             [
              1,
              "#f0f921"
             ]
            ],
            "type": "surface"
           }
          ],
          "table": [
           {
            "cells": {
             "fill": {
              "color": "#EBF0F8"
             },
             "line": {
              "color": "white"
             }
            },
            "header": {
             "fill": {
              "color": "#C8D4E3"
             },
             "line": {
              "color": "white"
             }
            },
            "type": "table"
           }
          ]
         },
         "layout": {
          "annotationdefaults": {
           "arrowcolor": "#2a3f5f",
           "arrowhead": 0,
           "arrowwidth": 1
          },
          "autotypenumbers": "strict",
          "coloraxis": {
           "colorbar": {
            "outlinewidth": 0,
            "ticks": ""
           }
          },
          "colorscale": {
           "diverging": [
            [
             0,
             "#8e0152"
            ],
            [
             0.1,
             "#c51b7d"
            ],
            [
             0.2,
             "#de77ae"
            ],
            [
             0.3,
             "#f1b6da"
            ],
            [
             0.4,
             "#fde0ef"
            ],
            [
             0.5,
             "#f7f7f7"
            ],
            [
             0.6,
             "#e6f5d0"
            ],
            [
             0.7,
             "#b8e186"
            ],
            [
             0.8,
             "#7fbc41"
            ],
            [
             0.9,
             "#4d9221"
            ],
            [
             1,
             "#276419"
            ]
           ],
           "sequential": [
            [
             0,
             "#0d0887"
            ],
            [
             0.1111111111111111,
             "#46039f"
            ],
            [
             0.2222222222222222,
             "#7201a8"
            ],
            [
             0.3333333333333333,
             "#9c179e"
            ],
            [
             0.4444444444444444,
             "#bd3786"
            ],
            [
             0.5555555555555556,
             "#d8576b"
            ],
            [
             0.6666666666666666,
             "#ed7953"
            ],
            [
             0.7777777777777778,
             "#fb9f3a"
            ],
            [
             0.8888888888888888,
             "#fdca26"
            ],
            [
             1,
             "#f0f921"
            ]
           ],
           "sequentialminus": [
            [
             0,
             "#0d0887"
            ],
            [
             0.1111111111111111,
             "#46039f"
            ],
            [
             0.2222222222222222,
             "#7201a8"
            ],
            [
             0.3333333333333333,
             "#9c179e"
            ],
            [
             0.4444444444444444,
             "#bd3786"
            ],
            [
             0.5555555555555556,
             "#d8576b"
            ],
            [
             0.6666666666666666,
             "#ed7953"
            ],
            [
             0.7777777777777778,
             "#fb9f3a"
            ],
            [
             0.8888888888888888,
             "#fdca26"
            ],
            [
             1,
             "#f0f921"
            ]
           ]
          },
          "colorway": [
           "#636efa",
           "#EF553B",
           "#00cc96",
           "#ab63fa",
           "#FFA15A",
           "#19d3f3",
           "#FF6692",
           "#B6E880",
           "#FF97FF",
           "#FECB52"
          ],
          "font": {
           "color": "#2a3f5f"
          },
          "geo": {
           "bgcolor": "white",
           "lakecolor": "white",
           "landcolor": "#E5ECF6",
           "showlakes": true,
           "showland": true,
           "subunitcolor": "white"
          },
          "hoverlabel": {
           "align": "left"
          },
          "hovermode": "closest",
          "mapbox": {
           "style": "light"
          },
          "paper_bgcolor": "white",
          "plot_bgcolor": "#E5ECF6",
          "polar": {
           "angularaxis": {
            "gridcolor": "white",
            "linecolor": "white",
            "ticks": ""
           },
           "bgcolor": "#E5ECF6",
           "radialaxis": {
            "gridcolor": "white",
            "linecolor": "white",
            "ticks": ""
           }
          },
          "scene": {
           "xaxis": {
            "backgroundcolor": "#E5ECF6",
            "gridcolor": "white",
            "gridwidth": 2,
            "linecolor": "white",
            "showbackground": true,
            "ticks": "",
            "zerolinecolor": "white"
           },
           "yaxis": {
            "backgroundcolor": "#E5ECF6",
            "gridcolor": "white",
            "gridwidth": 2,
            "linecolor": "white",
            "showbackground": true,
            "ticks": "",
            "zerolinecolor": "white"
           },
           "zaxis": {
            "backgroundcolor": "#E5ECF6",
            "gridcolor": "white",
            "gridwidth": 2,
            "linecolor": "white",
            "showbackground": true,
            "ticks": "",
            "zerolinecolor": "white"
           }
          },
          "shapedefaults": {
           "line": {
            "color": "#2a3f5f"
           }
          },
          "ternary": {
           "aaxis": {
            "gridcolor": "white",
            "linecolor": "white",
            "ticks": ""
           },
           "baxis": {
            "gridcolor": "white",
            "linecolor": "white",
            "ticks": ""
           },
           "bgcolor": "#E5ECF6",
           "caxis": {
            "gridcolor": "white",
            "linecolor": "white",
            "ticks": ""
           }
          },
          "title": {
           "x": 0.05
          },
          "xaxis": {
           "automargin": true,
           "gridcolor": "white",
           "linecolor": "white",
           "ticks": "",
           "title": {
            "standoff": 15
           },
           "zerolinecolor": "white",
           "zerolinewidth": 2
          },
          "yaxis": {
           "automargin": true,
           "gridcolor": "white",
           "linecolor": "white",
           "ticks": "",
           "title": {
            "standoff": 15
           },
           "zerolinecolor": "white",
           "zerolinewidth": 2
          }
         }
        },
        "title": {
         "text": "Battle Count for Each Model"
        },
        "xaxis": {
         "anchor": "y",
         "domain": [
          0,
          1
         ],
         "title": {
          "text": "model"
         }
        },
        "yaxis": {
         "anchor": "x",
         "domain": [
          0,
          1
         ],
         "title": {
          "text": "Battle Count"
         }
        }
       }
      }
     },
     "metadata": {},
     "output_type": "display_data"
    }
   ],
   "source": [
    "fig = px.bar(pd.concat([battles[\"model_a\"], battles[\"model_b\"]]).value_counts(),\n",
    "             title=\"Battle Count for Each Model\", text_auto=True)\n",
    "fig.update_layout(xaxis_title=\"model\", yaxis_title=\"Battle Count\", height=400,\n",
    "                  showlegend=False)\n",
    "fig"
   ]
  },
  {
   "cell_type": "markdown",
   "metadata": {},
   "source": [
    "# Show each count of a model fighting every other model"
   ]
  },
  {
   "cell_type": "code",
   "execution_count": 81,
   "metadata": {},
   "outputs": [
    {
     "data": {
      "application/vnd.plotly.v1+json": {
       "config": {
        "plotlyServerURL": "https://plot.ly"
       },
       "data": [
        {
         "coloraxis": "coloraxis",
         "hovertemplate": "Model A: %{y}<br>Model B: %{x}<br>Count: %{z}<extra></extra>",
         "name": "0",
         "texttemplate": "%{z}",
         "type": "heatmap",
         "x": [
          "vicuna-13b",
          "koala-13b",
          "oasst-pythia-12b",
          "gpt-3.5-turbo",
          "alpaca-13b",
          "gpt-4",
          "claude-v1",
          "RWKV-4-Raven-14B",
          "chatglm-6b",
          "fastchat-t5-3b",
          "palm-2",
          "mpt-7b-chat",
          "stablelm-tuned-alpha-7b",
          "vicuna-7b",
          "dolly-v2-12b",
          "claude-instant-v1",
          "llama-13b",
          "wizardlm-13b",
          "guanaco-33b",
          "gpt4all-13b-snoozy"
         ],
         "xaxis": "x",
         "y": [
          "vicuna-13b",
          "koala-13b",
          "oasst-pythia-12b",
          "gpt-3.5-turbo",
          "alpaca-13b",
          "gpt-4",
          "claude-v1",
          "RWKV-4-Raven-14B",
          "chatglm-6b",
          "fastchat-t5-3b",
          "palm-2",
          "mpt-7b-chat",
          "stablelm-tuned-alpha-7b",
          "vicuna-7b",
          "dolly-v2-12b",
          "claude-instant-v1",
          "llama-13b",
          "wizardlm-13b",
          "guanaco-33b",
          "gpt4all-13b-snoozy"
         ],
         "yaxis": "y",
         "z": [
          [
           0,
           657,
           455,
           300,
           336,
           272,
           242,
           231,
           293,
           198,
           176,
           176,
           232,
           155,
           248,
           150,
           217,
           50,
           53,
           61
          ],
          [
           657,
           0,
           368,
           332,
           320,
           265,
           258,
           214,
           230,
           236,
           180,
           185,
           210,
           140,
           222,
           127,
           190,
           38,
           32,
           42
          ],
          [
           455,
           368,
           0,
           274,
           273,
           270,
           244,
           194,
           239,
           193,
           142,
           161,
           219,
           121,
           199,
           115,
           150,
           60,
           57,
           50
          ],
          [
           300,
           332,
           274,
           0,
           267,
           281,
           277,
           256,
           187,
           227,
           173,
           155,
           132,
           165,
           161,
           131,
           108,
           66,
           57,
           53
          ],
          [
           336,
           320,
           273,
           267,
           0,
           199,
           238,
           182,
           240,
           187,
           117,
           123,
           207,
           119,
           191,
           102,
           154,
           30,
           29,
           39
          ],
          [
           272,
           265,
           270,
           281,
           199,
           0,
           253,
           246,
           183,
           175,
           163,
           180,
           163,
           159,
           122,
           125,
           74,
           49,
           52,
           49
          ],
          [
           242,
           258,
           244,
           277,
           238,
           253,
           0,
           235,
           160,
           152,
           170,
           165,
           101,
           152,
           102,
           111,
           64,
           50,
           38,
           59
          ],
          [
           231,
           214,
           194,
           256,
           182,
           246,
           235,
           0,
           140,
           136,
           149,
           149,
           117,
           126,
           97,
           122,
           68,
           53,
           53,
           39
          ],
          [
           293,
           230,
           239,
           187,
           240,
           183,
           160,
           140,
           0,
           140,
           109,
           102,
           145,
           86,
           149,
           99,
           100,
           27,
           27,
           29
          ],
          [
           198,
           236,
           193,
           227,
           187,
           175,
           152,
           136,
           140,
           0,
           122,
           106,
           104,
           106,
           108,
           95,
           87,
           45,
           28,
           29
          ],
          [
           176,
           180,
           142,
           173,
           117,
           163,
           170,
           149,
           109,
           122,
           0,
           161,
           43,
           155,
           55,
           152,
           11,
           71,
           59,
           64
          ],
          [
           176,
           185,
           161,
           155,
           123,
           180,
           165,
           149,
           102,
           106,
           161,
           0,
           74,
           108,
           50,
           121,
           14,
           59,
           47,
           38
          ],
          [
           232,
           210,
           219,
           132,
           207,
           163,
           101,
           117,
           145,
           104,
           43,
           74,
           0,
           58,
           136,
           52,
           137,
           12,
           11,
           9
          ],
          [
           155,
           140,
           121,
           165,
           119,
           159,
           152,
           126,
           86,
           106,
           155,
           108,
           58,
           0,
           49,
           306,
           10,
           56,
           45,
           32
          ],
          [
           248,
           222,
           199,
           161,
           191,
           122,
           102,
           97,
           149,
           108,
           55,
           50,
           136,
           49,
           0,
           41,
           135,
           13,
           8,
           9
          ],
          [
           150,
           127,
           115,
           131,
           102,
           125,
           111,
           122,
           99,
           95,
           152,
           121,
           52,
           306,
           41,
           0,
           10,
           50,
           61,
           41
          ],
          [
           217,
           190,
           150,
           108,
           154,
           74,
           64,
           68,
           100,
           87,
           11,
           14,
           137,
           10,
           135,
           10,
           0,
           4,
           5,
           5
          ],
          [
           50,
           38,
           60,
           66,
           30,
           49,
           50,
           53,
           27,
           45,
           71,
           59,
           12,
           56,
           13,
           50,
           4,
           0,
           50,
           61
          ],
          [
           53,
           32,
           57,
           57,
           29,
           52,
           38,
           53,
           27,
           28,
           59,
           47,
           11,
           45,
           8,
           61,
           5,
           50,
           0,
           45
          ],
          [
           61,
           42,
           50,
           53,
           39,
           49,
           59,
           39,
           29,
           29,
           64,
           38,
           9,
           32,
           9,
           41,
           5,
           61,
           45,
           0
          ]
         ]
        }
       ],
       "layout": {
        "coloraxis": {
         "colorscale": [
          [
           0,
           "#0d0887"
          ],
          [
           0.1111111111111111,
           "#46039f"
          ],
          [
           0.2222222222222222,
           "#7201a8"
          ],
          [
           0.3333333333333333,
           "#9c179e"
          ],
          [
           0.4444444444444444,
           "#bd3786"
          ],
          [
           0.5555555555555556,
           "#d8576b"
          ],
          [
           0.6666666666666666,
           "#ed7953"
          ],
          [
           0.7777777777777778,
           "#fb9f3a"
          ],
          [
           0.8888888888888888,
           "#fdca26"
          ],
          [
           1,
           "#f0f921"
          ]
         ]
        },
        "font": {
         "size": 10
        },
        "height": 800,
        "template": {
         "data": {
          "bar": [
           {
            "error_x": {
             "color": "#2a3f5f"
            },
            "error_y": {
             "color": "#2a3f5f"
            },
            "marker": {
             "line": {
              "color": "#E5ECF6",
              "width": 0.5
             },
             "pattern": {
              "fillmode": "overlay",
              "size": 10,
              "solidity": 0.2
             }
            },
            "type": "bar"
           }
          ],
          "barpolar": [
           {
            "marker": {
             "line": {
              "color": "#E5ECF6",
              "width": 0.5
             },
             "pattern": {
              "fillmode": "overlay",
              "size": 10,
              "solidity": 0.2
             }
            },
            "type": "barpolar"
           }
          ],
          "carpet": [
           {
            "aaxis": {
             "endlinecolor": "#2a3f5f",
             "gridcolor": "white",
             "linecolor": "white",
             "minorgridcolor": "white",
             "startlinecolor": "#2a3f5f"
            },
            "baxis": {
             "endlinecolor": "#2a3f5f",
             "gridcolor": "white",
             "linecolor": "white",
             "minorgridcolor": "white",
             "startlinecolor": "#2a3f5f"
            },
            "type": "carpet"
           }
          ],
          "choropleth": [
           {
            "colorbar": {
             "outlinewidth": 0,
             "ticks": ""
            },
            "type": "choropleth"
           }
          ],
          "contour": [
           {
            "colorbar": {
             "outlinewidth": 0,
             "ticks": ""
            },
            "colorscale": [
             [
              0,
              "#0d0887"
             ],
             [
              0.1111111111111111,
              "#46039f"
             ],
             [
              0.2222222222222222,
              "#7201a8"
             ],
             [
              0.3333333333333333,
              "#9c179e"
             ],
             [
              0.4444444444444444,
              "#bd3786"
             ],
             [
              0.5555555555555556,
              "#d8576b"
             ],
             [
              0.6666666666666666,
              "#ed7953"
             ],
             [
              0.7777777777777778,
              "#fb9f3a"
             ],
             [
              0.8888888888888888,
              "#fdca26"
             ],
             [
              1,
              "#f0f921"
             ]
            ],
            "type": "contour"
           }
          ],
          "contourcarpet": [
           {
            "colorbar": {
             "outlinewidth": 0,
             "ticks": ""
            },
            "type": "contourcarpet"
           }
          ],
          "heatmap": [
           {
            "colorbar": {
             "outlinewidth": 0,
             "ticks": ""
            },
            "colorscale": [
             [
              0,
              "#0d0887"
             ],
             [
              0.1111111111111111,
              "#46039f"
             ],
             [
              0.2222222222222222,
              "#7201a8"
             ],
             [
              0.3333333333333333,
              "#9c179e"
             ],
             [
              0.4444444444444444,
              "#bd3786"
             ],
             [
              0.5555555555555556,
              "#d8576b"
             ],
             [
              0.6666666666666666,
              "#ed7953"
             ],
             [
              0.7777777777777778,
              "#fb9f3a"
             ],
             [
              0.8888888888888888,
              "#fdca26"
             ],
             [
              1,
              "#f0f921"
             ]
            ],
            "type": "heatmap"
           }
          ],
          "heatmapgl": [
           {
            "colorbar": {
             "outlinewidth": 0,
             "ticks": ""
            },
            "colorscale": [
             [
              0,
              "#0d0887"
             ],
             [
              0.1111111111111111,
              "#46039f"
             ],
             [
              0.2222222222222222,
              "#7201a8"
             ],
             [
              0.3333333333333333,
              "#9c179e"
             ],
             [
              0.4444444444444444,
              "#bd3786"
             ],
             [
              0.5555555555555556,
              "#d8576b"
             ],
             [
              0.6666666666666666,
              "#ed7953"
             ],
             [
              0.7777777777777778,
              "#fb9f3a"
             ],
             [
              0.8888888888888888,
              "#fdca26"
             ],
             [
              1,
              "#f0f921"
             ]
            ],
            "type": "heatmapgl"
           }
          ],
          "histogram": [
           {
            "marker": {
             "pattern": {
              "fillmode": "overlay",
              "size": 10,
              "solidity": 0.2
             }
            },
            "type": "histogram"
           }
          ],
          "histogram2d": [
           {
            "colorbar": {
             "outlinewidth": 0,
             "ticks": ""
            },
            "colorscale": [
             [
              0,
              "#0d0887"
             ],
             [
              0.1111111111111111,
              "#46039f"
             ],
             [
              0.2222222222222222,
              "#7201a8"
             ],
             [
              0.3333333333333333,
              "#9c179e"
             ],
             [
              0.4444444444444444,
              "#bd3786"
             ],
             [
              0.5555555555555556,
              "#d8576b"
             ],
             [
              0.6666666666666666,
              "#ed7953"
             ],
             [
              0.7777777777777778,
              "#fb9f3a"
             ],
             [
              0.8888888888888888,
              "#fdca26"
             ],
             [
              1,
              "#f0f921"
             ]
            ],
            "type": "histogram2d"
           }
          ],
          "histogram2dcontour": [
           {
            "colorbar": {
             "outlinewidth": 0,
             "ticks": ""
            },
            "colorscale": [
             [
              0,
              "#0d0887"
             ],
             [
              0.1111111111111111,
              "#46039f"
             ],
             [
              0.2222222222222222,
              "#7201a8"
             ],
             [
              0.3333333333333333,
              "#9c179e"
             ],
             [
              0.4444444444444444,
              "#bd3786"
             ],
             [
              0.5555555555555556,
              "#d8576b"
             ],
             [
              0.6666666666666666,
              "#ed7953"
             ],
             [
              0.7777777777777778,
              "#fb9f3a"
             ],
             [
              0.8888888888888888,
              "#fdca26"
             ],
             [
              1,
              "#f0f921"
             ]
            ],
            "type": "histogram2dcontour"
           }
          ],
          "mesh3d": [
           {
            "colorbar": {
             "outlinewidth": 0,
             "ticks": ""
            },
            "type": "mesh3d"
           }
          ],
          "parcoords": [
           {
            "line": {
             "colorbar": {
              "outlinewidth": 0,
              "ticks": ""
             }
            },
            "type": "parcoords"
           }
          ],
          "pie": [
           {
            "automargin": true,
            "type": "pie"
           }
          ],
          "scatter": [
           {
            "fillpattern": {
             "fillmode": "overlay",
             "size": 10,
             "solidity": 0.2
            },
            "type": "scatter"
           }
          ],
          "scatter3d": [
           {
            "line": {
             "colorbar": {
              "outlinewidth": 0,
              "ticks": ""
             }
            },
            "marker": {
             "colorbar": {
              "outlinewidth": 0,
              "ticks": ""
             }
            },
            "type": "scatter3d"
           }
          ],
          "scattercarpet": [
           {
            "marker": {
             "colorbar": {
              "outlinewidth": 0,
              "ticks": ""
             }
            },
            "type": "scattercarpet"
           }
          ],
          "scattergeo": [
           {
            "marker": {
             "colorbar": {
              "outlinewidth": 0,
              "ticks": ""
             }
            },
            "type": "scattergeo"
           }
          ],
          "scattergl": [
           {
            "marker": {
             "colorbar": {
              "outlinewidth": 0,
              "ticks": ""
             }
            },
            "type": "scattergl"
           }
          ],
          "scattermapbox": [
           {
            "marker": {
             "colorbar": {
              "outlinewidth": 0,
              "ticks": ""
             }
            },
            "type": "scattermapbox"
           }
          ],
          "scatterpolar": [
           {
            "marker": {
             "colorbar": {
              "outlinewidth": 0,
              "ticks": ""
             }
            },
            "type": "scatterpolar"
           }
          ],
          "scatterpolargl": [
           {
            "marker": {
             "colorbar": {
              "outlinewidth": 0,
              "ticks": ""
             }
            },
            "type": "scatterpolargl"
           }
          ],
          "scatterternary": [
           {
            "marker": {
             "colorbar": {
              "outlinewidth": 0,
              "ticks": ""
             }
            },
            "type": "scatterternary"
           }
          ],
          "surface": [
           {
            "colorbar": {
             "outlinewidth": 0,
             "ticks": ""
            },
            "colorscale": [
             [
              0,
              "#0d0887"
             ],
             [
              0.1111111111111111,
              "#46039f"
             ],
             [
              0.2222222222222222,
              "#7201a8"
             ],
             [
              0.3333333333333333,
              "#9c179e"
             ],
             [
              0.4444444444444444,
              "#bd3786"
             ],
             [
              0.5555555555555556,
              "#d8576b"
             ],
             [
              0.6666666666666666,
              "#ed7953"
             ],
             [
              0.7777777777777778,
              "#fb9f3a"
             ],
             [
              0.8888888888888888,
              "#fdca26"
             ],
             [
              1,
              "#f0f921"
             ]
            ],
            "type": "surface"
           }
          ],
          "table": [
           {
            "cells": {
             "fill": {
              "color": "#EBF0F8"
             },
             "line": {
              "color": "white"
             }
            },
            "header": {
             "fill": {
              "color": "#C8D4E3"
             },
             "line": {
              "color": "white"
             }
            },
            "type": "table"
           }
          ]
         },
         "layout": {
          "annotationdefaults": {
           "arrowcolor": "#2a3f5f",
           "arrowhead": 0,
           "arrowwidth": 1
          },
          "autotypenumbers": "strict",
          "coloraxis": {
           "colorbar": {
            "outlinewidth": 0,
            "ticks": ""
           }
          },
          "colorscale": {
           "diverging": [
            [
             0,
             "#8e0152"
            ],
            [
             0.1,
             "#c51b7d"
            ],
            [
             0.2,
             "#de77ae"
            ],
            [
             0.3,
             "#f1b6da"
            ],
            [
             0.4,
             "#fde0ef"
            ],
            [
             0.5,
             "#f7f7f7"
            ],
            [
             0.6,
             "#e6f5d0"
            ],
            [
             0.7,
             "#b8e186"
            ],
            [
             0.8,
             "#7fbc41"
            ],
            [
             0.9,
             "#4d9221"
            ],
            [
             1,
             "#276419"
            ]
           ],
           "sequential": [
            [
             0,
             "#0d0887"
            ],
            [
             0.1111111111111111,
             "#46039f"
            ],
            [
             0.2222222222222222,
             "#7201a8"
            ],
            [
             0.3333333333333333,
             "#9c179e"
            ],
            [
             0.4444444444444444,
             "#bd3786"
            ],
            [
             0.5555555555555556,
             "#d8576b"
            ],
            [
             0.6666666666666666,
             "#ed7953"
            ],
            [
             0.7777777777777778,
             "#fb9f3a"
            ],
            [
             0.8888888888888888,
             "#fdca26"
            ],
            [
             1,
             "#f0f921"
            ]
           ],
           "sequentialminus": [
            [
             0,
             "#0d0887"
            ],
            [
             0.1111111111111111,
             "#46039f"
            ],
            [
             0.2222222222222222,
             "#7201a8"
            ],
            [
             0.3333333333333333,
             "#9c179e"
            ],
            [
             0.4444444444444444,
             "#bd3786"
            ],
            [
             0.5555555555555556,
             "#d8576b"
            ],
            [
             0.6666666666666666,
             "#ed7953"
            ],
            [
             0.7777777777777778,
             "#fb9f3a"
            ],
            [
             0.8888888888888888,
             "#fdca26"
            ],
            [
             1,
             "#f0f921"
            ]
           ]
          },
          "colorway": [
           "#636efa",
           "#EF553B",
           "#00cc96",
           "#ab63fa",
           "#FFA15A",
           "#19d3f3",
           "#FF6692",
           "#B6E880",
           "#FF97FF",
           "#FECB52"
          ],
          "font": {
           "color": "#2a3f5f"
          },
          "geo": {
           "bgcolor": "white",
           "lakecolor": "white",
           "landcolor": "#E5ECF6",
           "showlakes": true,
           "showland": true,
           "subunitcolor": "white"
          },
          "hoverlabel": {
           "align": "left"
          },
          "hovermode": "closest",
          "mapbox": {
           "style": "light"
          },
          "paper_bgcolor": "white",
          "plot_bgcolor": "#E5ECF6",
          "polar": {
           "angularaxis": {
            "gridcolor": "white",
            "linecolor": "white",
            "ticks": ""
           },
           "bgcolor": "#E5ECF6",
           "radialaxis": {
            "gridcolor": "white",
            "linecolor": "white",
            "ticks": ""
           }
          },
          "scene": {
           "xaxis": {
            "backgroundcolor": "#E5ECF6",
            "gridcolor": "white",
            "gridwidth": 2,
            "linecolor": "white",
            "showbackground": true,
            "ticks": "",
            "zerolinecolor": "white"
           },
           "yaxis": {
            "backgroundcolor": "#E5ECF6",
            "gridcolor": "white",
            "gridwidth": 2,
            "linecolor": "white",
            "showbackground": true,
            "ticks": "",
            "zerolinecolor": "white"
           },
           "zaxis": {
            "backgroundcolor": "#E5ECF6",
            "gridcolor": "white",
            "gridwidth": 2,
            "linecolor": "white",
            "showbackground": true,
            "ticks": "",
            "zerolinecolor": "white"
           }
          },
          "shapedefaults": {
           "line": {
            "color": "#2a3f5f"
           }
          },
          "ternary": {
           "aaxis": {
            "gridcolor": "white",
            "linecolor": "white",
            "ticks": ""
           },
           "baxis": {
            "gridcolor": "white",
            "linecolor": "white",
            "ticks": ""
           },
           "bgcolor": "#E5ECF6",
           "caxis": {
            "gridcolor": "white",
            "linecolor": "white",
            "ticks": ""
           }
          },
          "title": {
           "x": 0.05
          },
          "xaxis": {
           "automargin": true,
           "gridcolor": "white",
           "linecolor": "white",
           "ticks": "",
           "title": {
            "standoff": 15
           },
           "zerolinecolor": "white",
           "zerolinewidth": 2
          },
          "yaxis": {
           "automargin": true,
           "gridcolor": "white",
           "linecolor": "white",
           "ticks": "",
           "title": {
            "standoff": 15
           },
           "zerolinecolor": "white",
           "zerolinewidth": 2
          }
         }
        },
        "title": {
         "text": "Battle Count of Each Combination of Models",
         "x": 0.5,
         "y": 0.07
        },
        "width": 800,
        "xaxis": {
         "anchor": "y",
         "constrain": "domain",
         "domain": [
          0,
          1
         ],
         "scaleanchor": "y",
         "side": "top",
         "title": {
          "text": "Model B"
         }
        },
        "yaxis": {
         "anchor": "x",
         "autorange": "reversed",
         "constrain": "domain",
         "domain": [
          0,
          1
         ],
         "title": {
          "text": "Model A"
         }
        }
       }
      }
     },
     "metadata": {},
     "output_type": "display_data"
    }
   ],
   "source": [
    "def visualize_battle_count(battles, title, show_num_models=30):\n",
    "    ptbl = pd.pivot_table(battles, index=\"model_a\", columns=\"model_b\", aggfunc=\"size\",\n",
    "                          fill_value=0)\n",
    "    battle_counts = ptbl + ptbl.T\n",
    "    ordering = battle_counts.sum().sort_values(ascending=False).index\n",
    "    ordering = ordering[:show_num_models]\n",
    "    fig = px.imshow(battle_counts.loc[ordering, ordering],\n",
    "                    title=title, text_auto=True)\n",
    "    fig.update_layout(xaxis_title=\"Model B\",\n",
    "                      yaxis_title=\"Model A\",\n",
    "                      xaxis_side=\"top\", height=800, width=800,\n",
    "                      title_y=0.07, title_x=0.5,\n",
    "                      font=dict(size=10))\n",
    "    fig.update_traces(hovertemplate=\n",
    "                      \"Model A: %{y}<br>Model B: %{x}<br>Count: %{z}<extra></extra>\")\n",
    "    return fig\n",
    "\n",
    "fig = visualize_battle_count(battles, title=\"Battle Count of Each Combination of Models\", show_num_models=30)\n",
    "fig"
   ]
  },
  {
   "cell_type": "code",
   "execution_count": 82,
   "metadata": {},
   "outputs": [
    {
     "data": {
      "application/vnd.plotly.v1+json": {
       "config": {
        "plotlyServerURL": "https://plot.ly"
       },
       "data": [
        {
         "coloraxis": "coloraxis",
         "hovertemplate": "Model A: %{y}<br>Model B: %{x}<br>Count: %{z}<extra></extra>",
         "name": "0",
         "texttemplate": "%{z}",
         "type": "heatmap",
         "x": [
          "vicuna-13b",
          "koala-13b",
          "gpt-3.5-turbo",
          "oasst-pythia-12b",
          "gpt-4",
          "alpaca-13b",
          "claude-v1",
          "RWKV-4-Raven-14B",
          "chatglm-6b",
          "fastchat-t5-3b",
          "palm-2",
          "stablelm-tuned-alpha-7b",
          "claude-instant-v1",
          "mpt-7b-chat",
          "dolly-v2-12b",
          "vicuna-7b",
          "llama-13b",
          "wizardlm-13b",
          "guanaco-33b",
          "gpt4all-13b-snoozy"
         ],
         "xaxis": "x",
         "y": [
          "vicuna-13b",
          "koala-13b",
          "gpt-3.5-turbo",
          "oasst-pythia-12b",
          "gpt-4",
          "alpaca-13b",
          "claude-v1",
          "RWKV-4-Raven-14B",
          "chatglm-6b",
          "fastchat-t5-3b",
          "palm-2",
          "stablelm-tuned-alpha-7b",
          "claude-instant-v1",
          "mpt-7b-chat",
          "dolly-v2-12b",
          "vicuna-7b",
          "llama-13b",
          "wizardlm-13b",
          "guanaco-33b",
          "gpt4all-13b-snoozy"
         ],
         "yaxis": "y",
         "z": [
          [
           0,
           411,
           210,
           328,
           207,
           236,
           179,
           171,
           203,
           132,
           110,
           182,
           108,
           119,
           197,
           96,
           172,
           35,
           33,
           39
          ],
          [
           411,
           0,
           246,
           242,
           214,
           222,
           194,
           139,
           151,
           137,
           131,
           151,
           97,
           115,
           164,
           91,
           124,
           28,
           22,
           26
          ],
          [
           210,
           246,
           0,
           218,
           172,
           207,
           185,
           202,
           147,
           174,
           128,
           114,
           90,
           122,
           135,
           122,
           92,
           46,
           41,
           43
          ],
          [
           328,
           242,
           218,
           0,
           233,
           174,
           201,
           116,
           157,
           109,
           105,
           129,
           96,
           98,
           126,
           69,
           100,
           49,
           43,
           31
          ],
          [
           207,
           214,
           172,
           233,
           0,
           182,
           165,
           201,
           162,
           152,
           116,
           141,
           87,
           147,
           113,
           121,
           69,
           33,
           42,
           41
          ],
          [
           236,
           222,
           207,
           174,
           182,
           0,
           201,
           121,
           159,
           115,
           88,
           126,
           84,
           72,
           121,
           73,
           100,
           24,
           19,
           22
          ],
          [
           179,
           194,
           185,
           201,
           165,
           201,
           0,
           196,
           133,
           127,
           113,
           85,
           69,
           127,
           87,
           116,
           60,
           37,
           20,
           47
          ],
          [
           171,
           139,
           202,
           116,
           201,
           121,
           196,
           0,
           78,
           79,
           107,
           66,
           92,
           87,
           51,
           83,
           40,
           40,
           40,
           20
          ],
          [
           203,
           151,
           147,
           157,
           162,
           159,
           133,
           78,
           0,
           73,
           76,
           75,
           77,
           57,
           88,
           49,
           62,
           10,
           21,
           18
          ],
          [
           132,
           137,
           174,
           109,
           152,
           115,
           127,
           79,
           73,
           0,
           83,
           62,
           78,
           67,
           66,
           71,
           56,
           33,
           21,
           21
          ],
          [
           110,
           131,
           128,
           105,
           116,
           88,
           113,
           107,
           76,
           83,
           0,
           26,
           107,
           110,
           44,
           109,
           11,
           46,
           43,
           45
          ],
          [
           182,
           151,
           114,
           129,
           141,
           126,
           85,
           66,
           75,
           62,
           26,
           0,
           38,
           52,
           79,
           42,
           98,
           6,
           7,
           4
          ],
          [
           108,
           97,
           90,
           96,
           87,
           84,
           69,
           92,
           77,
           78,
           107,
           38,
           0,
           99,
           29,
           213,
           7,
           27,
           46,
           37
          ],
          [
           119,
           115,
           122,
           98,
           147,
           72,
           127,
           87,
           57,
           67,
           110,
           52,
           99,
           0,
           29,
           69,
           8,
           39,
           33,
           28
          ],
          [
           197,
           164,
           135,
           126,
           113,
           121,
           87,
           51,
           88,
           66,
           44,
           79,
           29,
           29,
           0,
           31,
           73,
           9,
           7,
           4
          ],
          [
           96,
           91,
           122,
           69,
           121,
           73,
           116,
           83,
           49,
           71,
           109,
           42,
           213,
           69,
           31,
           0,
           10,
           36,
           31,
           18
          ],
          [
           172,
           124,
           92,
           100,
           69,
           100,
           60,
           40,
           62,
           56,
           11,
           98,
           7,
           8,
           73,
           10,
           0,
           3,
           4,
           3
          ],
          [
           35,
           28,
           46,
           49,
           33,
           24,
           37,
           40,
           10,
           33,
           46,
           6,
           27,
           39,
           9,
           36,
           3,
           0,
           33,
           43
          ],
          [
           33,
           22,
           41,
           43,
           42,
           19,
           20,
           40,
           21,
           21,
           43,
           7,
           46,
           33,
           7,
           31,
           4,
           33,
           0,
           31
          ],
          [
           39,
           26,
           43,
           31,
           41,
           22,
           47,
           20,
           18,
           21,
           45,
           4,
           37,
           28,
           4,
           18,
           3,
           43,
           31,
           0
          ]
         ]
        }
       ],
       "layout": {
        "coloraxis": {
         "colorscale": [
          [
           0,
           "#0d0887"
          ],
          [
           0.1111111111111111,
           "#46039f"
          ],
          [
           0.2222222222222222,
           "#7201a8"
          ],
          [
           0.3333333333333333,
           "#9c179e"
          ],
          [
           0.4444444444444444,
           "#bd3786"
          ],
          [
           0.5555555555555556,
           "#d8576b"
          ],
          [
           0.6666666666666666,
           "#ed7953"
          ],
          [
           0.7777777777777778,
           "#fb9f3a"
          ],
          [
           0.8888888888888888,
           "#fdca26"
          ],
          [
           1,
           "#f0f921"
          ]
         ]
        },
        "font": {
         "size": 10
        },
        "height": 800,
        "template": {
         "data": {
          "bar": [
           {
            "error_x": {
             "color": "#2a3f5f"
            },
            "error_y": {
             "color": "#2a3f5f"
            },
            "marker": {
             "line": {
              "color": "#E5ECF6",
              "width": 0.5
             },
             "pattern": {
              "fillmode": "overlay",
              "size": 10,
              "solidity": 0.2
             }
            },
            "type": "bar"
           }
          ],
          "barpolar": [
           {
            "marker": {
             "line": {
              "color": "#E5ECF6",
              "width": 0.5
             },
             "pattern": {
              "fillmode": "overlay",
              "size": 10,
              "solidity": 0.2
             }
            },
            "type": "barpolar"
           }
          ],
          "carpet": [
           {
            "aaxis": {
             "endlinecolor": "#2a3f5f",
             "gridcolor": "white",
             "linecolor": "white",
             "minorgridcolor": "white",
             "startlinecolor": "#2a3f5f"
            },
            "baxis": {
             "endlinecolor": "#2a3f5f",
             "gridcolor": "white",
             "linecolor": "white",
             "minorgridcolor": "white",
             "startlinecolor": "#2a3f5f"
            },
            "type": "carpet"
           }
          ],
          "choropleth": [
           {
            "colorbar": {
             "outlinewidth": 0,
             "ticks": ""
            },
            "type": "choropleth"
           }
          ],
          "contour": [
           {
            "colorbar": {
             "outlinewidth": 0,
             "ticks": ""
            },
            "colorscale": [
             [
              0,
              "#0d0887"
             ],
             [
              0.1111111111111111,
              "#46039f"
             ],
             [
              0.2222222222222222,
              "#7201a8"
             ],
             [
              0.3333333333333333,
              "#9c179e"
             ],
             [
              0.4444444444444444,
              "#bd3786"
             ],
             [
              0.5555555555555556,
              "#d8576b"
             ],
             [
              0.6666666666666666,
              "#ed7953"
             ],
             [
              0.7777777777777778,
              "#fb9f3a"
             ],
             [
              0.8888888888888888,
              "#fdca26"
             ],
             [
              1,
              "#f0f921"
             ]
            ],
            "type": "contour"
           }
          ],
          "contourcarpet": [
           {
            "colorbar": {
             "outlinewidth": 0,
             "ticks": ""
            },
            "type": "contourcarpet"
           }
          ],
          "heatmap": [
           {
            "colorbar": {
             "outlinewidth": 0,
             "ticks": ""
            },
            "colorscale": [
             [
              0,
              "#0d0887"
             ],
             [
              0.1111111111111111,
              "#46039f"
             ],
             [
              0.2222222222222222,
              "#7201a8"
             ],
             [
              0.3333333333333333,
              "#9c179e"
             ],
             [
              0.4444444444444444,
              "#bd3786"
             ],
             [
              0.5555555555555556,
              "#d8576b"
             ],
             [
              0.6666666666666666,
              "#ed7953"
             ],
             [
              0.7777777777777778,
              "#fb9f3a"
             ],
             [
              0.8888888888888888,
              "#fdca26"
             ],
             [
              1,
              "#f0f921"
             ]
            ],
            "type": "heatmap"
           }
          ],
          "heatmapgl": [
           {
            "colorbar": {
             "outlinewidth": 0,
             "ticks": ""
            },
            "colorscale": [
             [
              0,
              "#0d0887"
             ],
             [
              0.1111111111111111,
              "#46039f"
             ],
             [
              0.2222222222222222,
              "#7201a8"
             ],
             [
              0.3333333333333333,
              "#9c179e"
             ],
             [
              0.4444444444444444,
              "#bd3786"
             ],
             [
              0.5555555555555556,
              "#d8576b"
             ],
             [
              0.6666666666666666,
              "#ed7953"
             ],
             [
              0.7777777777777778,
              "#fb9f3a"
             ],
             [
              0.8888888888888888,
              "#fdca26"
             ],
             [
              1,
              "#f0f921"
             ]
            ],
            "type": "heatmapgl"
           }
          ],
          "histogram": [
           {
            "marker": {
             "pattern": {
              "fillmode": "overlay",
              "size": 10,
              "solidity": 0.2
             }
            },
            "type": "histogram"
           }
          ],
          "histogram2d": [
           {
            "colorbar": {
             "outlinewidth": 0,
             "ticks": ""
            },
            "colorscale": [
             [
              0,
              "#0d0887"
             ],
             [
              0.1111111111111111,
              "#46039f"
             ],
             [
              0.2222222222222222,
              "#7201a8"
             ],
             [
              0.3333333333333333,
              "#9c179e"
             ],
             [
              0.4444444444444444,
              "#bd3786"
             ],
             [
              0.5555555555555556,
              "#d8576b"
             ],
             [
              0.6666666666666666,
              "#ed7953"
             ],
             [
              0.7777777777777778,
              "#fb9f3a"
             ],
             [
              0.8888888888888888,
              "#fdca26"
             ],
             [
              1,
              "#f0f921"
             ]
            ],
            "type": "histogram2d"
           }
          ],
          "histogram2dcontour": [
           {
            "colorbar": {
             "outlinewidth": 0,
             "ticks": ""
            },
            "colorscale": [
             [
              0,
              "#0d0887"
             ],
             [
              0.1111111111111111,
              "#46039f"
             ],
             [
              0.2222222222222222,
              "#7201a8"
             ],
             [
              0.3333333333333333,
              "#9c179e"
             ],
             [
              0.4444444444444444,
              "#bd3786"
             ],
             [
              0.5555555555555556,
              "#d8576b"
             ],
             [
              0.6666666666666666,
              "#ed7953"
             ],
             [
              0.7777777777777778,
              "#fb9f3a"
             ],
             [
              0.8888888888888888,
              "#fdca26"
             ],
             [
              1,
              "#f0f921"
             ]
            ],
            "type": "histogram2dcontour"
           }
          ],
          "mesh3d": [
           {
            "colorbar": {
             "outlinewidth": 0,
             "ticks": ""
            },
            "type": "mesh3d"
           }
          ],
          "parcoords": [
           {
            "line": {
             "colorbar": {
              "outlinewidth": 0,
              "ticks": ""
             }
            },
            "type": "parcoords"
           }
          ],
          "pie": [
           {
            "automargin": true,
            "type": "pie"
           }
          ],
          "scatter": [
           {
            "fillpattern": {
             "fillmode": "overlay",
             "size": 10,
             "solidity": 0.2
            },
            "type": "scatter"
           }
          ],
          "scatter3d": [
           {
            "line": {
             "colorbar": {
              "outlinewidth": 0,
              "ticks": ""
             }
            },
            "marker": {
             "colorbar": {
              "outlinewidth": 0,
              "ticks": ""
             }
            },
            "type": "scatter3d"
           }
          ],
          "scattercarpet": [
           {
            "marker": {
             "colorbar": {
              "outlinewidth": 0,
              "ticks": ""
             }
            },
            "type": "scattercarpet"
           }
          ],
          "scattergeo": [
           {
            "marker": {
             "colorbar": {
              "outlinewidth": 0,
              "ticks": ""
             }
            },
            "type": "scattergeo"
           }
          ],
          "scattergl": [
           {
            "marker": {
             "colorbar": {
              "outlinewidth": 0,
              "ticks": ""
             }
            },
            "type": "scattergl"
           }
          ],
          "scattermapbox": [
           {
            "marker": {
             "colorbar": {
              "outlinewidth": 0,
              "ticks": ""
             }
            },
            "type": "scattermapbox"
           }
          ],
          "scatterpolar": [
           {
            "marker": {
             "colorbar": {
              "outlinewidth": 0,
              "ticks": ""
             }
            },
            "type": "scatterpolar"
           }
          ],
          "scatterpolargl": [
           {
            "marker": {
             "colorbar": {
              "outlinewidth": 0,
              "ticks": ""
             }
            },
            "type": "scatterpolargl"
           }
          ],
          "scatterternary": [
           {
            "marker": {
             "colorbar": {
              "outlinewidth": 0,
              "ticks": ""
             }
            },
            "type": "scatterternary"
           }
          ],
          "surface": [
           {
            "colorbar": {
             "outlinewidth": 0,
             "ticks": ""
            },
            "colorscale": [
             [
              0,
              "#0d0887"
             ],
             [
              0.1111111111111111,
              "#46039f"
             ],
             [
              0.2222222222222222,
              "#7201a8"
             ],
             [
              0.3333333333333333,
              "#9c179e"
             ],
             [
              0.4444444444444444,
              "#bd3786"
             ],
             [
              0.5555555555555556,
              "#d8576b"
             ],
             [
              0.6666666666666666,
              "#ed7953"
             ],
             [
              0.7777777777777778,
              "#fb9f3a"
             ],
             [
              0.8888888888888888,
              "#fdca26"
             ],
             [
              1,
              "#f0f921"
             ]
            ],
            "type": "surface"
           }
          ],
          "table": [
           {
            "cells": {
             "fill": {
              "color": "#EBF0F8"
             },
             "line": {
              "color": "white"
             }
            },
            "header": {
             "fill": {
              "color": "#C8D4E3"
             },
             "line": {
              "color": "white"
             }
            },
            "type": "table"
           }
          ]
         },
         "layout": {
          "annotationdefaults": {
           "arrowcolor": "#2a3f5f",
           "arrowhead": 0,
           "arrowwidth": 1
          },
          "autotypenumbers": "strict",
          "coloraxis": {
           "colorbar": {
            "outlinewidth": 0,
            "ticks": ""
           }
          },
          "colorscale": {
           "diverging": [
            [
             0,
             "#8e0152"
            ],
            [
             0.1,
             "#c51b7d"
            ],
            [
             0.2,
             "#de77ae"
            ],
            [
             0.3,
             "#f1b6da"
            ],
            [
             0.4,
             "#fde0ef"
            ],
            [
             0.5,
             "#f7f7f7"
            ],
            [
             0.6,
             "#e6f5d0"
            ],
            [
             0.7,
             "#b8e186"
            ],
            [
             0.8,
             "#7fbc41"
            ],
            [
             0.9,
             "#4d9221"
            ],
            [
             1,
             "#276419"
            ]
           ],
           "sequential": [
            [
             0,
             "#0d0887"
            ],
            [
             0.1111111111111111,
             "#46039f"
            ],
            [
             0.2222222222222222,
             "#7201a8"
            ],
            [
             0.3333333333333333,
             "#9c179e"
            ],
            [
             0.4444444444444444,
             "#bd3786"
            ],
            [
             0.5555555555555556,
             "#d8576b"
            ],
            [
             0.6666666666666666,
             "#ed7953"
            ],
            [
             0.7777777777777778,
             "#fb9f3a"
            ],
            [
             0.8888888888888888,
             "#fdca26"
            ],
            [
             1,
             "#f0f921"
            ]
           ],
           "sequentialminus": [
            [
             0,
             "#0d0887"
            ],
            [
             0.1111111111111111,
             "#46039f"
            ],
            [
             0.2222222222222222,
             "#7201a8"
            ],
            [
             0.3333333333333333,
             "#9c179e"
            ],
            [
             0.4444444444444444,
             "#bd3786"
            ],
            [
             0.5555555555555556,
             "#d8576b"
            ],
            [
             0.6666666666666666,
             "#ed7953"
            ],
            [
             0.7777777777777778,
             "#fb9f3a"
            ],
            [
             0.8888888888888888,
             "#fdca26"
            ],
            [
             1,
             "#f0f921"
            ]
           ]
          },
          "colorway": [
           "#636efa",
           "#EF553B",
           "#00cc96",
           "#ab63fa",
           "#FFA15A",
           "#19d3f3",
           "#FF6692",
           "#B6E880",
           "#FF97FF",
           "#FECB52"
          ],
          "font": {
           "color": "#2a3f5f"
          },
          "geo": {
           "bgcolor": "white",
           "lakecolor": "white",
           "landcolor": "#E5ECF6",
           "showlakes": true,
           "showland": true,
           "subunitcolor": "white"
          },
          "hoverlabel": {
           "align": "left"
          },
          "hovermode": "closest",
          "mapbox": {
           "style": "light"
          },
          "paper_bgcolor": "white",
          "plot_bgcolor": "#E5ECF6",
          "polar": {
           "angularaxis": {
            "gridcolor": "white",
            "linecolor": "white",
            "ticks": ""
           },
           "bgcolor": "#E5ECF6",
           "radialaxis": {
            "gridcolor": "white",
            "linecolor": "white",
            "ticks": ""
           }
          },
          "scene": {
           "xaxis": {
            "backgroundcolor": "#E5ECF6",
            "gridcolor": "white",
            "gridwidth": 2,
            "linecolor": "white",
            "showbackground": true,
            "ticks": "",
            "zerolinecolor": "white"
           },
           "yaxis": {
            "backgroundcolor": "#E5ECF6",
            "gridcolor": "white",
            "gridwidth": 2,
            "linecolor": "white",
            "showbackground": true,
            "ticks": "",
            "zerolinecolor": "white"
           },
           "zaxis": {
            "backgroundcolor": "#E5ECF6",
            "gridcolor": "white",
            "gridwidth": 2,
            "linecolor": "white",
            "showbackground": true,
            "ticks": "",
            "zerolinecolor": "white"
           }
          },
          "shapedefaults": {
           "line": {
            "color": "#2a3f5f"
           }
          },
          "ternary": {
           "aaxis": {
            "gridcolor": "white",
            "linecolor": "white",
            "ticks": ""
           },
           "baxis": {
            "gridcolor": "white",
            "linecolor": "white",
            "ticks": ""
           },
           "bgcolor": "#E5ECF6",
           "caxis": {
            "gridcolor": "white",
            "linecolor": "white",
            "ticks": ""
           }
          },
          "title": {
           "x": 0.05
          },
          "xaxis": {
           "automargin": true,
           "gridcolor": "white",
           "linecolor": "white",
           "ticks": "",
           "title": {
            "standoff": 15
           },
           "zerolinecolor": "white",
           "zerolinewidth": 2
          },
          "yaxis": {
           "automargin": true,
           "gridcolor": "white",
           "linecolor": "white",
           "ticks": "",
           "title": {
            "standoff": 15
           },
           "zerolinecolor": "white",
           "zerolinewidth": 2
          }
         }
        },
        "title": {
         "text": "Battle Count for Each Combination of Models (without Ties)",
         "x": 0.5,
         "y": 0.07
        },
        "width": 800,
        "xaxis": {
         "anchor": "y",
         "constrain": "domain",
         "domain": [
          0,
          1
         ],
         "scaleanchor": "y",
         "side": "top",
         "title": {
          "text": "Model B"
         }
        },
        "yaxis": {
         "anchor": "x",
         "autorange": "reversed",
         "constrain": "domain",
         "domain": [
          0,
          1
         ],
         "title": {
          "text": "Model A"
         }
        }
       }
      }
     },
     "metadata": {},
     "output_type": "display_data"
    }
   ],
   "source": [
    "visualize_battle_count(battles_no_ties, \"Battle Count for Each Combination of Models (without Ties)\")"
   ]
  },
  {
   "cell_type": "markdown",
   "metadata": {},
   "source": [
    "# Show the number of wins of each model vs every other Model"
   ]
  },
  {
   "cell_type": "code",
   "execution_count": 83,
   "metadata": {},
   "outputs": [
    {
     "data": {
      "application/vnd.plotly.v1+json": {
       "config": {
        "plotlyServerURL": "https://plot.ly"
       },
       "data": [
        {
         "coloraxis": "coloraxis",
         "hovertemplate": "Model A: %{y}<br>Model B: %{x}<br>Count: %{z}<extra></extra>",
         "name": "0",
         "texttemplate": "%{z}",
         "type": "heatmap",
         "x": [
          "koala-13b",
          "vicuna-13b",
          "oasst-pythia-12b",
          "alpaca-13b",
          "gpt-3.5-turbo",
          "chatglm-6b",
          "RWKV-4-Raven-14B",
          "fastchat-t5-3b",
          "claude-v1",
          "vicuna-7b",
          "mpt-7b-chat",
          "gpt-4",
          "stablelm-tuned-alpha-7b",
          "palm-2",
          "dolly-v2-12b",
          "claude-instant-v1",
          "llama-13b",
          "wizardlm-13b",
          "gpt4all-13b-snoozy",
          "guanaco-33b"
         ],
         "xaxis": "x",
         "y": [
          "koala-13b",
          "vicuna-13b",
          "oasst-pythia-12b",
          "alpaca-13b",
          "gpt-3.5-turbo",
          "chatglm-6b",
          "RWKV-4-Raven-14B",
          "fastchat-t5-3b",
          "claude-v1",
          "vicuna-7b",
          "mpt-7b-chat",
          "gpt-4",
          "stablelm-tuned-alpha-7b",
          "palm-2",
          "dolly-v2-12b",
          "claude-instant-v1",
          "llama-13b",
          "wizardlm-13b",
          "gpt4all-13b-snoozy",
          "guanaco-33b"
         ],
         "yaxis": "y",
         "z": [
          [
           0,
           246,
           126,
           98,
           86,
           79,
           75,
           99,
           64,
           49,
           70,
           51,
           59,
           49,
           58,
           30,
           66,
           10,
           16,
           10
          ],
          [
           246,
           0,
           127,
           100,
           90,
           90,
           60,
           66,
           63,
           59,
           57,
           65,
           50,
           66,
           51,
           42,
           45,
           15,
           22,
           20
          ],
          [
           126,
           127,
           0,
           99,
           56,
           82,
           78,
           84,
           43,
           52,
           63,
           37,
           90,
           37,
           73,
           19,
           50,
           11,
           19,
           14
          ],
          [
           98,
           100,
           99,
           0,
           60,
           81,
           61,
           72,
           37,
           46,
           51,
           17,
           81,
           29,
           70,
           18,
           54,
           6,
           17,
           10
          ],
          [
           86,
           90,
           56,
           60,
           0,
           40,
           54,
           53,
           92,
           43,
           33,
           109,
           18,
           45,
           26,
           41,
           16,
           20,
           10,
           16
          ],
          [
           79,
           90,
           82,
           81,
           40,
           0,
           62,
           67,
           27,
           37,
           45,
           21,
           70,
           33,
           61,
           22,
           38,
           17,
           11,
           6
          ],
          [
           75,
           60,
           78,
           61,
           54,
           62,
           0,
           57,
           39,
           43,
           62,
           45,
           51,
           42,
           46,
           30,
           28,
           13,
           19,
           13
          ],
          [
           99,
           66,
           84,
           72,
           53,
           67,
           57,
           0,
           25,
           35,
           39,
           23,
           42,
           39,
           42,
           17,
           31,
           12,
           8,
           7
          ],
          [
           64,
           63,
           43,
           37,
           92,
           27,
           39,
           25,
           0,
           36,
           38,
           88,
           16,
           57,
           15,
           42,
           4,
           13,
           12,
           18
          ],
          [
           49,
           59,
           52,
           46,
           43,
           37,
           43,
           35,
           36,
           0,
           39,
           38,
           16,
           46,
           18,
           93,
           0,
           20,
           14,
           14
          ],
          [
           70,
           57,
           63,
           51,
           33,
           45,
           62,
           39,
           38,
           39,
           0,
           33,
           22,
           51,
           21,
           22,
           6,
           20,
           10,
           14
          ],
          [
           51,
           65,
           37,
           17,
           109,
           21,
           45,
           23,
           88,
           38,
           33,
           0,
           22,
           47,
           9,
           38,
           5,
           16,
           8,
           10
          ],
          [
           59,
           50,
           90,
           81,
           18,
           70,
           51,
           42,
           16,
           16,
           22,
           22,
           0,
           17,
           57,
           14,
           39,
           6,
           5,
           4
          ],
          [
           49,
           66,
           37,
           29,
           45,
           33,
           42,
           39,
           57,
           46,
           51,
           47,
           17,
           0,
           11,
           45,
           0,
           25,
           19,
           16
          ],
          [
           58,
           51,
           73,
           70,
           26,
           61,
           46,
           42,
           15,
           18,
           21,
           9,
           57,
           11,
           0,
           12,
           62,
           4,
           5,
           1
          ],
          [
           30,
           42,
           19,
           18,
           41,
           22,
           30,
           17,
           42,
           93,
           22,
           38,
           14,
           45,
           12,
           0,
           3,
           23,
           4,
           15
          ],
          [
           66,
           45,
           50,
           54,
           16,
           38,
           28,
           31,
           4,
           0,
           6,
           5,
           39,
           0,
           62,
           3,
           0,
           1,
           2,
           1
          ],
          [
           10,
           15,
           11,
           6,
           20,
           17,
           13,
           12,
           13,
           20,
           20,
           16,
           6,
           25,
           4,
           23,
           1,
           0,
           18,
           17
          ],
          [
           16,
           22,
           19,
           17,
           10,
           11,
           19,
           8,
           12,
           14,
           10,
           8,
           5,
           19,
           5,
           4,
           2,
           18,
           0,
           14
          ],
          [
           10,
           20,
           14,
           10,
           16,
           6,
           13,
           7,
           18,
           14,
           14,
           10,
           4,
           16,
           1,
           15,
           1,
           17,
           14,
           0
          ]
         ]
        }
       ],
       "layout": {
        "coloraxis": {
         "colorscale": [
          [
           0,
           "#0d0887"
          ],
          [
           0.1111111111111111,
           "#46039f"
          ],
          [
           0.2222222222222222,
           "#7201a8"
          ],
          [
           0.3333333333333333,
           "#9c179e"
          ],
          [
           0.4444444444444444,
           "#bd3786"
          ],
          [
           0.5555555555555556,
           "#d8576b"
          ],
          [
           0.6666666666666666,
           "#ed7953"
          ],
          [
           0.7777777777777778,
           "#fb9f3a"
          ],
          [
           0.8888888888888888,
           "#fdca26"
          ],
          [
           1,
           "#f0f921"
          ]
         ]
        },
        "font": {
         "size": 10
        },
        "height": 800,
        "template": {
         "data": {
          "bar": [
           {
            "error_x": {
             "color": "#2a3f5f"
            },
            "error_y": {
             "color": "#2a3f5f"
            },
            "marker": {
             "line": {
              "color": "#E5ECF6",
              "width": 0.5
             },
             "pattern": {
              "fillmode": "overlay",
              "size": 10,
              "solidity": 0.2
             }
            },
            "type": "bar"
           }
          ],
          "barpolar": [
           {
            "marker": {
             "line": {
              "color": "#E5ECF6",
              "width": 0.5
             },
             "pattern": {
              "fillmode": "overlay",
              "size": 10,
              "solidity": 0.2
             }
            },
            "type": "barpolar"
           }
          ],
          "carpet": [
           {
            "aaxis": {
             "endlinecolor": "#2a3f5f",
             "gridcolor": "white",
             "linecolor": "white",
             "minorgridcolor": "white",
             "startlinecolor": "#2a3f5f"
            },
            "baxis": {
             "endlinecolor": "#2a3f5f",
             "gridcolor": "white",
             "linecolor": "white",
             "minorgridcolor": "white",
             "startlinecolor": "#2a3f5f"
            },
            "type": "carpet"
           }
          ],
          "choropleth": [
           {
            "colorbar": {
             "outlinewidth": 0,
             "ticks": ""
            },
            "type": "choropleth"
           }
          ],
          "contour": [
           {
            "colorbar": {
             "outlinewidth": 0,
             "ticks": ""
            },
            "colorscale": [
             [
              0,
              "#0d0887"
             ],
             [
              0.1111111111111111,
              "#46039f"
             ],
             [
              0.2222222222222222,
              "#7201a8"
             ],
             [
              0.3333333333333333,
              "#9c179e"
             ],
             [
              0.4444444444444444,
              "#bd3786"
             ],
             [
              0.5555555555555556,
              "#d8576b"
             ],
             [
              0.6666666666666666,
              "#ed7953"
             ],
             [
              0.7777777777777778,
              "#fb9f3a"
             ],
             [
              0.8888888888888888,
              "#fdca26"
             ],
             [
              1,
              "#f0f921"
             ]
            ],
            "type": "contour"
           }
          ],
          "contourcarpet": [
           {
            "colorbar": {
             "outlinewidth": 0,
             "ticks": ""
            },
            "type": "contourcarpet"
           }
          ],
          "heatmap": [
           {
            "colorbar": {
             "outlinewidth": 0,
             "ticks": ""
            },
            "colorscale": [
             [
              0,
              "#0d0887"
             ],
             [
              0.1111111111111111,
              "#46039f"
             ],
             [
              0.2222222222222222,
              "#7201a8"
             ],
             [
              0.3333333333333333,
              "#9c179e"
             ],
             [
              0.4444444444444444,
              "#bd3786"
             ],
             [
              0.5555555555555556,
              "#d8576b"
             ],
             [
              0.6666666666666666,
              "#ed7953"
             ],
             [
              0.7777777777777778,
              "#fb9f3a"
             ],
             [
              0.8888888888888888,
              "#fdca26"
             ],
             [
              1,
              "#f0f921"
             ]
            ],
            "type": "heatmap"
           }
          ],
          "heatmapgl": [
           {
            "colorbar": {
             "outlinewidth": 0,
             "ticks": ""
            },
            "colorscale": [
             [
              0,
              "#0d0887"
             ],
             [
              0.1111111111111111,
              "#46039f"
             ],
             [
              0.2222222222222222,
              "#7201a8"
             ],
             [
              0.3333333333333333,
              "#9c179e"
             ],
             [
              0.4444444444444444,
              "#bd3786"
             ],
             [
              0.5555555555555556,
              "#d8576b"
             ],
             [
              0.6666666666666666,
              "#ed7953"
             ],
             [
              0.7777777777777778,
              "#fb9f3a"
             ],
             [
              0.8888888888888888,
              "#fdca26"
             ],
             [
              1,
              "#f0f921"
             ]
            ],
            "type": "heatmapgl"
           }
          ],
          "histogram": [
           {
            "marker": {
             "pattern": {
              "fillmode": "overlay",
              "size": 10,
              "solidity": 0.2
             }
            },
            "type": "histogram"
           }
          ],
          "histogram2d": [
           {
            "colorbar": {
             "outlinewidth": 0,
             "ticks": ""
            },
            "colorscale": [
             [
              0,
              "#0d0887"
             ],
             [
              0.1111111111111111,
              "#46039f"
             ],
             [
              0.2222222222222222,
              "#7201a8"
             ],
             [
              0.3333333333333333,
              "#9c179e"
             ],
             [
              0.4444444444444444,
              "#bd3786"
             ],
             [
              0.5555555555555556,
              "#d8576b"
             ],
             [
              0.6666666666666666,
              "#ed7953"
             ],
             [
              0.7777777777777778,
              "#fb9f3a"
             ],
             [
              0.8888888888888888,
              "#fdca26"
             ],
             [
              1,
              "#f0f921"
             ]
            ],
            "type": "histogram2d"
           }
          ],
          "histogram2dcontour": [
           {
            "colorbar": {
             "outlinewidth": 0,
             "ticks": ""
            },
            "colorscale": [
             [
              0,
              "#0d0887"
             ],
             [
              0.1111111111111111,
              "#46039f"
             ],
             [
              0.2222222222222222,
              "#7201a8"
             ],
             [
              0.3333333333333333,
              "#9c179e"
             ],
             [
              0.4444444444444444,
              "#bd3786"
             ],
             [
              0.5555555555555556,
              "#d8576b"
             ],
             [
              0.6666666666666666,
              "#ed7953"
             ],
             [
              0.7777777777777778,
              "#fb9f3a"
             ],
             [
              0.8888888888888888,
              "#fdca26"
             ],
             [
              1,
              "#f0f921"
             ]
            ],
            "type": "histogram2dcontour"
           }
          ],
          "mesh3d": [
           {
            "colorbar": {
             "outlinewidth": 0,
             "ticks": ""
            },
            "type": "mesh3d"
           }
          ],
          "parcoords": [
           {
            "line": {
             "colorbar": {
              "outlinewidth": 0,
              "ticks": ""
             }
            },
            "type": "parcoords"
           }
          ],
          "pie": [
           {
            "automargin": true,
            "type": "pie"
           }
          ],
          "scatter": [
           {
            "fillpattern": {
             "fillmode": "overlay",
             "size": 10,
             "solidity": 0.2
            },
            "type": "scatter"
           }
          ],
          "scatter3d": [
           {
            "line": {
             "colorbar": {
              "outlinewidth": 0,
              "ticks": ""
             }
            },
            "marker": {
             "colorbar": {
              "outlinewidth": 0,
              "ticks": ""
             }
            },
            "type": "scatter3d"
           }
          ],
          "scattercarpet": [
           {
            "marker": {
             "colorbar": {
              "outlinewidth": 0,
              "ticks": ""
             }
            },
            "type": "scattercarpet"
           }
          ],
          "scattergeo": [
           {
            "marker": {
             "colorbar": {
              "outlinewidth": 0,
              "ticks": ""
             }
            },
            "type": "scattergeo"
           }
          ],
          "scattergl": [
           {
            "marker": {
             "colorbar": {
              "outlinewidth": 0,
              "ticks": ""
             }
            },
            "type": "scattergl"
           }
          ],
          "scattermapbox": [
           {
            "marker": {
             "colorbar": {
              "outlinewidth": 0,
              "ticks": ""
             }
            },
            "type": "scattermapbox"
           }
          ],
          "scatterpolar": [
           {
            "marker": {
             "colorbar": {
              "outlinewidth": 0,
              "ticks": ""
             }
            },
            "type": "scatterpolar"
           }
          ],
          "scatterpolargl": [
           {
            "marker": {
             "colorbar": {
              "outlinewidth": 0,
              "ticks": ""
             }
            },
            "type": "scatterpolargl"
           }
          ],
          "scatterternary": [
           {
            "marker": {
             "colorbar": {
              "outlinewidth": 0,
              "ticks": ""
             }
            },
            "type": "scatterternary"
           }
          ],
          "surface": [
           {
            "colorbar": {
             "outlinewidth": 0,
             "ticks": ""
            },
            "colorscale": [
             [
              0,
              "#0d0887"
             ],
             [
              0.1111111111111111,
              "#46039f"
             ],
             [
              0.2222222222222222,
              "#7201a8"
             ],
             [
              0.3333333333333333,
              "#9c179e"
             ],
             [
              0.4444444444444444,
              "#bd3786"
             ],
             [
              0.5555555555555556,
              "#d8576b"
             ],
             [
              0.6666666666666666,
              "#ed7953"
             ],
             [
              0.7777777777777778,
              "#fb9f3a"
             ],
             [
              0.8888888888888888,
              "#fdca26"
             ],
             [
              1,
              "#f0f921"
             ]
            ],
            "type": "surface"
           }
          ],
          "table": [
           {
            "cells": {
             "fill": {
              "color": "#EBF0F8"
             },
             "line": {
              "color": "white"
             }
            },
            "header": {
             "fill": {
              "color": "#C8D4E3"
             },
             "line": {
              "color": "white"
             }
            },
            "type": "table"
           }
          ]
         },
         "layout": {
          "annotationdefaults": {
           "arrowcolor": "#2a3f5f",
           "arrowhead": 0,
           "arrowwidth": 1
          },
          "autotypenumbers": "strict",
          "coloraxis": {
           "colorbar": {
            "outlinewidth": 0,
            "ticks": ""
           }
          },
          "colorscale": {
           "diverging": [
            [
             0,
             "#8e0152"
            ],
            [
             0.1,
             "#c51b7d"
            ],
            [
             0.2,
             "#de77ae"
            ],
            [
             0.3,
             "#f1b6da"
            ],
            [
             0.4,
             "#fde0ef"
            ],
            [
             0.5,
             "#f7f7f7"
            ],
            [
             0.6,
             "#e6f5d0"
            ],
            [
             0.7,
             "#b8e186"
            ],
            [
             0.8,
             "#7fbc41"
            ],
            [
             0.9,
             "#4d9221"
            ],
            [
             1,
             "#276419"
            ]
           ],
           "sequential": [
            [
             0,
             "#0d0887"
            ],
            [
             0.1111111111111111,
             "#46039f"
            ],
            [
             0.2222222222222222,
             "#7201a8"
            ],
            [
             0.3333333333333333,
             "#9c179e"
            ],
            [
             0.4444444444444444,
             "#bd3786"
            ],
            [
             0.5555555555555556,
             "#d8576b"
            ],
            [
             0.6666666666666666,
             "#ed7953"
            ],
            [
             0.7777777777777778,
             "#fb9f3a"
            ],
            [
             0.8888888888888888,
             "#fdca26"
            ],
            [
             1,
             "#f0f921"
            ]
           ],
           "sequentialminus": [
            [
             0,
             "#0d0887"
            ],
            [
             0.1111111111111111,
             "#46039f"
            ],
            [
             0.2222222222222222,
             "#7201a8"
            ],
            [
             0.3333333333333333,
             "#9c179e"
            ],
            [
             0.4444444444444444,
             "#bd3786"
            ],
            [
             0.5555555555555556,
             "#d8576b"
            ],
            [
             0.6666666666666666,
             "#ed7953"
            ],
            [
             0.7777777777777778,
             "#fb9f3a"
            ],
            [
             0.8888888888888888,
             "#fdca26"
            ],
            [
             1,
             "#f0f921"
            ]
           ]
          },
          "colorway": [
           "#636efa",
           "#EF553B",
           "#00cc96",
           "#ab63fa",
           "#FFA15A",
           "#19d3f3",
           "#FF6692",
           "#B6E880",
           "#FF97FF",
           "#FECB52"
          ],
          "font": {
           "color": "#2a3f5f"
          },
          "geo": {
           "bgcolor": "white",
           "lakecolor": "white",
           "landcolor": "#E5ECF6",
           "showlakes": true,
           "showland": true,
           "subunitcolor": "white"
          },
          "hoverlabel": {
           "align": "left"
          },
          "hovermode": "closest",
          "mapbox": {
           "style": "light"
          },
          "paper_bgcolor": "white",
          "plot_bgcolor": "#E5ECF6",
          "polar": {
           "angularaxis": {
            "gridcolor": "white",
            "linecolor": "white",
            "ticks": ""
           },
           "bgcolor": "#E5ECF6",
           "radialaxis": {
            "gridcolor": "white",
            "linecolor": "white",
            "ticks": ""
           }
          },
          "scene": {
           "xaxis": {
            "backgroundcolor": "#E5ECF6",
            "gridcolor": "white",
            "gridwidth": 2,
            "linecolor": "white",
            "showbackground": true,
            "ticks": "",
            "zerolinecolor": "white"
           },
           "yaxis": {
            "backgroundcolor": "#E5ECF6",
            "gridcolor": "white",
            "gridwidth": 2,
            "linecolor": "white",
            "showbackground": true,
            "ticks": "",
            "zerolinecolor": "white"
           },
           "zaxis": {
            "backgroundcolor": "#E5ECF6",
            "gridcolor": "white",
            "gridwidth": 2,
            "linecolor": "white",
            "showbackground": true,
            "ticks": "",
            "zerolinecolor": "white"
           }
          },
          "shapedefaults": {
           "line": {
            "color": "#2a3f5f"
           }
          },
          "ternary": {
           "aaxis": {
            "gridcolor": "white",
            "linecolor": "white",
            "ticks": ""
           },
           "baxis": {
            "gridcolor": "white",
            "linecolor": "white",
            "ticks": ""
           },
           "bgcolor": "#E5ECF6",
           "caxis": {
            "gridcolor": "white",
            "linecolor": "white",
            "ticks": ""
           }
          },
          "title": {
           "x": 0.05
          },
          "xaxis": {
           "automargin": true,
           "gridcolor": "white",
           "linecolor": "white",
           "ticks": "",
           "title": {
            "standoff": 15
           },
           "zerolinecolor": "white",
           "zerolinewidth": 2
          },
          "yaxis": {
           "automargin": true,
           "gridcolor": "white",
           "linecolor": "white",
           "ticks": "",
           "title": {
            "standoff": 15
           },
           "zerolinecolor": "white",
           "zerolinewidth": 2
          }
         }
        },
        "title": {
         "text": "Tie Count for Each Combination of Models",
         "x": 0.5,
         "y": 0.07
        },
        "width": 800,
        "xaxis": {
         "anchor": "y",
         "constrain": "domain",
         "domain": [
          0,
          1
         ],
         "scaleanchor": "y",
         "side": "top",
         "title": {
          "text": "Model B"
         }
        },
        "yaxis": {
         "anchor": "x",
         "autorange": "reversed",
         "constrain": "domain",
         "domain": [
          0,
          1
         ],
         "title": {
          "text": "Model A"
         }
        }
       }
      }
     },
     "metadata": {},
     "output_type": "display_data"
    }
   ],
   "source": [
    "visualize_battle_count(battles[battles['winner'].str.contains(\"tie\")], \"Tie Count for Each Combination of Models\")"
   ]
  },
  {
   "cell_type": "code",
   "execution_count": 84,
   "metadata": {},
   "outputs": [],
   "source": [
    "def compute_pairwise_win_fraction(battles, max_num_models=30):\n",
    "    # Times each model wins as Model A\n",
    "    a_win_ptbl = pd.pivot_table(\n",
    "        battles[battles['winner'] == \"model_a\"],\n",
    "        index=\"model_a\", columns=\"model_b\", aggfunc=\"size\", fill_value=0)\n",
    "\n",
    "    # Table counting times each model wins as Model B\n",
    "    b_win_ptbl = pd.pivot_table(\n",
    "        battles[battles['winner'] == \"model_b\"],\n",
    "        index=\"model_a\", columns=\"model_b\", aggfunc=\"size\", fill_value=0)\n",
    "\n",
    "    # Table counting number of A-B pairs\n",
    "    num_battles_ptbl = pd.pivot_table(battles,\n",
    "        index=\"model_a\", columns=\"model_b\", aggfunc=\"size\", fill_value=0)\n",
    "\n",
    "    # Computing the proportion of wins for each model as A and as B\n",
    "    # against all other models\n",
    "    row_beats_col_freq = (\n",
    "        (a_win_ptbl + b_win_ptbl.T) /\n",
    "        (num_battles_ptbl + num_battles_ptbl.T)\n",
    "    )\n",
    "\n",
    "    # Arrange ordering according to proprition of wins\n",
    "    prop_wins = row_beats_col_freq.mean(axis=1).sort_values(ascending=False)\n",
    "    prop_wins = prop_wins[:max_num_models]\n",
    "    model_names = list(prop_wins.keys())\n",
    "    row_beats_col = row_beats_col_freq.loc[model_names, model_names]\n",
    "    return row_beats_col\n",
    "\n",
    "def visualize_pairwise_win_fraction(battles, title, max_num_models=30):\n",
    "    row_beats_col = compute_pairwise_win_fraction(battles, max_num_models)\n",
    "    fig = px.imshow(row_beats_col, color_continuous_scale='RdBu',\n",
    "                    text_auto=\".2f\", title=title)\n",
    "    fig.update_layout(xaxis_title=\" Model B: Loser\",\n",
    "                  yaxis_title=\"Model A: Winner\",\n",
    "                  xaxis_side=\"top\", height=900, width=900,\n",
    "                  title_y=0.07, title_x=0.5)\n",
    "    fig.update_traces(hovertemplate=\n",
    "                  \"Model A: %{y}<br>Model B: %{x}<br>Fraction of A Wins: %{z}<extra></extra>\")\n",
    "\n",
    "    return fig"
   ]
  },
  {
   "cell_type": "code",
   "execution_count": 85,
   "metadata": {},
   "outputs": [
    {
     "data": {
      "application/vnd.plotly.v1+json": {
       "config": {
        "plotlyServerURL": "https://plot.ly"
       },
       "data": [
        {
         "coloraxis": "coloraxis",
         "hovertemplate": "Model A: %{y}<br>Model B: %{x}<br>Fraction of A Wins: %{z}<extra></extra>",
         "name": "0",
         "texttemplate": "%{z:.2f}",
         "type": "heatmap",
         "x": [
          "gpt-4",
          "claude-v1",
          "claude-instant-v1",
          "gpt-3.5-turbo",
          "palm-2",
          "guanaco-33b",
          "vicuna-13b",
          "wizardlm-13b",
          "vicuna-7b",
          "koala-13b",
          "gpt4all-13b-snoozy",
          "mpt-7b-chat",
          "RWKV-4-Raven-14B",
          "alpaca-13b",
          "oasst-pythia-12b",
          "chatglm-6b",
          "fastchat-t5-3b",
          "llama-13b",
          "stablelm-tuned-alpha-7b",
          "dolly-v2-12b"
         ],
         "xaxis": "x",
         "y": [
          "gpt-4",
          "claude-v1",
          "claude-instant-v1",
          "gpt-3.5-turbo",
          "palm-2",
          "guanaco-33b",
          "vicuna-13b",
          "wizardlm-13b",
          "vicuna-7b",
          "koala-13b",
          "gpt4all-13b-snoozy",
          "mpt-7b-chat",
          "RWKV-4-Raven-14B",
          "alpaca-13b",
          "oasst-pythia-12b",
          "chatglm-6b",
          "fastchat-t5-3b",
          "llama-13b",
          "stablelm-tuned-alpha-7b",
          "dolly-v2-12b"
         ],
         "yaxis": "y",
         "z": [
          [
           null,
           0.5454545454545454,
           0.6896551724137931,
           0.7790697674418605,
           0.7758620689655172,
           0.6428571428571429,
           0.8792270531400966,
           0.8181818181818182,
           0.8016528925619835,
           0.8598130841121495,
           0.8536585365853658,
           0.9183673469387755,
           0.8905472636815921,
           0.9560439560439561,
           0.9098712446351931,
           0.9074074074074074,
           0.9144736842105263,
           0.9710144927536232,
           0.9290780141843972,
           0.9557522123893806
          ],
          [
           0.45454545454545453,
           null,
           0.5072463768115942,
           0.5837837837837838,
           0.7256637168141593,
           0.65,
           0.7932960893854749,
           0.7837837837837838,
           0.7672413793103449,
           0.7835051546391752,
           0.9148936170212766,
           0.8740157480314961,
           0.8622448979591837,
           0.9104477611940298,
           0.8855721393034826,
           0.8796992481203008,
           0.9606299212598425,
           0.9833333333333333,
           0.8941176470588236,
           0.9425287356321839
          ],
          [
           0.3103448275862069,
           0.4927536231884058,
           null,
           0.5666666666666667,
           0.7476635514018691,
           0.782608695652174,
           0.7129629629629629,
           0.7407407407407407,
           0.812206572769953,
           0.8350515463917526,
           0.7027027027027027,
           0.8484848484848485,
           0.8695652173913043,
           0.8214285714285714,
           0.8229166666666666,
           0.9090909090909091,
           0.8846153846153846,
           0.5714285714285714,
           0.9736842105263158,
           0.8620689655172413
          ],
          [
           0.22093023255813954,
           0.41621621621621624,
           0.43333333333333335,
           null,
           0.5859375,
           0.43902439024390244,
           0.6047619047619047,
           0.6956521739130435,
           0.7377049180327869,
           0.7357723577235772,
           0.6744186046511628,
           0.7786885245901639,
           0.7871287128712872,
           0.8840579710144928,
           0.8394495412844036,
           0.8979591836734694,
           0.8620689655172413,
           0.9456521739130435,
           0.9122807017543859,
           0.9111111111111111
          ],
          [
           0.22413793103448276,
           0.2743362831858407,
           0.2523364485981308,
           0.4140625,
           null,
           0.4418604651162791,
           0.5818181818181818,
           0.43478260869565216,
           0.6605504587155964,
           0.6870229007633588,
           0.6888888888888889,
           0.7,
           0.8130841121495327,
           0.7613636363636364,
           0.7714285714285715,
           0.8157894736842105,
           0.7831325301204819,
           0.9090909090909091,
           0.9230769230769231,
           0.9090909090909091
          ],
          [
           0.35714285714285715,
           0.35,
           0.21739130434782608,
           0.5609756097560976,
           0.5581395348837209,
           null,
           0.5454545454545454,
           0.6363636363636364,
           0.6129032258064516,
           0.5,
           0.8387096774193549,
           0.7878787878787878,
           0.7,
           0.6842105263157895,
           0.7906976744186046,
           0.7142857142857143,
           0.8571428571428571,
           0.75,
           0.8571428571428571,
           0.7142857142857143
          ],
          [
           0.12077294685990338,
           0.20670391061452514,
           0.28703703703703703,
           0.3952380952380952,
           0.41818181818181815,
           0.45454545454545453,
           null,
           0.5428571428571428,
           0.5416666666666666,
           0.6180048661800487,
           0.717948717948718,
           0.680672268907563,
           0.7368421052631579,
           0.788135593220339,
           0.75,
           0.8374384236453202,
           0.7954545454545454,
           0.877906976744186,
           0.8241758241758241,
           0.8578680203045685
          ],
          [
           0.18181818181818182,
           0.21621621621621623,
           0.25925925925925924,
           0.30434782608695654,
           0.5652173913043478,
           0.36363636363636365,
           0.45714285714285713,
           null,
           0.6388888888888888,
           0.5,
           0.6046511627906976,
           0.6666666666666666,
           0.65,
           0.75,
           0.8571428571428571,
           0.6,
           0.7575757575757576,
           0.6666666666666666,
           0.8333333333333334,
           1
          ],
          [
           0.19834710743801653,
           0.23275862068965517,
           0.18779342723004694,
           0.26229508196721313,
           0.3394495412844037,
           0.3870967741935484,
           0.4583333333333333,
           0.3611111111111111,
           null,
           0.5824175824175825,
           1,
           0.6376811594202898,
           0.6626506024096386,
           0.6986301369863014,
           0.7391304347826086,
           0.6326530612244898,
           0.7605633802816901,
           0.8,
           0.7380952380952381,
           0.8709677419354839
          ],
          [
           0.14018691588785046,
           0.21649484536082475,
           0.16494845360824742,
           0.26422764227642276,
           0.31297709923664124,
           0.5,
           0.3819951338199513,
           0.5,
           0.4175824175824176,
           null,
           0.8461538461538461,
           0.6695652173913044,
           0.5755395683453237,
           0.6846846846846847,
           0.7024793388429752,
           0.7417218543046358,
           0.7591240875912408,
           0.8467741935483871,
           0.7947019867549668,
           0.7987804878048781
          ],
          [
           0.14634146341463414,
           0.0851063829787234,
           0.2972972972972973,
           0.32558139534883723,
           0.3111111111111111,
           0.16129032258064516,
           0.28205128205128205,
           0.3953488372093023,
           0,
           0.15384615384615385,
           null,
           0.4642857142857143,
           0.7,
           0.6363636363636364,
           0.5806451612903226,
           0.4444444444444444,
           0.7619047619047619,
           0.6666666666666666,
           1,
           0.75
          ],
          [
           0.08163265306122448,
           0.12598425196850394,
           0.15151515151515152,
           0.22131147540983606,
           0.3,
           0.21212121212121213,
           0.31932773109243695,
           0.3333333333333333,
           0.36231884057971014,
           0.33043478260869563,
           0.5357142857142857,
           null,
           0.5517241379310345,
           0.5833333333333334,
           0.5306122448979592,
           0.7543859649122807,
           0.4925373134328358,
           0.625,
           0.6923076923076923,
           0.7586206896551724
          ],
          [
           0.10945273631840796,
           0.1377551020408163,
           0.13043478260869565,
           0.21287128712871287,
           0.18691588785046728,
           0.3,
           0.2631578947368421,
           0.35,
           0.3373493975903614,
           0.4244604316546763,
           0.3,
           0.4482758620689655,
           null,
           0.48760330578512395,
           0.5603448275862069,
           0.5641025641025641,
           0.5822784810126582,
           0.75,
           0.7121212121212122,
           0.7254901960784313
          ],
          [
           0.04395604395604396,
           0.08955223880597014,
           0.17857142857142858,
           0.11594202898550725,
           0.23863636363636365,
           0.3157894736842105,
           0.211864406779661,
           0.25,
           0.3013698630136986,
           0.3153153153153153,
           0.36363636363636365,
           0.4166666666666667,
           0.512396694214876,
           null,
           0.4367816091954023,
           0.5660377358490566,
           0.5478260869565217,
           0.77,
           0.6507936507936508,
           0.768595041322314
          ],
          [
           0.09012875536480687,
           0.11442786069651742,
           0.17708333333333334,
           0.16055045871559634,
           0.22857142857142856,
           0.20930232558139536,
           0.25,
           0.14285714285714285,
           0.2608695652173913,
           0.2975206611570248,
           0.41935483870967744,
           0.46938775510204084,
           0.4396551724137931,
           0.5632183908045977,
           null,
           0.5796178343949044,
           0.5688073394495413,
           0.74,
           0.6589147286821705,
           0.6666666666666666
          ],
          [
           0.09259259259259259,
           0.12030075187969924,
           0.09090909090909091,
           0.10204081632653061,
           0.18421052631578946,
           0.2857142857142857,
           0.1625615763546798,
           0.4,
           0.3673469387755102,
           0.2582781456953642,
           0.5555555555555556,
           0.24561403508771928,
           0.4358974358974359,
           0.4339622641509434,
           0.42038216560509556,
           null,
           0.5068493150684932,
           0.6612903225806451,
           0.56,
           0.5909090909090909
          ],
          [
           0.08552631578947369,
           0.03937007874015748,
           0.11538461538461539,
           0.13793103448275862,
           0.21686746987951808,
           0.14285714285714285,
           0.20454545454545456,
           0.24242424242424243,
           0.23943661971830985,
           0.24087591240875914,
           0.23809523809523808,
           0.5074626865671642,
           0.4177215189873418,
           0.45217391304347826,
           0.43119266055045874,
           0.4931506849315068,
           null,
           0.6607142857142857,
           0.6935483870967742,
           0.6666666666666666
          ],
          [
           0.028985507246376812,
           0.016666666666666666,
           0.42857142857142855,
           0.05434782608695652,
           0.09090909090909091,
           0.25,
           0.12209302325581395,
           0.3333333333333333,
           0.2,
           0.1532258064516129,
           0.3333333333333333,
           0.375,
           0.25,
           0.23,
           0.26,
           0.3387096774193548,
           0.3392857142857143,
           null,
           0.41836734693877553,
           0.3698630136986301
          ],
          [
           0.07092198581560284,
           0.10588235294117647,
           0.02631578947368421,
           0.08771929824561403,
           0.07692307692307693,
           0.14285714285714285,
           0.17582417582417584,
           0.16666666666666666,
           0.2619047619047619,
           0.2052980132450331,
           0,
           0.3076923076923077,
           0.2878787878787879,
           0.3492063492063492,
           0.34108527131782945,
           0.44,
           0.3064516129032258,
           0.5816326530612245,
           null,
           0.5822784810126582
          ],
          [
           0.04424778761061947,
           0.05747126436781609,
           0.13793103448275862,
           0.08888888888888889,
           0.09090909090909091,
           0.2857142857142857,
           0.14213197969543148,
           0,
           0.12903225806451613,
           0.20121951219512196,
           0.25,
           0.2413793103448276,
           0.27450980392156865,
           0.23140495867768596,
           0.3333333333333333,
           0.4090909090909091,
           0.3333333333333333,
           0.6301369863013698,
           0.4177215189873418,
           null
          ]
         ]
        }
       ],
       "layout": {
        "coloraxis": {
         "colorscale": [
          [
           0,
           "rgb(103,0,31)"
          ],
          [
           0.1,
           "rgb(178,24,43)"
          ],
          [
           0.2,
           "rgb(214,96,77)"
          ],
          [
           0.3,
           "rgb(244,165,130)"
          ],
          [
           0.4,
           "rgb(253,219,199)"
          ],
          [
           0.5,
           "rgb(247,247,247)"
          ],
          [
           0.6,
           "rgb(209,229,240)"
          ],
          [
           0.7,
           "rgb(146,197,222)"
          ],
          [
           0.8,
           "rgb(67,147,195)"
          ],
          [
           0.9,
           "rgb(33,102,172)"
          ],
          [
           1,
           "rgb(5,48,97)"
          ]
         ]
        },
        "height": 900,
        "template": {
         "data": {
          "bar": [
           {
            "error_x": {
             "color": "#2a3f5f"
            },
            "error_y": {
             "color": "#2a3f5f"
            },
            "marker": {
             "line": {
              "color": "#E5ECF6",
              "width": 0.5
             },
             "pattern": {
              "fillmode": "overlay",
              "size": 10,
              "solidity": 0.2
             }
            },
            "type": "bar"
           }
          ],
          "barpolar": [
           {
            "marker": {
             "line": {
              "color": "#E5ECF6",
              "width": 0.5
             },
             "pattern": {
              "fillmode": "overlay",
              "size": 10,
              "solidity": 0.2
             }
            },
            "type": "barpolar"
           }
          ],
          "carpet": [
           {
            "aaxis": {
             "endlinecolor": "#2a3f5f",
             "gridcolor": "white",
             "linecolor": "white",
             "minorgridcolor": "white",
             "startlinecolor": "#2a3f5f"
            },
            "baxis": {
             "endlinecolor": "#2a3f5f",
             "gridcolor": "white",
             "linecolor": "white",
             "minorgridcolor": "white",
             "startlinecolor": "#2a3f5f"
            },
            "type": "carpet"
           }
          ],
          "choropleth": [
           {
            "colorbar": {
             "outlinewidth": 0,
             "ticks": ""
            },
            "type": "choropleth"
           }
          ],
          "contour": [
           {
            "colorbar": {
             "outlinewidth": 0,
             "ticks": ""
            },
            "colorscale": [
             [
              0,
              "#0d0887"
             ],
             [
              0.1111111111111111,
              "#46039f"
             ],
             [
              0.2222222222222222,
              "#7201a8"
             ],
             [
              0.3333333333333333,
              "#9c179e"
             ],
             [
              0.4444444444444444,
              "#bd3786"
             ],
             [
              0.5555555555555556,
              "#d8576b"
             ],
             [
              0.6666666666666666,
              "#ed7953"
             ],
             [
              0.7777777777777778,
              "#fb9f3a"
             ],
             [
              0.8888888888888888,
              "#fdca26"
             ],
             [
              1,
              "#f0f921"
             ]
            ],
            "type": "contour"
           }
          ],
          "contourcarpet": [
           {
            "colorbar": {
             "outlinewidth": 0,
             "ticks": ""
            },
            "type": "contourcarpet"
           }
          ],
          "heatmap": [
           {
            "colorbar": {
             "outlinewidth": 0,
             "ticks": ""
            },
            "colorscale": [
             [
              0,
              "#0d0887"
             ],
             [
              0.1111111111111111,
              "#46039f"
             ],
             [
              0.2222222222222222,
              "#7201a8"
             ],
             [
              0.3333333333333333,
              "#9c179e"
             ],
             [
              0.4444444444444444,
              "#bd3786"
             ],
             [
              0.5555555555555556,
              "#d8576b"
             ],
             [
              0.6666666666666666,
              "#ed7953"
             ],
             [
              0.7777777777777778,
              "#fb9f3a"
             ],
             [
              0.8888888888888888,
              "#fdca26"
             ],
             [
              1,
              "#f0f921"
             ]
            ],
            "type": "heatmap"
           }
          ],
          "heatmapgl": [
           {
            "colorbar": {
             "outlinewidth": 0,
             "ticks": ""
            },
            "colorscale": [
             [
              0,
              "#0d0887"
             ],
             [
              0.1111111111111111,
              "#46039f"
             ],
             [
              0.2222222222222222,
              "#7201a8"
             ],
             [
              0.3333333333333333,
              "#9c179e"
             ],
             [
              0.4444444444444444,
              "#bd3786"
             ],
             [
              0.5555555555555556,
              "#d8576b"
             ],
             [
              0.6666666666666666,
              "#ed7953"
             ],
             [
              0.7777777777777778,
              "#fb9f3a"
             ],
             [
              0.8888888888888888,
              "#fdca26"
             ],
             [
              1,
              "#f0f921"
             ]
            ],
            "type": "heatmapgl"
           }
          ],
          "histogram": [
           {
            "marker": {
             "pattern": {
              "fillmode": "overlay",
              "size": 10,
              "solidity": 0.2
             }
            },
            "type": "histogram"
           }
          ],
          "histogram2d": [
           {
            "colorbar": {
             "outlinewidth": 0,
             "ticks": ""
            },
            "colorscale": [
             [
              0,
              "#0d0887"
             ],
             [
              0.1111111111111111,
              "#46039f"
             ],
             [
              0.2222222222222222,
              "#7201a8"
             ],
             [
              0.3333333333333333,
              "#9c179e"
             ],
             [
              0.4444444444444444,
              "#bd3786"
             ],
             [
              0.5555555555555556,
              "#d8576b"
             ],
             [
              0.6666666666666666,
              "#ed7953"
             ],
             [
              0.7777777777777778,
              "#fb9f3a"
             ],
             [
              0.8888888888888888,
              "#fdca26"
             ],
             [
              1,
              "#f0f921"
             ]
            ],
            "type": "histogram2d"
           }
          ],
          "histogram2dcontour": [
           {
            "colorbar": {
             "outlinewidth": 0,
             "ticks": ""
            },
            "colorscale": [
             [
              0,
              "#0d0887"
             ],
             [
              0.1111111111111111,
              "#46039f"
             ],
             [
              0.2222222222222222,
              "#7201a8"
             ],
             [
              0.3333333333333333,
              "#9c179e"
             ],
             [
              0.4444444444444444,
              "#bd3786"
             ],
             [
              0.5555555555555556,
              "#d8576b"
             ],
             [
              0.6666666666666666,
              "#ed7953"
             ],
             [
              0.7777777777777778,
              "#fb9f3a"
             ],
             [
              0.8888888888888888,
              "#fdca26"
             ],
             [
              1,
              "#f0f921"
             ]
            ],
            "type": "histogram2dcontour"
           }
          ],
          "mesh3d": [
           {
            "colorbar": {
             "outlinewidth": 0,
             "ticks": ""
            },
            "type": "mesh3d"
           }
          ],
          "parcoords": [
           {
            "line": {
             "colorbar": {
              "outlinewidth": 0,
              "ticks": ""
             }
            },
            "type": "parcoords"
           }
          ],
          "pie": [
           {
            "automargin": true,
            "type": "pie"
           }
          ],
          "scatter": [
           {
            "fillpattern": {
             "fillmode": "overlay",
             "size": 10,
             "solidity": 0.2
            },
            "type": "scatter"
           }
          ],
          "scatter3d": [
           {
            "line": {
             "colorbar": {
              "outlinewidth": 0,
              "ticks": ""
             }
            },
            "marker": {
             "colorbar": {
              "outlinewidth": 0,
              "ticks": ""
             }
            },
            "type": "scatter3d"
           }
          ],
          "scattercarpet": [
           {
            "marker": {
             "colorbar": {
              "outlinewidth": 0,
              "ticks": ""
             }
            },
            "type": "scattercarpet"
           }
          ],
          "scattergeo": [
           {
            "marker": {
             "colorbar": {
              "outlinewidth": 0,
              "ticks": ""
             }
            },
            "type": "scattergeo"
           }
          ],
          "scattergl": [
           {
            "marker": {
             "colorbar": {
              "outlinewidth": 0,
              "ticks": ""
             }
            },
            "type": "scattergl"
           }
          ],
          "scattermapbox": [
           {
            "marker": {
             "colorbar": {
              "outlinewidth": 0,
              "ticks": ""
             }
            },
            "type": "scattermapbox"
           }
          ],
          "scatterpolar": [
           {
            "marker": {
             "colorbar": {
              "outlinewidth": 0,
              "ticks": ""
             }
            },
            "type": "scatterpolar"
           }
          ],
          "scatterpolargl": [
           {
            "marker": {
             "colorbar": {
              "outlinewidth": 0,
              "ticks": ""
             }
            },
            "type": "scatterpolargl"
           }
          ],
          "scatterternary": [
           {
            "marker": {
             "colorbar": {
              "outlinewidth": 0,
              "ticks": ""
             }
            },
            "type": "scatterternary"
           }
          ],
          "surface": [
           {
            "colorbar": {
             "outlinewidth": 0,
             "ticks": ""
            },
            "colorscale": [
             [
              0,
              "#0d0887"
             ],
             [
              0.1111111111111111,
              "#46039f"
             ],
             [
              0.2222222222222222,
              "#7201a8"
             ],
             [
              0.3333333333333333,
              "#9c179e"
             ],
             [
              0.4444444444444444,
              "#bd3786"
             ],
             [
              0.5555555555555556,
              "#d8576b"
             ],
             [
              0.6666666666666666,
              "#ed7953"
             ],
             [
              0.7777777777777778,
              "#fb9f3a"
             ],
             [
              0.8888888888888888,
              "#fdca26"
             ],
             [
              1,
              "#f0f921"
             ]
            ],
            "type": "surface"
           }
          ],
          "table": [
           {
            "cells": {
             "fill": {
              "color": "#EBF0F8"
             },
             "line": {
              "color": "white"
             }
            },
            "header": {
             "fill": {
              "color": "#C8D4E3"
             },
             "line": {
              "color": "white"
             }
            },
            "type": "table"
           }
          ]
         },
         "layout": {
          "annotationdefaults": {
           "arrowcolor": "#2a3f5f",
           "arrowhead": 0,
           "arrowwidth": 1
          },
          "autotypenumbers": "strict",
          "coloraxis": {
           "colorbar": {
            "outlinewidth": 0,
            "ticks": ""
           }
          },
          "colorscale": {
           "diverging": [
            [
             0,
             "#8e0152"
            ],
            [
             0.1,
             "#c51b7d"
            ],
            [
             0.2,
             "#de77ae"
            ],
            [
             0.3,
             "#f1b6da"
            ],
            [
             0.4,
             "#fde0ef"
            ],
            [
             0.5,
             "#f7f7f7"
            ],
            [
             0.6,
             "#e6f5d0"
            ],
            [
             0.7,
             "#b8e186"
            ],
            [
             0.8,
             "#7fbc41"
            ],
            [
             0.9,
             "#4d9221"
            ],
            [
             1,
             "#276419"
            ]
           ],
           "sequential": [
            [
             0,
             "#0d0887"
            ],
            [
             0.1111111111111111,
             "#46039f"
            ],
            [
             0.2222222222222222,
             "#7201a8"
            ],
            [
             0.3333333333333333,
             "#9c179e"
            ],
            [
             0.4444444444444444,
             "#bd3786"
            ],
            [
             0.5555555555555556,
             "#d8576b"
            ],
            [
             0.6666666666666666,
             "#ed7953"
            ],
            [
             0.7777777777777778,
             "#fb9f3a"
            ],
            [
             0.8888888888888888,
             "#fdca26"
            ],
            [
             1,
             "#f0f921"
            ]
           ],
           "sequentialminus": [
            [
             0,
             "#0d0887"
            ],
            [
             0.1111111111111111,
             "#46039f"
            ],
            [
             0.2222222222222222,
             "#7201a8"
            ],
            [
             0.3333333333333333,
             "#9c179e"
            ],
            [
             0.4444444444444444,
             "#bd3786"
            ],
            [
             0.5555555555555556,
             "#d8576b"
            ],
            [
             0.6666666666666666,
             "#ed7953"
            ],
            [
             0.7777777777777778,
             "#fb9f3a"
            ],
            [
             0.8888888888888888,
             "#fdca26"
            ],
            [
             1,
             "#f0f921"
            ]
           ]
          },
          "colorway": [
           "#636efa",
           "#EF553B",
           "#00cc96",
           "#ab63fa",
           "#FFA15A",
           "#19d3f3",
           "#FF6692",
           "#B6E880",
           "#FF97FF",
           "#FECB52"
          ],
          "font": {
           "color": "#2a3f5f"
          },
          "geo": {
           "bgcolor": "white",
           "lakecolor": "white",
           "landcolor": "#E5ECF6",
           "showlakes": true,
           "showland": true,
           "subunitcolor": "white"
          },
          "hoverlabel": {
           "align": "left"
          },
          "hovermode": "closest",
          "mapbox": {
           "style": "light"
          },
          "paper_bgcolor": "white",
          "plot_bgcolor": "#E5ECF6",
          "polar": {
           "angularaxis": {
            "gridcolor": "white",
            "linecolor": "white",
            "ticks": ""
           },
           "bgcolor": "#E5ECF6",
           "radialaxis": {
            "gridcolor": "white",
            "linecolor": "white",
            "ticks": ""
           }
          },
          "scene": {
           "xaxis": {
            "backgroundcolor": "#E5ECF6",
            "gridcolor": "white",
            "gridwidth": 2,
            "linecolor": "white",
            "showbackground": true,
            "ticks": "",
            "zerolinecolor": "white"
           },
           "yaxis": {
            "backgroundcolor": "#E5ECF6",
            "gridcolor": "white",
            "gridwidth": 2,
            "linecolor": "white",
            "showbackground": true,
            "ticks": "",
            "zerolinecolor": "white"
           },
           "zaxis": {
            "backgroundcolor": "#E5ECF6",
            "gridcolor": "white",
            "gridwidth": 2,
            "linecolor": "white",
            "showbackground": true,
            "ticks": "",
            "zerolinecolor": "white"
           }
          },
          "shapedefaults": {
           "line": {
            "color": "#2a3f5f"
           }
          },
          "ternary": {
           "aaxis": {
            "gridcolor": "white",
            "linecolor": "white",
            "ticks": ""
           },
           "baxis": {
            "gridcolor": "white",
            "linecolor": "white",
            "ticks": ""
           },
           "bgcolor": "#E5ECF6",
           "caxis": {
            "gridcolor": "white",
            "linecolor": "white",
            "ticks": ""
           }
          },
          "title": {
           "x": 0.05
          },
          "xaxis": {
           "automargin": true,
           "gridcolor": "white",
           "linecolor": "white",
           "ticks": "",
           "title": {
            "standoff": 15
           },
           "zerolinecolor": "white",
           "zerolinewidth": 2
          },
          "yaxis": {
           "automargin": true,
           "gridcolor": "white",
           "linecolor": "white",
           "ticks": "",
           "title": {
            "standoff": 15
           },
           "zerolinecolor": "white",
           "zerolinewidth": 2
          }
         }
        },
        "title": {
         "text": "Fraction of Model A Wins for All Non-tied A vs. B Battles",
         "x": 0.5,
         "y": 0.07
        },
        "width": 900,
        "xaxis": {
         "anchor": "y",
         "constrain": "domain",
         "domain": [
          0,
          1
         ],
         "scaleanchor": "y",
         "side": "top",
         "title": {
          "text": " Model B: Loser"
         }
        },
        "yaxis": {
         "anchor": "x",
         "autorange": "reversed",
         "constrain": "domain",
         "domain": [
          0,
          1
         ],
         "title": {
          "text": "Model A: Winner"
         }
        }
       }
      }
     },
     "metadata": {},
     "output_type": "display_data"
    }
   ],
   "source": [
    "fig = visualize_pairwise_win_fraction(battles_no_ties,\n",
    "      title = \"Fraction of Model A Wins for All Non-tied A vs. B Battles\")\n",
    "fig"
   ]
  },
  {
   "cell_type": "markdown",
   "metadata": {},
   "source": [
    "# show Win rate of each model"
   ]
  },
  {
   "cell_type": "code",
   "execution_count": 86,
   "metadata": {},
   "outputs": [
    {
     "data": {
      "application/vnd.plotly.v1+json": {
       "config": {
        "plotlyServerURL": "https://plot.ly"
       },
       "data": [
        {
         "alignmentgroup": "True",
         "hovertemplate": "variable=0<br>model_a=%{x}<br>value=%{y}<extra></extra>",
         "legendgroup": "0",
         "marker": {
          "color": "#636efa",
          "pattern": {
           "shape": ""
          }
         },
         "name": "0",
         "offsetgroup": "0",
         "orientation": "v",
         "showlegend": true,
         "textposition": "auto",
         "texttemplate": "%{y:.2f}",
         "type": "bar",
         "x": [
          "gpt-4",
          "claude-v1",
          "claude-instant-v1",
          "gpt-3.5-turbo",
          "palm-2",
          "guanaco-33b",
          "vicuna-13b",
          "wizardlm-13b",
          "vicuna-7b",
          "koala-13b",
          "gpt4all-13b-snoozy",
          "mpt-7b-chat",
          "RWKV-4-Raven-14B",
          "alpaca-13b",
          "oasst-pythia-12b",
          "chatglm-6b",
          "fastchat-t5-3b",
          "llama-13b",
          "stablelm-tuned-alpha-7b",
          "dolly-v2-12b"
         ],
         "xaxis": "x",
         "y": [
          0.8419993528399539,
          0.797713094104617,
          0.7508939597480657,
          0.7032709745875614,
          0.6339923016748202,
          0.6333012906655165,
          0.6027079165181534,
          0.5722401804488974,
          0.5552618070947711,
          0.5430493564839264,
          0.4295939279365017,
          0.4190639523091947,
          0.39908494572021797,
          0.3733542637570027,
          0.37036496093252785,
          0.3407586794430801,
          0.32768131199386036,
          0.24172061937879408,
          0.2377125645773325,
          0.22623453978520516
         ],
         "yaxis": "y"
        }
       ],
       "layout": {
        "barmode": "relative",
        "legend": {
         "title": {
          "text": "variable"
         },
         "tracegroupgap": 0
        },
        "showlegend": false,
        "template": {
         "data": {
          "bar": [
           {
            "error_x": {
             "color": "#2a3f5f"
            },
            "error_y": {
             "color": "#2a3f5f"
            },
            "marker": {
             "line": {
              "color": "#E5ECF6",
              "width": 0.5
             },
             "pattern": {
              "fillmode": "overlay",
              "size": 10,
              "solidity": 0.2
             }
            },
            "type": "bar"
           }
          ],
          "barpolar": [
           {
            "marker": {
             "line": {
              "color": "#E5ECF6",
              "width": 0.5
             },
             "pattern": {
              "fillmode": "overlay",
              "size": 10,
              "solidity": 0.2
             }
            },
            "type": "barpolar"
           }
          ],
          "carpet": [
           {
            "aaxis": {
             "endlinecolor": "#2a3f5f",
             "gridcolor": "white",
             "linecolor": "white",
             "minorgridcolor": "white",
             "startlinecolor": "#2a3f5f"
            },
            "baxis": {
             "endlinecolor": "#2a3f5f",
             "gridcolor": "white",
             "linecolor": "white",
             "minorgridcolor": "white",
             "startlinecolor": "#2a3f5f"
            },
            "type": "carpet"
           }
          ],
          "choropleth": [
           {
            "colorbar": {
             "outlinewidth": 0,
             "ticks": ""
            },
            "type": "choropleth"
           }
          ],
          "contour": [
           {
            "colorbar": {
             "outlinewidth": 0,
             "ticks": ""
            },
            "colorscale": [
             [
              0,
              "#0d0887"
             ],
             [
              0.1111111111111111,
              "#46039f"
             ],
             [
              0.2222222222222222,
              "#7201a8"
             ],
             [
              0.3333333333333333,
              "#9c179e"
             ],
             [
              0.4444444444444444,
              "#bd3786"
             ],
             [
              0.5555555555555556,
              "#d8576b"
             ],
             [
              0.6666666666666666,
              "#ed7953"
             ],
             [
              0.7777777777777778,
              "#fb9f3a"
             ],
             [
              0.8888888888888888,
              "#fdca26"
             ],
             [
              1,
              "#f0f921"
             ]
            ],
            "type": "contour"
           }
          ],
          "contourcarpet": [
           {
            "colorbar": {
             "outlinewidth": 0,
             "ticks": ""
            },
            "type": "contourcarpet"
           }
          ],
          "heatmap": [
           {
            "colorbar": {
             "outlinewidth": 0,
             "ticks": ""
            },
            "colorscale": [
             [
              0,
              "#0d0887"
             ],
             [
              0.1111111111111111,
              "#46039f"
             ],
             [
              0.2222222222222222,
              "#7201a8"
             ],
             [
              0.3333333333333333,
              "#9c179e"
             ],
             [
              0.4444444444444444,
              "#bd3786"
             ],
             [
              0.5555555555555556,
              "#d8576b"
             ],
             [
              0.6666666666666666,
              "#ed7953"
             ],
             [
              0.7777777777777778,
              "#fb9f3a"
             ],
             [
              0.8888888888888888,
              "#fdca26"
             ],
             [
              1,
              "#f0f921"
             ]
            ],
            "type": "heatmap"
           }
          ],
          "heatmapgl": [
           {
            "colorbar": {
             "outlinewidth": 0,
             "ticks": ""
            },
            "colorscale": [
             [
              0,
              "#0d0887"
             ],
             [
              0.1111111111111111,
              "#46039f"
             ],
             [
              0.2222222222222222,
              "#7201a8"
             ],
             [
              0.3333333333333333,
              "#9c179e"
             ],
             [
              0.4444444444444444,
              "#bd3786"
             ],
             [
              0.5555555555555556,
              "#d8576b"
             ],
             [
              0.6666666666666666,
              "#ed7953"
             ],
             [
              0.7777777777777778,
              "#fb9f3a"
             ],
             [
              0.8888888888888888,
              "#fdca26"
             ],
             [
              1,
              "#f0f921"
             ]
            ],
            "type": "heatmapgl"
           }
          ],
          "histogram": [
           {
            "marker": {
             "pattern": {
              "fillmode": "overlay",
              "size": 10,
              "solidity": 0.2
             }
            },
            "type": "histogram"
           }
          ],
          "histogram2d": [
           {
            "colorbar": {
             "outlinewidth": 0,
             "ticks": ""
            },
            "colorscale": [
             [
              0,
              "#0d0887"
             ],
             [
              0.1111111111111111,
              "#46039f"
             ],
             [
              0.2222222222222222,
              "#7201a8"
             ],
             [
              0.3333333333333333,
              "#9c179e"
             ],
             [
              0.4444444444444444,
              "#bd3786"
             ],
             [
              0.5555555555555556,
              "#d8576b"
             ],
             [
              0.6666666666666666,
              "#ed7953"
             ],
             [
              0.7777777777777778,
              "#fb9f3a"
             ],
             [
              0.8888888888888888,
              "#fdca26"
             ],
             [
              1,
              "#f0f921"
             ]
            ],
            "type": "histogram2d"
           }
          ],
          "histogram2dcontour": [
           {
            "colorbar": {
             "outlinewidth": 0,
             "ticks": ""
            },
            "colorscale": [
             [
              0,
              "#0d0887"
             ],
             [
              0.1111111111111111,
              "#46039f"
             ],
             [
              0.2222222222222222,
              "#7201a8"
             ],
             [
              0.3333333333333333,
              "#9c179e"
             ],
             [
              0.4444444444444444,
              "#bd3786"
             ],
             [
              0.5555555555555556,
              "#d8576b"
             ],
             [
              0.6666666666666666,
              "#ed7953"
             ],
             [
              0.7777777777777778,
              "#fb9f3a"
             ],
             [
              0.8888888888888888,
              "#fdca26"
             ],
             [
              1,
              "#f0f921"
             ]
            ],
            "type": "histogram2dcontour"
           }
          ],
          "mesh3d": [
           {
            "colorbar": {
             "outlinewidth": 0,
             "ticks": ""
            },
            "type": "mesh3d"
           }
          ],
          "parcoords": [
           {
            "line": {
             "colorbar": {
              "outlinewidth": 0,
              "ticks": ""
             }
            },
            "type": "parcoords"
           }
          ],
          "pie": [
           {
            "automargin": true,
            "type": "pie"
           }
          ],
          "scatter": [
           {
            "fillpattern": {
             "fillmode": "overlay",
             "size": 10,
             "solidity": 0.2
            },
            "type": "scatter"
           }
          ],
          "scatter3d": [
           {
            "line": {
             "colorbar": {
              "outlinewidth": 0,
              "ticks": ""
             }
            },
            "marker": {
             "colorbar": {
              "outlinewidth": 0,
              "ticks": ""
             }
            },
            "type": "scatter3d"
           }
          ],
          "scattercarpet": [
           {
            "marker": {
             "colorbar": {
              "outlinewidth": 0,
              "ticks": ""
             }
            },
            "type": "scattercarpet"
           }
          ],
          "scattergeo": [
           {
            "marker": {
             "colorbar": {
              "outlinewidth": 0,
              "ticks": ""
             }
            },
            "type": "scattergeo"
           }
          ],
          "scattergl": [
           {
            "marker": {
             "colorbar": {
              "outlinewidth": 0,
              "ticks": ""
             }
            },
            "type": "scattergl"
           }
          ],
          "scattermapbox": [
           {
            "marker": {
             "colorbar": {
              "outlinewidth": 0,
              "ticks": ""
             }
            },
            "type": "scattermapbox"
           }
          ],
          "scatterpolar": [
           {
            "marker": {
             "colorbar": {
              "outlinewidth": 0,
              "ticks": ""
             }
            },
            "type": "scatterpolar"
           }
          ],
          "scatterpolargl": [
           {
            "marker": {
             "colorbar": {
              "outlinewidth": 0,
              "ticks": ""
             }
            },
            "type": "scatterpolargl"
           }
          ],
          "scatterternary": [
           {
            "marker": {
             "colorbar": {
              "outlinewidth": 0,
              "ticks": ""
             }
            },
            "type": "scatterternary"
           }
          ],
          "surface": [
           {
            "colorbar": {
             "outlinewidth": 0,
             "ticks": ""
            },
            "colorscale": [
             [
              0,
              "#0d0887"
             ],
             [
              0.1111111111111111,
              "#46039f"
             ],
             [
              0.2222222222222222,
              "#7201a8"
             ],
             [
              0.3333333333333333,
              "#9c179e"
             ],
             [
              0.4444444444444444,
              "#bd3786"
             ],
             [
              0.5555555555555556,
              "#d8576b"
             ],
             [
              0.6666666666666666,
              "#ed7953"
             ],
             [
              0.7777777777777778,
              "#fb9f3a"
             ],
             [
              0.8888888888888888,
              "#fdca26"
             ],
             [
              1,
              "#f0f921"
             ]
            ],
            "type": "surface"
           }
          ],
          "table": [
           {
            "cells": {
             "fill": {
              "color": "#EBF0F8"
             },
             "line": {
              "color": "white"
             }
            },
            "header": {
             "fill": {
              "color": "#C8D4E3"
             },
             "line": {
              "color": "white"
             }
            },
            "type": "table"
           }
          ]
         },
         "layout": {
          "annotationdefaults": {
           "arrowcolor": "#2a3f5f",
           "arrowhead": 0,
           "arrowwidth": 1
          },
          "autotypenumbers": "strict",
          "coloraxis": {
           "colorbar": {
            "outlinewidth": 0,
            "ticks": ""
           }
          },
          "colorscale": {
           "diverging": [
            [
             0,
             "#8e0152"
            ],
            [
             0.1,
             "#c51b7d"
            ],
            [
             0.2,
             "#de77ae"
            ],
            [
             0.3,
             "#f1b6da"
            ],
            [
             0.4,
             "#fde0ef"
            ],
            [
             0.5,
             "#f7f7f7"
            ],
            [
             0.6,
             "#e6f5d0"
            ],
            [
             0.7,
             "#b8e186"
            ],
            [
             0.8,
             "#7fbc41"
            ],
            [
             0.9,
             "#4d9221"
            ],
            [
             1,
             "#276419"
            ]
           ],
           "sequential": [
            [
             0,
             "#0d0887"
            ],
            [
             0.1111111111111111,
             "#46039f"
            ],
            [
             0.2222222222222222,
             "#7201a8"
            ],
            [
             0.3333333333333333,
             "#9c179e"
            ],
            [
             0.4444444444444444,
             "#bd3786"
            ],
            [
             0.5555555555555556,
             "#d8576b"
            ],
            [
             0.6666666666666666,
             "#ed7953"
            ],
            [
             0.7777777777777778,
             "#fb9f3a"
            ],
            [
             0.8888888888888888,
             "#fdca26"
            ],
            [
             1,
             "#f0f921"
            ]
           ],
           "sequentialminus": [
            [
             0,
             "#0d0887"
            ],
            [
             0.1111111111111111,
             "#46039f"
            ],
            [
             0.2222222222222222,
             "#7201a8"
            ],
            [
             0.3333333333333333,
             "#9c179e"
            ],
            [
             0.4444444444444444,
             "#bd3786"
            ],
            [
             0.5555555555555556,
             "#d8576b"
            ],
            [
             0.6666666666666666,
             "#ed7953"
            ],
            [
             0.7777777777777778,
             "#fb9f3a"
            ],
            [
             0.8888888888888888,
             "#fdca26"
            ],
            [
             1,
             "#f0f921"
            ]
           ]
          },
          "colorway": [
           "#636efa",
           "#EF553B",
           "#00cc96",
           "#ab63fa",
           "#FFA15A",
           "#19d3f3",
           "#FF6692",
           "#B6E880",
           "#FF97FF",
           "#FECB52"
          ],
          "font": {
           "color": "#2a3f5f"
          },
          "geo": {
           "bgcolor": "white",
           "lakecolor": "white",
           "landcolor": "#E5ECF6",
           "showlakes": true,
           "showland": true,
           "subunitcolor": "white"
          },
          "hoverlabel": {
           "align": "left"
          },
          "hovermode": "closest",
          "mapbox": {
           "style": "light"
          },
          "paper_bgcolor": "white",
          "plot_bgcolor": "#E5ECF6",
          "polar": {
           "angularaxis": {
            "gridcolor": "white",
            "linecolor": "white",
            "ticks": ""
           },
           "bgcolor": "#E5ECF6",
           "radialaxis": {
            "gridcolor": "white",
            "linecolor": "white",
            "ticks": ""
           }
          },
          "scene": {
           "xaxis": {
            "backgroundcolor": "#E5ECF6",
            "gridcolor": "white",
            "gridwidth": 2,
            "linecolor": "white",
            "showbackground": true,
            "ticks": "",
            "zerolinecolor": "white"
           },
           "yaxis": {
            "backgroundcolor": "#E5ECF6",
            "gridcolor": "white",
            "gridwidth": 2,
            "linecolor": "white",
            "showbackground": true,
            "ticks": "",
            "zerolinecolor": "white"
           },
           "zaxis": {
            "backgroundcolor": "#E5ECF6",
            "gridcolor": "white",
            "gridwidth": 2,
            "linecolor": "white",
            "showbackground": true,
            "ticks": "",
            "zerolinecolor": "white"
           }
          },
          "shapedefaults": {
           "line": {
            "color": "#2a3f5f"
           }
          },
          "ternary": {
           "aaxis": {
            "gridcolor": "white",
            "linecolor": "white",
            "ticks": ""
           },
           "baxis": {
            "gridcolor": "white",
            "linecolor": "white",
            "ticks": ""
           },
           "bgcolor": "#E5ECF6",
           "caxis": {
            "gridcolor": "white",
            "linecolor": "white",
            "ticks": ""
           }
          },
          "title": {
           "x": 0.05
          },
          "xaxis": {
           "automargin": true,
           "gridcolor": "white",
           "linecolor": "white",
           "ticks": "",
           "title": {
            "standoff": 15
           },
           "zerolinecolor": "white",
           "zerolinewidth": 2
          },
          "yaxis": {
           "automargin": true,
           "gridcolor": "white",
           "linecolor": "white",
           "ticks": "",
           "title": {
            "standoff": 15
           },
           "zerolinecolor": "white",
           "zerolinewidth": 2
          }
         }
        },
        "title": {
         "text": "Average Win Rate Against All Other Models (Assuming Uniform Sampling and No Ties)"
        },
        "xaxis": {
         "anchor": "y",
         "domain": [
          0,
          1
         ],
         "title": {
          "text": "Model"
         }
        },
        "yaxis": {
         "anchor": "x",
         "domain": [
          0,
          1
         ],
         "title": {
          "text": "Average Win Rate"
         }
        }
       }
      }
     },
     "metadata": {},
     "output_type": "display_data"
    }
   ],
   "source": [
    "row_beats_col_freq = compute_pairwise_win_fraction(battles_no_ties)\n",
    "fig = px.bar(row_beats_col_freq.mean(axis=1).sort_values(ascending=False),\n",
    "             title=\"Average Win Rate Against All Other Models (Assuming Uniform Sampling and No Ties)\",\n",
    "             text_auto=\".2f\")\n",
    "fig.update_layout(yaxis_title=\"Average Win Rate\", xaxis_title=\"Model\",\n",
    "                  showlegend=False)\n",
    "fig"
   ]
  },
  {
   "cell_type": "markdown",
   "metadata": {},
   "source": [
    "# define ELO calculation"
   ]
  },
  {
   "cell_type": "code",
   "execution_count": 87,
   "metadata": {},
   "outputs": [],
   "source": [
    "def compute_online_elo(battles, K=4, SCALE=400, BASE=10, INIT_RATING=1000):\n",
    "    rating = defaultdict(lambda: INIT_RATING)\n",
    "\n",
    "    for rd, model_a, model_b, winner in battles[['model_a', 'model_b', 'winner']].itertuples():\n",
    "        ra = rating[model_a]\n",
    "        rb = rating[model_b]\n",
    "        ea = 1 / (1 + BASE ** ((rb - ra) / SCALE))\n",
    "        eb = 1 / (1 + BASE ** ((ra - rb) / SCALE))\n",
    "        if winner == \"model_a\":\n",
    "            sa = 1\n",
    "        elif winner == \"model_b\":\n",
    "            sa = 0\n",
    "        elif winner == \"tie\" or winner == \"tie (bothbad)\":\n",
    "            sa = 0.5\n",
    "        else:\n",
    "            raise Exception(f\"unexpected vote {winner}\")\n",
    "        rating[model_a] += K * (sa - ea)\n",
    "        rating[model_b] += K * (1 - sa - eb)\n",
    "\n",
    "    # calibrate llama-13b to 800\n",
    "    delta = (800-rating[\"llama-13b\"])\n",
    "    for model in battles[\"model_a\"].unique():\n",
    "        rating[model] += delta\n",
    "\n",
    "    return rating"
   ]
  },
  {
   "cell_type": "markdown",
   "metadata": {},
   "source": [
    "# print ELO rating"
   ]
  },
  {
   "cell_type": "code",
   "execution_count": 88,
   "metadata": {},
   "outputs": [
    {
     "data": {
      "text/html": [
       "<div>\n",
       "<style scoped>\n",
       "    .dataframe tbody tr th:only-of-type {\n",
       "        vertical-align: middle;\n",
       "    }\n",
       "\n",
       "    .dataframe tbody tr th {\n",
       "        vertical-align: top;\n",
       "    }\n",
       "\n",
       "    .dataframe thead th {\n",
       "        text-align: right;\n",
       "    }\n",
       "</style>\n",
       "<table border=\"1\" class=\"dataframe\">\n",
       "  <thead>\n",
       "    <tr style=\"text-align: right;\">\n",
       "      <th></th>\n",
       "      <th>Model</th>\n",
       "      <th>Elo rating</th>\n",
       "    </tr>\n",
       "  </thead>\n",
       "  <tbody>\n",
       "    <tr>\n",
       "      <th>1</th>\n",
       "      <td>gpt-4</td>\n",
       "      <td>1146.03</td>\n",
       "    </tr>\n",
       "    <tr>\n",
       "      <th>2</th>\n",
       "      <td>claude-v1</td>\n",
       "      <td>1128.89</td>\n",
       "    </tr>\n",
       "    <tr>\n",
       "      <th>3</th>\n",
       "      <td>claude-instant-v1</td>\n",
       "      <td>1110.60</td>\n",
       "    </tr>\n",
       "    <tr>\n",
       "      <th>4</th>\n",
       "      <td>gpt-3.5-turbo</td>\n",
       "      <td>1043.78</td>\n",
       "    </tr>\n",
       "    <tr>\n",
       "      <th>5</th>\n",
       "      <td>guanaco-33b</td>\n",
       "      <td>1033.25</td>\n",
       "    </tr>\n",
       "    <tr>\n",
       "      <th>6</th>\n",
       "      <td>palm-2</td>\n",
       "      <td>1003.55</td>\n",
       "    </tr>\n",
       "    <tr>\n",
       "      <th>7</th>\n",
       "      <td>vicuna-13b</td>\n",
       "      <td>1002.95</td>\n",
       "    </tr>\n",
       "    <tr>\n",
       "      <th>8</th>\n",
       "      <td>wizardlm-13b</td>\n",
       "      <td>988.43</td>\n",
       "    </tr>\n",
       "    <tr>\n",
       "      <th>9</th>\n",
       "      <td>koala-13b</td>\n",
       "      <td>984.48</td>\n",
       "    </tr>\n",
       "    <tr>\n",
       "      <th>10</th>\n",
       "      <td>vicuna-7b</td>\n",
       "      <td>980.23</td>\n",
       "    </tr>\n",
       "    <tr>\n",
       "      <th>11</th>\n",
       "      <td>mpt-7b-chat</td>\n",
       "      <td>908.27</td>\n",
       "    </tr>\n",
       "    <tr>\n",
       "      <th>12</th>\n",
       "      <td>RWKV-4-Raven-14B</td>\n",
       "      <td>903.28</td>\n",
       "    </tr>\n",
       "    <tr>\n",
       "      <th>13</th>\n",
       "      <td>chatglm-6b</td>\n",
       "      <td>901.02</td>\n",
       "    </tr>\n",
       "    <tr>\n",
       "      <th>14</th>\n",
       "      <td>gpt4all-13b-snoozy</td>\n",
       "      <td>899.93</td>\n",
       "    </tr>\n",
       "    <tr>\n",
       "      <th>15</th>\n",
       "      <td>alpaca-13b</td>\n",
       "      <td>885.66</td>\n",
       "    </tr>\n",
       "    <tr>\n",
       "      <th>16</th>\n",
       "      <td>oasst-pythia-12b</td>\n",
       "      <td>851.57</td>\n",
       "    </tr>\n",
       "    <tr>\n",
       "      <th>17</th>\n",
       "      <td>fastchat-t5-3b</td>\n",
       "      <td>850.45</td>\n",
       "    </tr>\n",
       "    <tr>\n",
       "      <th>18</th>\n",
       "      <td>stablelm-tuned-alpha-7b</td>\n",
       "      <td>831.03</td>\n",
       "    </tr>\n",
       "    <tr>\n",
       "      <th>19</th>\n",
       "      <td>llama-13b</td>\n",
       "      <td>800.00</td>\n",
       "    </tr>\n",
       "    <tr>\n",
       "      <th>20</th>\n",
       "      <td>dolly-v2-12b</td>\n",
       "      <td>797.03</td>\n",
       "    </tr>\n",
       "  </tbody>\n",
       "</table>\n",
       "</div>"
      ],
      "text/plain": [
       "                      Model  Elo rating\n",
       "1                     gpt-4     1146.03\n",
       "2                 claude-v1     1128.89\n",
       "3         claude-instant-v1     1110.60\n",
       "4             gpt-3.5-turbo     1043.78\n",
       "5               guanaco-33b     1033.25\n",
       "6                    palm-2     1003.55\n",
       "7                vicuna-13b     1002.95\n",
       "8              wizardlm-13b      988.43\n",
       "9                 koala-13b      984.48\n",
       "10                vicuna-7b      980.23\n",
       "11              mpt-7b-chat      908.27\n",
       "12         RWKV-4-Raven-14B      903.28\n",
       "13               chatglm-6b      901.02\n",
       "14       gpt4all-13b-snoozy      899.93\n",
       "15               alpaca-13b      885.66\n",
       "16         oasst-pythia-12b      851.57\n",
       "17           fastchat-t5-3b      850.45\n",
       "18  stablelm-tuned-alpha-7b      831.03\n",
       "19                llama-13b      800.00\n",
       "20             dolly-v2-12b      797.03"
      ]
     },
     "execution_count": 88,
     "metadata": {},
     "output_type": "execute_result"
    }
   ],
   "source": [
    "def preety_print_model_ratings(ratings):\n",
    "    df = pd.DataFrame([\n",
    "        [n, ratings[n]] for n in ratings.keys()\n",
    "    ], columns=[\"Model\", \"Elo rating\"]).sort_values(\"Elo rating\", ascending=False).reset_index(drop=True)\n",
    "    # df[\"Elo rating\"] = (df[\"Elo rating\"] + 0.5).astype(int)\n",
    "    df.index = df.index + 1\n",
    "    return df\n",
    "\n",
    "online_elo_ratings = compute_online_elo(battles)\n",
    "preety_print_model_ratings(online_elo_ratings)"
   ]
  },
  {
   "cell_type": "code",
   "execution_count": 89,
   "metadata": {},
   "outputs": [],
   "source": [
    "def compute_mle_elo(\n",
    "    df, SCALE=400, BASE=10, INIT_RATING=1000, sample_weight=None\n",
    "):\n",
    "    from sklearn.linear_model import LogisticRegression\n",
    "    ptbl_a_win = pd.pivot_table(\n",
    "        df[df[\"winner\"] == \"model_a\"],\n",
    "        index=\"model_a\",\n",
    "        columns=\"model_b\",\n",
    "        aggfunc=\"size\",\n",
    "        fill_value=0,\n",
    "    )\n",
    "    # if no tie, create a zero matrix\n",
    "    if sum(df[\"winner\"].isin([\"tie\", \"tie (bothbad)\"])) == 0:\n",
    "        ptbl_tie = pd.DataFrame(0, index=ptbl_a_win.index, columns=ptbl_a_win.columns)\n",
    "    else:\n",
    "        ptbl_tie = pd.pivot_table(\n",
    "            df[df[\"winner\"].isin([\"tie\", \"tie (bothbad)\"])],\n",
    "            index=\"model_a\",\n",
    "            columns=\"model_b\",\n",
    "            aggfunc=\"size\",\n",
    "            fill_value=0,\n",
    "        )\n",
    "        ptbl_tie = ptbl_tie + ptbl_tie.T\n",
    "\n",
    "    ptbl_b_win = pd.pivot_table(\n",
    "        df[df[\"winner\"] == \"model_b\"],\n",
    "        index=\"model_a\",\n",
    "        columns=\"model_b\",\n",
    "        aggfunc=\"size\",\n",
    "        fill_value=0,\n",
    "    )\n",
    "    ptbl_win = ptbl_a_win * 2 + ptbl_b_win.T * 2 + ptbl_tie\n",
    "\n",
    "    models = pd.Series(np.arange(len(ptbl_win.index)), index=ptbl_win.index)\n",
    "\n",
    "    p = len(models)\n",
    "    X = np.zeros([p * (p - 1) * 2, p])\n",
    "    Y = np.zeros(p * (p - 1) * 2)\n",
    "\n",
    "    cur_row = 0\n",
    "    sample_weights = []\n",
    "    for m_a in ptbl_win.index:\n",
    "        for m_b in ptbl_win.columns:\n",
    "            if m_a == m_b:\n",
    "                continue\n",
    "            # if nan skip\n",
    "            if math.isnan(ptbl_win.loc[m_a, m_b]) or math.isnan(ptbl_win.loc[m_b, m_a]):\n",
    "                continue\n",
    "            X[cur_row, models[m_a]] = +math.log(BASE)\n",
    "            X[cur_row, models[m_b]] = -math.log(BASE)\n",
    "            Y[cur_row] = 1.0\n",
    "            sample_weights.append(ptbl_win.loc[m_a, m_b])\n",
    "\n",
    "            X[cur_row + 1, models[m_a]] = math.log(BASE)\n",
    "            X[cur_row + 1, models[m_b]] = -math.log(BASE)\n",
    "            Y[cur_row + 1] = 0.0\n",
    "            sample_weights.append(ptbl_win.loc[m_b, m_a])\n",
    "            cur_row += 2\n",
    "    X = X[:cur_row]\n",
    "    Y = Y[:cur_row]\n",
    "\n",
    "    lr = LogisticRegression(fit_intercept=False, penalty=None, tol=1e-6)\n",
    "    lr.fit(X, Y, sample_weight=sample_weights)\n",
    "    elo_scores = SCALE * lr.coef_[0] + INIT_RATING\n",
    "    if \"mixtral-8x7b-instruct-v0.1\" in models.index:\n",
    "        elo_scores += 1114 - elo_scores[models[\"mixtral-8x7b-instruct-v0.1\"]]\n",
    "    return pd.Series(elo_scores, index=models.index).sort_values(ascending=False)\n",
    "\n",
    "elo_mle_ratings = compute_mle_elo(battles)"
   ]
  },
  {
   "cell_type": "code",
   "execution_count": 90,
   "metadata": {},
   "outputs": [
    {
     "data": {
      "text/html": [
       "<div>\n",
       "<style scoped>\n",
       "    .dataframe tbody tr th:only-of-type {\n",
       "        vertical-align: middle;\n",
       "    }\n",
       "\n",
       "    .dataframe tbody tr th {\n",
       "        vertical-align: top;\n",
       "    }\n",
       "\n",
       "    .dataframe thead th {\n",
       "        text-align: right;\n",
       "    }\n",
       "</style>\n",
       "<table border=\"1\" class=\"dataframe\">\n",
       "  <thead>\n",
       "    <tr style=\"text-align: right;\">\n",
       "      <th></th>\n",
       "      <th>question_id</th>\n",
       "      <th>model_a</th>\n",
       "      <th>model_b</th>\n",
       "      <th>winner</th>\n",
       "      <th>judge</th>\n",
       "      <th>conversation_a</th>\n",
       "      <th>conversation_b</th>\n",
       "    </tr>\n",
       "  </thead>\n",
       "  <tbody>\n",
       "    <tr>\n",
       "      <th>0</th>\n",
       "      <td>58210e39b3fd4441a2bd4a518bb44c2d</td>\n",
       "      <td>chatglm-6b</td>\n",
       "      <td>koala-13b</td>\n",
       "      <td>model_b</td>\n",
       "      <td>arena_user_973</td>\n",
       "      <td>[{'content': 'What is the difference between O...</td>\n",
       "      <td>[{'content': 'What is the difference between O...</td>\n",
       "    </tr>\n",
       "    <tr>\n",
       "      <th>1</th>\n",
       "      <td>2564acd09e3942fd97657d05282d4389</td>\n",
       "      <td>oasst-pythia-12b</td>\n",
       "      <td>alpaca-13b</td>\n",
       "      <td>tie</td>\n",
       "      <td>arena_user_973</td>\n",
       "      <td>[{'content': 'Why did my parent not invite me ...</td>\n",
       "      <td>[{'content': 'Why did my parent not invite me ...</td>\n",
       "    </tr>\n",
       "    <tr>\n",
       "      <th>2</th>\n",
       "      <td>90bfd142157948aba01931726c888e7f</td>\n",
       "      <td>koala-13b</td>\n",
       "      <td>oasst-pythia-12b</td>\n",
       "      <td>model_b</td>\n",
       "      <td>arena_user_973</td>\n",
       "      <td>[{'content': 'Fuji vs. Nikon, which is better?...</td>\n",
       "      <td>[{'content': 'Fuji vs. Nikon, which is better?...</td>\n",
       "    </tr>\n",
       "    <tr>\n",
       "      <th>3</th>\n",
       "      <td>a7c5accc53e649a3bc6b2e41d962ebc4</td>\n",
       "      <td>vicuna-13b</td>\n",
       "      <td>oasst-pythia-12b</td>\n",
       "      <td>model_b</td>\n",
       "      <td>arena_user_973</td>\n",
       "      <td>[{'content': 'How to build an arena for chatbo...</td>\n",
       "      <td>[{'content': 'How to build an arena for chatbo...</td>\n",
       "    </tr>\n",
       "    <tr>\n",
       "      <th>4</th>\n",
       "      <td>adf27e819a3c494cb6e993f0c660e097</td>\n",
       "      <td>vicuna-13b</td>\n",
       "      <td>koala-13b</td>\n",
       "      <td>model_a</td>\n",
       "      <td>arena_user_973</td>\n",
       "      <td>[{'content': 'When is it today?', 'role': 'use...</td>\n",
       "      <td>[{'content': 'When is it today?', 'role': 'use...</td>\n",
       "    </tr>\n",
       "  </tbody>\n",
       "</table>\n",
       "</div>"
      ],
      "text/plain": [
       "                        question_id           model_a           model_b  \\\n",
       "0  58210e39b3fd4441a2bd4a518bb44c2d        chatglm-6b         koala-13b   \n",
       "1  2564acd09e3942fd97657d05282d4389  oasst-pythia-12b        alpaca-13b   \n",
       "2  90bfd142157948aba01931726c888e7f         koala-13b  oasst-pythia-12b   \n",
       "3  a7c5accc53e649a3bc6b2e41d962ebc4        vicuna-13b  oasst-pythia-12b   \n",
       "4  adf27e819a3c494cb6e993f0c660e097        vicuna-13b         koala-13b   \n",
       "\n",
       "    winner           judge                                     conversation_a  \\\n",
       "0  model_b  arena_user_973  [{'content': 'What is the difference between O...   \n",
       "1      tie  arena_user_973  [{'content': 'Why did my parent not invite me ...   \n",
       "2  model_b  arena_user_973  [{'content': 'Fuji vs. Nikon, which is better?...   \n",
       "3  model_b  arena_user_973  [{'content': 'How to build an arena for chatbo...   \n",
       "4  model_a  arena_user_973  [{'content': 'When is it today?', 'role': 'use...   \n",
       "\n",
       "                                      conversation_b  \n",
       "0  [{'content': 'What is the difference between O...  \n",
       "1  [{'content': 'Why did my parent not invite me ...  \n",
       "2  [{'content': 'Fuji vs. Nikon, which is better?...  \n",
       "3  [{'content': 'How to build an arena for chatbo...  \n",
       "4  [{'content': 'When is it today?', 'role': 'use...  "
      ]
     },
     "execution_count": 90,
     "metadata": {},
     "output_type": "execute_result"
    }
   ],
   "source": [
    "# Main Dataset\n",
    "\n",
    "# Conversation Data -- we will use this data in the \"Conversation Data\" section\n",
    "\n",
    "#used to find winner for the Y value\n",
    "\n",
    "\n",
    "df = pd.read_json(\n",
    "    \"data/nlp-chatbot-analysis_data/training-set/chatbot-arena-conversations.jsonl.gz\",\n",
    "    lines=True,\n",
    "    compression=\"gzip\"\n",
    ")\n",
    "\n",
    "df.head(5)\n"
   ]
  },
  {
   "cell_type": "code",
   "execution_count": 91,
   "metadata": {},
   "outputs": [],
   "source": [
    "# Auxiliary Datasets\n",
    "\n",
    "# Embedding Data -- we will use this data in the \"Embedding Data\" section\n",
    "prompt_embeddings = np.load(\n",
    "    \"data/nlp-chatbot-analysis_data/training-set/chatbot-arena-prompts-embeddings.npy\"\n",
    "\n",
    ")\n",
    "\n",
    "response_a_embeddings = np.load(\n",
    "    \"data/nlp-chatbot-analysis_data/training-set/chatbot-arena-model_a_response-embeddings.npy\"\n",
    ")\n",
    "\n",
    "response_b_embeddings = np.load(\n",
    "    \"data/nlp-chatbot-analysis_data/training-set/chatbot-arena-model_b_response-embeddings.npy\"\n",
    ")"
   ]
  },
  {
   "cell_type": "code",
   "execution_count": 92,
   "metadata": {},
   "outputs": [],
   "source": [
    "prompt_embeddings = pd.DataFrame(prompt_embeddings)\n",
    "prompt_embeddings.columns = [\"prompt_embeddings_\" + str(col) for col in prompt_embeddings.columns]\n",
    "response_a_embeddings = pd.DataFrame(response_a_embeddings)\n",
    "response_a_embeddings.columns = [\"response_a_embeddings_\" + str(col) for col in response_a_embeddings.columns]\n",
    "response_b_embeddings = pd.DataFrame(response_b_embeddings)\n",
    "response_b_embeddings.columns = [\"response_b_embeddings_\" + str(col) for col in response_b_embeddings.columns]"
   ]
  },
  {
   "cell_type": "code",
   "execution_count": 93,
   "metadata": {},
   "outputs": [],
   "source": [
    "df_embeddings_prompt_a = pd.concat([prompt_embeddings, response_a_embeddings], axis=1)\n",
    "\n",
    "df_embeddings_prompt_a_b = pd.concat([df_embeddings_prompt_a, response_b_embeddings], axis=1)"
   ]
  },
  {
   "cell_type": "code",
   "execution_count": 94,
   "metadata": {},
   "outputs": [
    {
     "data": {
      "text/html": [
       "<div>\n",
       "<style scoped>\n",
       "    .dataframe tbody tr th:only-of-type {\n",
       "        vertical-align: middle;\n",
       "    }\n",
       "\n",
       "    .dataframe tbody tr th {\n",
       "        vertical-align: top;\n",
       "    }\n",
       "\n",
       "    .dataframe thead th {\n",
       "        text-align: right;\n",
       "    }\n",
       "</style>\n",
       "<table border=\"1\" class=\"dataframe\">\n",
       "  <thead>\n",
       "    <tr style=\"text-align: right;\">\n",
       "      <th></th>\n",
       "      <th>prompt_embeddings_0</th>\n",
       "      <th>prompt_embeddings_1</th>\n",
       "      <th>prompt_embeddings_2</th>\n",
       "      <th>prompt_embeddings_3</th>\n",
       "      <th>prompt_embeddings_4</th>\n",
       "      <th>prompt_embeddings_5</th>\n",
       "      <th>prompt_embeddings_6</th>\n",
       "      <th>prompt_embeddings_7</th>\n",
       "      <th>prompt_embeddings_8</th>\n",
       "      <th>prompt_embeddings_9</th>\n",
       "      <th>...</th>\n",
       "      <th>response_b_embeddings_246</th>\n",
       "      <th>response_b_embeddings_247</th>\n",
       "      <th>response_b_embeddings_248</th>\n",
       "      <th>response_b_embeddings_249</th>\n",
       "      <th>response_b_embeddings_250</th>\n",
       "      <th>response_b_embeddings_251</th>\n",
       "      <th>response_b_embeddings_252</th>\n",
       "      <th>response_b_embeddings_253</th>\n",
       "      <th>response_b_embeddings_254</th>\n",
       "      <th>response_b_embeddings_255</th>\n",
       "    </tr>\n",
       "  </thead>\n",
       "  <tbody>\n",
       "    <tr>\n",
       "      <th>0</th>\n",
       "      <td>-0.12</td>\n",
       "      <td>-0.12</td>\n",
       "      <td>0.05</td>\n",
       "      <td>0.02</td>\n",
       "      <td>0.09</td>\n",
       "      <td>-0.03</td>\n",
       "      <td>0.00</td>\n",
       "      <td>-0.08</td>\n",
       "      <td>0.09</td>\n",
       "      <td>-0.00</td>\n",
       "      <td>...</td>\n",
       "      <td>-0.02</td>\n",
       "      <td>-0.09</td>\n",
       "      <td>0.01</td>\n",
       "      <td>-0.01</td>\n",
       "      <td>0.04</td>\n",
       "      <td>0.05</td>\n",
       "      <td>-0.09</td>\n",
       "      <td>-0.03</td>\n",
       "      <td>0.01</td>\n",
       "      <td>-0.06</td>\n",
       "    </tr>\n",
       "    <tr>\n",
       "      <th>1</th>\n",
       "      <td>0.01</td>\n",
       "      <td>0.03</td>\n",
       "      <td>-0.09</td>\n",
       "      <td>0.04</td>\n",
       "      <td>-0.08</td>\n",
       "      <td>-0.05</td>\n",
       "      <td>-0.05</td>\n",
       "      <td>-0.03</td>\n",
       "      <td>-0.08</td>\n",
       "      <td>0.05</td>\n",
       "      <td>...</td>\n",
       "      <td>0.01</td>\n",
       "      <td>-0.04</td>\n",
       "      <td>-0.02</td>\n",
       "      <td>0.13</td>\n",
       "      <td>0.06</td>\n",
       "      <td>-0.13</td>\n",
       "      <td>0.03</td>\n",
       "      <td>-0.04</td>\n",
       "      <td>-0.05</td>\n",
       "      <td>-0.04</td>\n",
       "    </tr>\n",
       "    <tr>\n",
       "      <th>2</th>\n",
       "      <td>-0.04</td>\n",
       "      <td>-0.11</td>\n",
       "      <td>-0.02</td>\n",
       "      <td>-0.04</td>\n",
       "      <td>0.04</td>\n",
       "      <td>-0.05</td>\n",
       "      <td>-0.01</td>\n",
       "      <td>0.03</td>\n",
       "      <td>0.03</td>\n",
       "      <td>0.02</td>\n",
       "      <td>...</td>\n",
       "      <td>-0.08</td>\n",
       "      <td>-0.00</td>\n",
       "      <td>-0.02</td>\n",
       "      <td>0.03</td>\n",
       "      <td>0.07</td>\n",
       "      <td>0.03</td>\n",
       "      <td>-0.01</td>\n",
       "      <td>-0.11</td>\n",
       "      <td>0.08</td>\n",
       "      <td>-0.06</td>\n",
       "    </tr>\n",
       "    <tr>\n",
       "      <th>3</th>\n",
       "      <td>-0.05</td>\n",
       "      <td>-0.00</td>\n",
       "      <td>0.09</td>\n",
       "      <td>0.03</td>\n",
       "      <td>-0.04</td>\n",
       "      <td>-0.10</td>\n",
       "      <td>-0.02</td>\n",
       "      <td>0.01</td>\n",
       "      <td>-0.06</td>\n",
       "      <td>0.05</td>\n",
       "      <td>...</td>\n",
       "      <td>-0.05</td>\n",
       "      <td>-0.14</td>\n",
       "      <td>0.16</td>\n",
       "      <td>0.03</td>\n",
       "      <td>0.03</td>\n",
       "      <td>0.03</td>\n",
       "      <td>-0.01</td>\n",
       "      <td>-0.03</td>\n",
       "      <td>0.05</td>\n",
       "      <td>-0.09</td>\n",
       "    </tr>\n",
       "    <tr>\n",
       "      <th>4</th>\n",
       "      <td>-0.04</td>\n",
       "      <td>0.05</td>\n",
       "      <td>0.06</td>\n",
       "      <td>0.05</td>\n",
       "      <td>0.05</td>\n",
       "      <td>-0.02</td>\n",
       "      <td>0.06</td>\n",
       "      <td>0.05</td>\n",
       "      <td>-0.07</td>\n",
       "      <td>-0.02</td>\n",
       "      <td>...</td>\n",
       "      <td>0.04</td>\n",
       "      <td>-0.06</td>\n",
       "      <td>-0.06</td>\n",
       "      <td>0.12</td>\n",
       "      <td>0.14</td>\n",
       "      <td>-0.05</td>\n",
       "      <td>-0.03</td>\n",
       "      <td>-0.06</td>\n",
       "      <td>-0.02</td>\n",
       "      <td>-0.00</td>\n",
       "    </tr>\n",
       "    <tr>\n",
       "      <th>...</th>\n",
       "      <td>...</td>\n",
       "      <td>...</td>\n",
       "      <td>...</td>\n",
       "      <td>...</td>\n",
       "      <td>...</td>\n",
       "      <td>...</td>\n",
       "      <td>...</td>\n",
       "      <td>...</td>\n",
       "      <td>...</td>\n",
       "      <td>...</td>\n",
       "      <td>...</td>\n",
       "      <td>...</td>\n",
       "      <td>...</td>\n",
       "      <td>...</td>\n",
       "      <td>...</td>\n",
       "      <td>...</td>\n",
       "      <td>...</td>\n",
       "      <td>...</td>\n",
       "      <td>...</td>\n",
       "      <td>...</td>\n",
       "      <td>...</td>\n",
       "    </tr>\n",
       "    <tr>\n",
       "      <th>25277</th>\n",
       "      <td>-0.04</td>\n",
       "      <td>-0.03</td>\n",
       "      <td>-0.02</td>\n",
       "      <td>-0.09</td>\n",
       "      <td>-0.09</td>\n",
       "      <td>-0.02</td>\n",
       "      <td>0.08</td>\n",
       "      <td>-0.01</td>\n",
       "      <td>0.05</td>\n",
       "      <td>-0.03</td>\n",
       "      <td>...</td>\n",
       "      <td>-0.12</td>\n",
       "      <td>-0.03</td>\n",
       "      <td>0.06</td>\n",
       "      <td>-0.05</td>\n",
       "      <td>-0.01</td>\n",
       "      <td>-0.03</td>\n",
       "      <td>0.04</td>\n",
       "      <td>-0.09</td>\n",
       "      <td>-0.08</td>\n",
       "      <td>0.11</td>\n",
       "    </tr>\n",
       "    <tr>\n",
       "      <th>25278</th>\n",
       "      <td>0.05</td>\n",
       "      <td>-0.14</td>\n",
       "      <td>0.05</td>\n",
       "      <td>0.13</td>\n",
       "      <td>0.09</td>\n",
       "      <td>0.01</td>\n",
       "      <td>0.10</td>\n",
       "      <td>0.08</td>\n",
       "      <td>-0.04</td>\n",
       "      <td>-0.04</td>\n",
       "      <td>...</td>\n",
       "      <td>0.01</td>\n",
       "      <td>-0.02</td>\n",
       "      <td>0.04</td>\n",
       "      <td>0.07</td>\n",
       "      <td>-0.00</td>\n",
       "      <td>-0.02</td>\n",
       "      <td>0.00</td>\n",
       "      <td>-0.03</td>\n",
       "      <td>-0.06</td>\n",
       "      <td>0.02</td>\n",
       "    </tr>\n",
       "    <tr>\n",
       "      <th>25279</th>\n",
       "      <td>0.02</td>\n",
       "      <td>-0.03</td>\n",
       "      <td>0.07</td>\n",
       "      <td>-0.09</td>\n",
       "      <td>-0.03</td>\n",
       "      <td>-0.03</td>\n",
       "      <td>0.00</td>\n",
       "      <td>-0.08</td>\n",
       "      <td>-0.02</td>\n",
       "      <td>-0.04</td>\n",
       "      <td>...</td>\n",
       "      <td>0.00</td>\n",
       "      <td>-0.08</td>\n",
       "      <td>0.08</td>\n",
       "      <td>-0.06</td>\n",
       "      <td>0.00</td>\n",
       "      <td>0.02</td>\n",
       "      <td>-0.02</td>\n",
       "      <td>-0.11</td>\n",
       "      <td>0.00</td>\n",
       "      <td>0.07</td>\n",
       "    </tr>\n",
       "    <tr>\n",
       "      <th>25280</th>\n",
       "      <td>0.02</td>\n",
       "      <td>0.04</td>\n",
       "      <td>0.08</td>\n",
       "      <td>-0.11</td>\n",
       "      <td>-0.03</td>\n",
       "      <td>-0.03</td>\n",
       "      <td>0.03</td>\n",
       "      <td>0.02</td>\n",
       "      <td>0.04</td>\n",
       "      <td>0.07</td>\n",
       "      <td>...</td>\n",
       "      <td>-0.05</td>\n",
       "      <td>-0.03</td>\n",
       "      <td>0.04</td>\n",
       "      <td>0.06</td>\n",
       "      <td>0.06</td>\n",
       "      <td>-0.07</td>\n",
       "      <td>0.03</td>\n",
       "      <td>-0.05</td>\n",
       "      <td>0.08</td>\n",
       "      <td>0.01</td>\n",
       "    </tr>\n",
       "    <tr>\n",
       "      <th>25281</th>\n",
       "      <td>-0.04</td>\n",
       "      <td>0.01</td>\n",
       "      <td>-0.00</td>\n",
       "      <td>-0.03</td>\n",
       "      <td>-0.06</td>\n",
       "      <td>-0.13</td>\n",
       "      <td>-0.01</td>\n",
       "      <td>0.03</td>\n",
       "      <td>0.05</td>\n",
       "      <td>0.02</td>\n",
       "      <td>...</td>\n",
       "      <td>-0.06</td>\n",
       "      <td>-0.02</td>\n",
       "      <td>-0.03</td>\n",
       "      <td>0.03</td>\n",
       "      <td>0.20</td>\n",
       "      <td>-0.06</td>\n",
       "      <td>0.02</td>\n",
       "      <td>0.09</td>\n",
       "      <td>0.01</td>\n",
       "      <td>-0.15</td>\n",
       "    </tr>\n",
       "  </tbody>\n",
       "</table>\n",
       "<p>25282 rows × 768 columns</p>\n",
       "</div>"
      ],
      "text/plain": [
       "       prompt_embeddings_0  prompt_embeddings_1  prompt_embeddings_2  \\\n",
       "0                    -0.12                -0.12                 0.05   \n",
       "1                     0.01                 0.03                -0.09   \n",
       "2                    -0.04                -0.11                -0.02   \n",
       "3                    -0.05                -0.00                 0.09   \n",
       "4                    -0.04                 0.05                 0.06   \n",
       "...                    ...                  ...                  ...   \n",
       "25277                -0.04                -0.03                -0.02   \n",
       "25278                 0.05                -0.14                 0.05   \n",
       "25279                 0.02                -0.03                 0.07   \n",
       "25280                 0.02                 0.04                 0.08   \n",
       "25281                -0.04                 0.01                -0.00   \n",
       "\n",
       "       prompt_embeddings_3  prompt_embeddings_4  prompt_embeddings_5  \\\n",
       "0                     0.02                 0.09                -0.03   \n",
       "1                     0.04                -0.08                -0.05   \n",
       "2                    -0.04                 0.04                -0.05   \n",
       "3                     0.03                -0.04                -0.10   \n",
       "4                     0.05                 0.05                -0.02   \n",
       "...                    ...                  ...                  ...   \n",
       "25277                -0.09                -0.09                -0.02   \n",
       "25278                 0.13                 0.09                 0.01   \n",
       "25279                -0.09                -0.03                -0.03   \n",
       "25280                -0.11                -0.03                -0.03   \n",
       "25281                -0.03                -0.06                -0.13   \n",
       "\n",
       "       prompt_embeddings_6  prompt_embeddings_7  prompt_embeddings_8  \\\n",
       "0                     0.00                -0.08                 0.09   \n",
       "1                    -0.05                -0.03                -0.08   \n",
       "2                    -0.01                 0.03                 0.03   \n",
       "3                    -0.02                 0.01                -0.06   \n",
       "4                     0.06                 0.05                -0.07   \n",
       "...                    ...                  ...                  ...   \n",
       "25277                 0.08                -0.01                 0.05   \n",
       "25278                 0.10                 0.08                -0.04   \n",
       "25279                 0.00                -0.08                -0.02   \n",
       "25280                 0.03                 0.02                 0.04   \n",
       "25281                -0.01                 0.03                 0.05   \n",
       "\n",
       "       prompt_embeddings_9  ...  response_b_embeddings_246  \\\n",
       "0                    -0.00  ...                      -0.02   \n",
       "1                     0.05  ...                       0.01   \n",
       "2                     0.02  ...                      -0.08   \n",
       "3                     0.05  ...                      -0.05   \n",
       "4                    -0.02  ...                       0.04   \n",
       "...                    ...  ...                        ...   \n",
       "25277                -0.03  ...                      -0.12   \n",
       "25278                -0.04  ...                       0.01   \n",
       "25279                -0.04  ...                       0.00   \n",
       "25280                 0.07  ...                      -0.05   \n",
       "25281                 0.02  ...                      -0.06   \n",
       "\n",
       "       response_b_embeddings_247  response_b_embeddings_248  \\\n",
       "0                          -0.09                       0.01   \n",
       "1                          -0.04                      -0.02   \n",
       "2                          -0.00                      -0.02   \n",
       "3                          -0.14                       0.16   \n",
       "4                          -0.06                      -0.06   \n",
       "...                          ...                        ...   \n",
       "25277                      -0.03                       0.06   \n",
       "25278                      -0.02                       0.04   \n",
       "25279                      -0.08                       0.08   \n",
       "25280                      -0.03                       0.04   \n",
       "25281                      -0.02                      -0.03   \n",
       "\n",
       "       response_b_embeddings_249  response_b_embeddings_250  \\\n",
       "0                          -0.01                       0.04   \n",
       "1                           0.13                       0.06   \n",
       "2                           0.03                       0.07   \n",
       "3                           0.03                       0.03   \n",
       "4                           0.12                       0.14   \n",
       "...                          ...                        ...   \n",
       "25277                      -0.05                      -0.01   \n",
       "25278                       0.07                      -0.00   \n",
       "25279                      -0.06                       0.00   \n",
       "25280                       0.06                       0.06   \n",
       "25281                       0.03                       0.20   \n",
       "\n",
       "       response_b_embeddings_251  response_b_embeddings_252  \\\n",
       "0                           0.05                      -0.09   \n",
       "1                          -0.13                       0.03   \n",
       "2                           0.03                      -0.01   \n",
       "3                           0.03                      -0.01   \n",
       "4                          -0.05                      -0.03   \n",
       "...                          ...                        ...   \n",
       "25277                      -0.03                       0.04   \n",
       "25278                      -0.02                       0.00   \n",
       "25279                       0.02                      -0.02   \n",
       "25280                      -0.07                       0.03   \n",
       "25281                      -0.06                       0.02   \n",
       "\n",
       "       response_b_embeddings_253  response_b_embeddings_254  \\\n",
       "0                          -0.03                       0.01   \n",
       "1                          -0.04                      -0.05   \n",
       "2                          -0.11                       0.08   \n",
       "3                          -0.03                       0.05   \n",
       "4                          -0.06                      -0.02   \n",
       "...                          ...                        ...   \n",
       "25277                      -0.09                      -0.08   \n",
       "25278                      -0.03                      -0.06   \n",
       "25279                      -0.11                       0.00   \n",
       "25280                      -0.05                       0.08   \n",
       "25281                       0.09                       0.01   \n",
       "\n",
       "       response_b_embeddings_255  \n",
       "0                          -0.06  \n",
       "1                          -0.04  \n",
       "2                          -0.06  \n",
       "3                          -0.09  \n",
       "4                          -0.00  \n",
       "...                          ...  \n",
       "25277                       0.11  \n",
       "25278                       0.02  \n",
       "25279                       0.07  \n",
       "25280                       0.01  \n",
       "25281                      -0.15  \n",
       "\n",
       "[25282 rows x 768 columns]"
      ]
     },
     "execution_count": 94,
     "metadata": {},
     "output_type": "execute_result"
    }
   ],
   "source": [
    "\n",
    "df_embeddings_prompt_a_b"
   ]
  },
  {
   "cell_type": "code",
   "execution_count": 95,
   "metadata": {},
   "outputs": [],
   "source": [
    "# loads the Y values for the traning data set\n",
    "\n",
    "\n",
    "df_model_name = pd.read_json(\n",
    "    \"Data/nlp-chatbot-analysis_data/training-set/chatbot-arena-conversations.jsonl.gz\",\n",
    "    lines=True,\n",
    "    compression=\"gzip\"\n",
    ")"
   ]
  },
  {
   "cell_type": "code",
   "execution_count": 96,
   "metadata": {},
   "outputs": [],
   "source": [
    "#calcualte ELO for traning data set\n",
    "\n",
    "df_elo = preety_print_model_ratings(elo_mle_ratings)\n",
    "df_elo_a = df_elo.rename(columns={\n",
    "    'Model': 'model_a',\n",
    "    'Elo rating': 'Elo rating a'\n",
    "})\n",
    "\n",
    "df_elo_b = df_elo.rename(columns={\n",
    "    'Model': 'model_b',\n",
    "    'Elo rating': 'Elo rating b'\n",
    "})\n"
   ]
  },
  {
   "cell_type": "code",
   "execution_count": 97,
   "metadata": {},
   "outputs": [],
   "source": [
    "# Merge all feature data sets\n",
    "\n",
    "merged_df = df_model_name.merge(df_elo_a[['model_a', 'Elo rating a']], on='model_a', how='left')\n",
    "merged_df = merged_df.merge(df_elo_b[['model_b', 'Elo rating b']], on='model_b', how='left')\n",
    "\n",
    "\n",
    "df_encoded = pd.concat([\n",
    "    pd.Series(merged_df[\"Elo rating a\"]),\n",
    "    pd.Series(merged_df[\"Elo rating b\"])\n",
    "], axis=1)\n",
    "\n",
    "final= pd.concat([df_encoded,df_embeddings_prompt_a_b], axis=1)\n",
    "\n",
    "cat_winner = pd.Categorical(df_model_name[\"winner\"])\n",
    "\n",
    "final = pd.concat([\n",
    "    final, \n",
    "    pd.Series(cat_winner.codes, name=\"winner_encoded\")\n",
    "], axis=1)\n",
    "\n",
    "\n",
    "# convert all column names to type string\n",
    "final.columns = final.columns.astype(str)"
   ]
  },
  {
   "cell_type": "markdown",
   "metadata": {},
   "source": [
    "# Make train and test data set"
   ]
  },
  {
   "cell_type": "code",
   "execution_count": 98,
   "metadata": {},
   "outputs": [
    {
     "name": "stdout",
     "output_type": "stream",
     "text": [
      "<class 'pandas.core.frame.DataFrame'>\n",
      "RangeIndex: 25282 entries, 0 to 25281\n",
      "Columns: 771 entries, Elo rating a to winner_encoded\n",
      "dtypes: float32(768), float64(2), int8(1)\n",
      "memory usage: 74.5 MB\n",
      "None\n",
      "Elo rating a                 0\n",
      "Elo rating b                 0\n",
      "prompt_embeddings_0          0\n",
      "prompt_embeddings_1          0\n",
      "prompt_embeddings_2          0\n",
      "                            ..\n",
      "response_b_embeddings_252    0\n",
      "response_b_embeddings_253    0\n",
      "response_b_embeddings_254    0\n",
      "response_b_embeddings_255    0\n",
      "winner_encoded               0\n",
      "Length: 771, dtype: int64\n",
      "columns Index(['Elo rating a', 'Elo rating b', 'prompt_embeddings_0',\n",
      "       'prompt_embeddings_1', 'prompt_embeddings_2', 'prompt_embeddings_3',\n",
      "       'prompt_embeddings_4', 'prompt_embeddings_5', 'prompt_embeddings_6',\n",
      "       'prompt_embeddings_7',\n",
      "       ...\n",
      "       'response_b_embeddings_246', 'response_b_embeddings_247',\n",
      "       'response_b_embeddings_248', 'response_b_embeddings_249',\n",
      "       'response_b_embeddings_250', 'response_b_embeddings_251',\n",
      "       'response_b_embeddings_252', 'response_b_embeddings_253',\n",
      "       'response_b_embeddings_254', 'response_b_embeddings_255'],\n",
      "      dtype='object', length=770)\n"
     ]
    }
   ],
   "source": [
    "df = final\n",
    "\n",
    "# Display basic info and check for missing values\n",
    "print(df.info())\n",
    "print(df.isnull().sum())\n",
    "\n",
    "# Assume the target column is the last column and features are the rest\n",
    "target_column = df.columns[-1]\n",
    "X = df.drop(target_column, axis=1)  # Now X excludes the target col\n",
    "y = df[target_column]\n",
    "\n",
    "\n",
    "# Split the data into training and testing sets\n",
    "X_train, X_test, y_train, y_test = train_test_split(X, y, test_size=0.1, random_state=40)\n",
    "\n",
    "print(\"columns\",X_train.columns)"
   ]
  },
  {
   "cell_type": "markdown",
   "metadata": {},
   "source": [
    "# Train Model"
   ]
  },
  {
   "cell_type": "code",
   "execution_count": 99,
   "metadata": {},
   "outputs": [
    {
     "name": "stdout",
     "output_type": "stream",
     "text": [
      "Accuracy: 0.55\n",
      "Classification Report:\n",
      "              precision    recall  f1-score   support\n",
      "\n",
      "           0       0.56      0.69      0.62       880\n",
      "           1       0.59      0.68      0.63       888\n",
      "           2       0.28      0.08      0.12       262\n",
      "           3       0.46      0.32      0.38       499\n",
      "\n",
      "    accuracy                           0.55      2529\n",
      "   macro avg       0.47      0.44      0.44      2529\n",
      "weighted avg       0.52      0.55      0.52      2529\n",
      "\n"
     ]
    },
    {
     "data": {
      "image/png": "[encoded data removed]",
      "text/plain": [
       "<Figure size 500x500 with 1 Axes>"
      ]
     },
     "metadata": {},
     "output_type": "display_data"
    }
   ],
   "source": [
    "\n",
    "\n",
    "\n",
    "# Scale the features\n",
    "scaler = StandardScaler()\n",
    "X_train = scaler.fit_transform(X_train)\n",
    "X_test = scaler.transform(X_test)\n",
    "\n",
    "# Train a Logistic Regression model\n",
    "model = LogisticRegression()\n",
    "model.fit(X_train, y_train)\n",
    "\n",
    "# Make predictions\n",
    "y_pred = model.predict(X_test)\n",
    "\n",
    "# Evaluate the model\n",
    "accuracy = accuracy_score(y_test, y_pred)\n",
    "print(f\"Accuracy: {accuracy:.2f}\")\n",
    "print(\"Classification Report:\")\n",
    "print(classification_report(y_test, y_pred))\n",
    "\n",
    "# Display the confusion matrix\n",
    "conf_matrix = confusion_matrix(y_test, y_pred)\n",
    "plt.figure(figsize=(5, 5))\n",
    "sns.heatmap(conf_matrix, annot=True, fmt=\"d\", cmap=\"Blues\", cbar=False)\n",
    "plt.xlabel('Predicted')\n",
    "plt.ylabel('Actual')\n",
    "plt.title('Confusion Matrix')\n",
    "plt.show()"
   ]
  },
  {
   "cell_type": "code",
   "execution_count": 100,
   "metadata": {},
   "outputs": [],
   "source": [
    "X_scale = scaler.transform(X)"
   ]
  },
  {
   "cell_type": "markdown",
   "metadata": {},
   "source": [
    "# Cross-validation"
   ]
  },
  {
   "cell_type": "code",
   "execution_count": 101,
   "metadata": {},
   "outputs": [
    {
     "name": "stdout",
     "output_type": "stream",
     "text": [
      "Cross-validation scores: [0.52224639 0.57603322 0.55498418 0.53481013 0.50573576]\n",
      "Mean score: 0.5387619351419138\n"
     ]
    }
   ],
   "source": [
    "from sklearn.model_selection import cross_val_score\n",
    "\n",
    "scores = cross_val_score(model, X_scale, y, cv=5, scoring='accuracy')  # or 'roc_auc', etc.\n",
    "print(\"Cross-validation scores:\", scores)\n",
    "print(\"Mean score:\", scores.mean())"
   ]
  },
  {
   "cell_type": "code",
   "execution_count": 102,
   "metadata": {},
   "outputs": [
    {
     "name": "stdout",
     "output_type": "stream",
     "text": [
      "Accuracy: 0.59\n",
      "Classification Report:\n",
      "              precision    recall  f1-score   support\n",
      "\n",
      "           0       0.61      0.73      0.66      9002\n",
      "           1       0.60      0.72      0.65      8862\n",
      "           2       0.47      0.11      0.18      2786\n",
      "           3       0.53      0.37      0.44      4632\n",
      "\n",
      "    accuracy                           0.59     25282\n",
      "   macro avg       0.55      0.48      0.48     25282\n",
      "weighted avg       0.57      0.59      0.56     25282\n",
      "\n"
     ]
    },
    {
     "data": {
      "image/png": "[encoded data removed]",
      "text/plain": [
       "<Figure size 500x500 with 1 Axes>"
      ]
     },
     "metadata": {},
     "output_type": "display_data"
    },
    {
     "data": {
      "text/plain": [
       "<Figure size 640x480 with 0 Axes>"
      ]
     },
     "metadata": {},
     "output_type": "display_data"
    }
   ],
   "source": [
    "# Make predictions\n",
    "y_pred = model.predict(X_scale)\n",
    "\n",
    "# Evaluate the model\n",
    "accuracy = accuracy_score(y, y_pred)\n",
    "print(f\"Accuracy: {accuracy:.2f}\")\n",
    "print(\"Classification Report:\")\n",
    "print(classification_report(y, y_pred))\n",
    "\n",
    "# Display the confusion matrix\n",
    "conf_matrix = confusion_matrix(y, y_pred)\n",
    "plt.figure(figsize=(5, 5))\n",
    "sns.heatmap(conf_matrix, annot=True, fmt=\"d\", cmap=\"Blues\", cbar=False)\n",
    "plt.xlabel('Predicted')\n",
    "plt.ylabel('Actual')\n",
    "plt.title('Confusion Matrix')\n",
    "plt.show()\n",
    "\n",
    "# plt.# savefig(\"figures/Task_A_Confusion_matrix.png\", dpi=300, bbox_inches='tight')"
   ]
  },
  {
   "cell_type": "markdown",
   "metadata": {},
   "source": [
    "# Test data set"
   ]
  },
  {
   "cell_type": "markdown",
   "metadata": {},
   "source": [
    "# load files as Numpy Array"
   ]
  },
  {
   "cell_type": "code",
   "execution_count": 103,
   "metadata": {},
   "outputs": [],
   "source": [
    "# Auxiliary Datasets\n",
    "\n",
    "prompt_embeddings = pd.DataFrame\n",
    "response_a_embeddings = pd.DataFrame\n",
    "response_b_embeddings = pd.DataFrame\n",
    "\n",
    "\n",
    "# Embedding Data -- we will use this data in the \"Embedding Data\" section\n",
    "prompt_embeddings = np.load(\n",
    "    \"data/nlp-chatbot-analysis_data/test-set/arena-test-set-prompts-embeddings.npy\"\n",
    "\n",
    ")\n",
    "\n",
    "response_a_embeddings = np.load(\n",
    "    \"data/nlp-chatbot-analysis_data/test-set/arena-test-set-model_a_response-embeddings.npy\"\n",
    ")\n",
    "\n",
    "response_b_embeddings = np.load(\n",
    "    \"data/nlp-chatbot-analysis_data/test-set/arena-test-set-model_b_response-embeddings.npy\"\n",
    ")\n"
   ]
  },
  {
   "cell_type": "code",
   "execution_count": 104,
   "metadata": {},
   "outputs": [],
   "source": [
    "prompt_embeddings = pd.DataFrame(prompt_embeddings)\n",
    "prompt_embeddings.columns = [\"prompt_embeddings_\" + str(col) for col in prompt_embeddings.columns]\n",
    "response_a_embeddings = pd.DataFrame(response_a_embeddings)\n",
    "response_a_embeddings.columns = [\"response_a_embeddings_\" + str(col) for col in response_a_embeddings.columns]\n",
    "response_b_embeddings = pd.DataFrame(response_b_embeddings)\n",
    "response_b_embeddings.columns = [\"response_b_embeddings_\" + str(col) for col in response_b_embeddings.columns]\n",
    "\n",
    "df_embeddings_prompt_a = pd.concat([prompt_embeddings, response_a_embeddings], axis=1)\n",
    "df_embeddings_prompt_a_b = pd.concat([df_embeddings_prompt_a, response_b_embeddings], axis=1)"
   ]
  },
  {
   "cell_type": "code",
   "execution_count": 105,
   "metadata": {},
   "outputs": [
    {
     "data": {
      "text/html": [
       "<div>\n",
       "<style scoped>\n",
       "    .dataframe tbody tr th:only-of-type {\n",
       "        vertical-align: middle;\n",
       "    }\n",
       "\n",
       "    .dataframe tbody tr th {\n",
       "        vertical-align: top;\n",
       "    }\n",
       "\n",
       "    .dataframe thead th {\n",
       "        text-align: right;\n",
       "    }\n",
       "</style>\n",
       "<table border=\"1\" class=\"dataframe\">\n",
       "  <thead>\n",
       "    <tr style=\"text-align: right;\">\n",
       "      <th></th>\n",
       "      <th>model_a</th>\n",
       "      <th>Elo rating a</th>\n",
       "    </tr>\n",
       "  </thead>\n",
       "  <tbody>\n",
       "    <tr>\n",
       "      <th>1</th>\n",
       "      <td>gpt-4</td>\n",
       "      <td>1233.27</td>\n",
       "    </tr>\n",
       "    <tr>\n",
       "      <th>2</th>\n",
       "      <td>claude-v1</td>\n",
       "      <td>1187.56</td>\n",
       "    </tr>\n",
       "    <tr>\n",
       "      <th>3</th>\n",
       "      <td>claude-instant-v1</td>\n",
       "      <td>1164.99</td>\n",
       "    </tr>\n",
       "    <tr>\n",
       "      <th>4</th>\n",
       "      <td>gpt-3.5-turbo</td>\n",
       "      <td>1127.54</td>\n",
       "    </tr>\n",
       "    <tr>\n",
       "      <th>5</th>\n",
       "      <td>guanaco-33b</td>\n",
       "      <td>1084.55</td>\n",
       "    </tr>\n",
       "    <tr>\n",
       "      <th>6</th>\n",
       "      <td>palm-2</td>\n",
       "      <td>1074.47</td>\n",
       "    </tr>\n",
       "    <tr>\n",
       "      <th>7</th>\n",
       "      <td>vicuna-13b</td>\n",
       "      <td>1053.70</td>\n",
       "    </tr>\n",
       "    <tr>\n",
       "      <th>8</th>\n",
       "      <td>wizardlm-13b</td>\n",
       "      <td>1047.24</td>\n",
       "    </tr>\n",
       "    <tr>\n",
       "      <th>9</th>\n",
       "      <td>vicuna-7b</td>\n",
       "      <td>1017.56</td>\n",
       "    </tr>\n",
       "    <tr>\n",
       "      <th>10</th>\n",
       "      <td>koala-13b</td>\n",
       "      <td>1005.70</td>\n",
       "    </tr>\n",
       "    <tr>\n",
       "      <th>11</th>\n",
       "      <td>gpt4all-13b-snoozy</td>\n",
       "      <td>956.79</td>\n",
       "    </tr>\n",
       "    <tr>\n",
       "      <th>12</th>\n",
       "      <td>mpt-7b-chat</td>\n",
       "      <td>952.68</td>\n",
       "    </tr>\n",
       "    <tr>\n",
       "      <th>13</th>\n",
       "      <td>RWKV-4-Raven-14B</td>\n",
       "      <td>939.96</td>\n",
       "    </tr>\n",
       "    <tr>\n",
       "      <th>14</th>\n",
       "      <td>oasst-pythia-12b</td>\n",
       "      <td>924.17</td>\n",
       "    </tr>\n",
       "    <tr>\n",
       "      <th>15</th>\n",
       "      <td>alpaca-13b</td>\n",
       "      <td>917.85</td>\n",
       "    </tr>\n",
       "    <tr>\n",
       "      <th>16</th>\n",
       "      <td>fastchat-t5-3b</td>\n",
       "      <td>904.22</td>\n",
       "    </tr>\n",
       "    <tr>\n",
       "      <th>17</th>\n",
       "      <td>chatglm-6b</td>\n",
       "      <td>896.26</td>\n",
       "    </tr>\n",
       "    <tr>\n",
       "      <th>18</th>\n",
       "      <td>stablelm-tuned-alpha-7b</td>\n",
       "      <td>859.86</td>\n",
       "    </tr>\n",
       "    <tr>\n",
       "      <th>19</th>\n",
       "      <td>dolly-v2-12b</td>\n",
       "      <td>838.50</td>\n",
       "    </tr>\n",
       "    <tr>\n",
       "      <th>20</th>\n",
       "      <td>llama-13b</td>\n",
       "      <td>813.14</td>\n",
       "    </tr>\n",
       "  </tbody>\n",
       "</table>\n",
       "</div>"
      ],
      "text/plain": [
       "                    model_a  Elo rating a\n",
       "1                     gpt-4       1233.27\n",
       "2                 claude-v1       1187.56\n",
       "3         claude-instant-v1       1164.99\n",
       "4             gpt-3.5-turbo       1127.54\n",
       "5               guanaco-33b       1084.55\n",
       "6                    palm-2       1074.47\n",
       "7                vicuna-13b       1053.70\n",
       "8              wizardlm-13b       1047.24\n",
       "9                 vicuna-7b       1017.56\n",
       "10                koala-13b       1005.70\n",
       "11       gpt4all-13b-snoozy        956.79\n",
       "12              mpt-7b-chat        952.68\n",
       "13         RWKV-4-Raven-14B        939.96\n",
       "14         oasst-pythia-12b        924.17\n",
       "15               alpaca-13b        917.85\n",
       "16           fastchat-t5-3b        904.22\n",
       "17               chatglm-6b        896.26\n",
       "18  stablelm-tuned-alpha-7b        859.86\n",
       "19             dolly-v2-12b        838.50\n",
       "20                llama-13b        813.14"
      ]
     },
     "execution_count": 105,
     "metadata": {},
     "output_type": "execute_result"
    }
   ],
   "source": [
    "# calculate ELO raitings for the traning data\n",
    "\n",
    "df_elo = preety_print_model_ratings(elo_mle_ratings)\n",
    "df_elo_a = df_elo.rename(columns={\n",
    "    'Model': 'model_a',\n",
    "    'Elo rating': 'Elo rating a'\n",
    "})\n",
    "\n",
    "df_elo_b = df_elo.rename(columns={\n",
    "    'Model': 'model_b',\n",
    "    'Elo rating': 'Elo rating b'\n",
    "})\n",
    "\n",
    "df_elo_a"
   ]
  },
  {
   "cell_type": "code",
   "execution_count": 106,
   "metadata": {},
   "outputs": [
    {
     "data": {
      "text/html": [
       "<div>\n",
       "<style scoped>\n",
       "    .dataframe tbody tr th:only-of-type {\n",
       "        vertical-align: middle;\n",
       "    }\n",
       "\n",
       "    .dataframe tbody tr th {\n",
       "        vertical-align: top;\n",
       "    }\n",
       "\n",
       "    .dataframe thead th {\n",
       "        text-align: right;\n",
       "    }\n",
       "</style>\n",
       "<table border=\"1\" class=\"dataframe\">\n",
       "  <thead>\n",
       "    <tr style=\"text-align: right;\">\n",
       "      <th></th>\n",
       "      <th>Elo rating a</th>\n",
       "      <th>Elo rating b</th>\n",
       "      <th>prompt_embeddings_0</th>\n",
       "      <th>prompt_embeddings_1</th>\n",
       "      <th>prompt_embeddings_2</th>\n",
       "      <th>prompt_embeddings_3</th>\n",
       "      <th>prompt_embeddings_4</th>\n",
       "      <th>prompt_embeddings_5</th>\n",
       "      <th>prompt_embeddings_6</th>\n",
       "      <th>prompt_embeddings_7</th>\n",
       "      <th>...</th>\n",
       "      <th>response_b_embeddings_247</th>\n",
       "      <th>response_b_embeddings_248</th>\n",
       "      <th>response_b_embeddings_249</th>\n",
       "      <th>response_b_embeddings_250</th>\n",
       "      <th>response_b_embeddings_251</th>\n",
       "      <th>response_b_embeddings_252</th>\n",
       "      <th>response_b_embeddings_253</th>\n",
       "      <th>response_b_embeddings_254</th>\n",
       "      <th>response_b_embeddings_255</th>\n",
       "      <th>winner_encoded</th>\n",
       "    </tr>\n",
       "  </thead>\n",
       "  <tbody>\n",
       "    <tr>\n",
       "      <th>0</th>\n",
       "      <td>896.26</td>\n",
       "      <td>1005.70</td>\n",
       "      <td>-0.12</td>\n",
       "      <td>-0.12</td>\n",
       "      <td>0.05</td>\n",
       "      <td>0.02</td>\n",
       "      <td>0.09</td>\n",
       "      <td>-0.03</td>\n",
       "      <td>0.00</td>\n",
       "      <td>-0.08</td>\n",
       "      <td>...</td>\n",
       "      <td>-0.09</td>\n",
       "      <td>0.01</td>\n",
       "      <td>-0.01</td>\n",
       "      <td>0.04</td>\n",
       "      <td>0.05</td>\n",
       "      <td>-0.09</td>\n",
       "      <td>-0.03</td>\n",
       "      <td>0.01</td>\n",
       "      <td>-0.06</td>\n",
       "      <td>1</td>\n",
       "    </tr>\n",
       "    <tr>\n",
       "      <th>1</th>\n",
       "      <td>924.17</td>\n",
       "      <td>917.85</td>\n",
       "      <td>0.01</td>\n",
       "      <td>0.03</td>\n",
       "      <td>-0.09</td>\n",
       "      <td>0.04</td>\n",
       "      <td>-0.08</td>\n",
       "      <td>-0.05</td>\n",
       "      <td>-0.05</td>\n",
       "      <td>-0.03</td>\n",
       "      <td>...</td>\n",
       "      <td>-0.04</td>\n",
       "      <td>-0.02</td>\n",
       "      <td>0.13</td>\n",
       "      <td>0.06</td>\n",
       "      <td>-0.13</td>\n",
       "      <td>0.03</td>\n",
       "      <td>-0.04</td>\n",
       "      <td>-0.05</td>\n",
       "      <td>-0.04</td>\n",
       "      <td>2</td>\n",
       "    </tr>\n",
       "    <tr>\n",
       "      <th>2</th>\n",
       "      <td>1005.70</td>\n",
       "      <td>924.17</td>\n",
       "      <td>-0.04</td>\n",
       "      <td>-0.11</td>\n",
       "      <td>-0.02</td>\n",
       "      <td>-0.04</td>\n",
       "      <td>0.04</td>\n",
       "      <td>-0.05</td>\n",
       "      <td>-0.01</td>\n",
       "      <td>0.03</td>\n",
       "      <td>...</td>\n",
       "      <td>-0.00</td>\n",
       "      <td>-0.02</td>\n",
       "      <td>0.03</td>\n",
       "      <td>0.07</td>\n",
       "      <td>0.03</td>\n",
       "      <td>-0.01</td>\n",
       "      <td>-0.11</td>\n",
       "      <td>0.08</td>\n",
       "      <td>-0.06</td>\n",
       "      <td>1</td>\n",
       "    </tr>\n",
       "    <tr>\n",
       "      <th>3</th>\n",
       "      <td>1053.70</td>\n",
       "      <td>924.17</td>\n",
       "      <td>-0.05</td>\n",
       "      <td>-0.00</td>\n",
       "      <td>0.09</td>\n",
       "      <td>0.03</td>\n",
       "      <td>-0.04</td>\n",
       "      <td>-0.10</td>\n",
       "      <td>-0.02</td>\n",
       "      <td>0.01</td>\n",
       "      <td>...</td>\n",
       "      <td>-0.14</td>\n",
       "      <td>0.16</td>\n",
       "      <td>0.03</td>\n",
       "      <td>0.03</td>\n",
       "      <td>0.03</td>\n",
       "      <td>-0.01</td>\n",
       "      <td>-0.03</td>\n",
       "      <td>0.05</td>\n",
       "      <td>-0.09</td>\n",
       "      <td>1</td>\n",
       "    </tr>\n",
       "    <tr>\n",
       "      <th>4</th>\n",
       "      <td>1053.70</td>\n",
       "      <td>1005.70</td>\n",
       "      <td>-0.04</td>\n",
       "      <td>0.05</td>\n",
       "      <td>0.06</td>\n",
       "      <td>0.05</td>\n",
       "      <td>0.05</td>\n",
       "      <td>-0.02</td>\n",
       "      <td>0.06</td>\n",
       "      <td>0.05</td>\n",
       "      <td>...</td>\n",
       "      <td>-0.06</td>\n",
       "      <td>-0.06</td>\n",
       "      <td>0.12</td>\n",
       "      <td>0.14</td>\n",
       "      <td>-0.05</td>\n",
       "      <td>-0.03</td>\n",
       "      <td>-0.06</td>\n",
       "      <td>-0.02</td>\n",
       "      <td>-0.00</td>\n",
       "      <td>0</td>\n",
       "    </tr>\n",
       "  </tbody>\n",
       "</table>\n",
       "<p>5 rows × 771 columns</p>\n",
       "</div>"
      ],
      "text/plain": [
       "   Elo rating a  Elo rating b  prompt_embeddings_0  prompt_embeddings_1  \\\n",
       "0        896.26       1005.70                -0.12                -0.12   \n",
       "1        924.17        917.85                 0.01                 0.03   \n",
       "2       1005.70        924.17                -0.04                -0.11   \n",
       "3       1053.70        924.17                -0.05                -0.00   \n",
       "4       1053.70       1005.70                -0.04                 0.05   \n",
       "\n",
       "   prompt_embeddings_2  prompt_embeddings_3  prompt_embeddings_4  \\\n",
       "0                 0.05                 0.02                 0.09   \n",
       "1                -0.09                 0.04                -0.08   \n",
       "2                -0.02                -0.04                 0.04   \n",
       "3                 0.09                 0.03                -0.04   \n",
       "4                 0.06                 0.05                 0.05   \n",
       "\n",
       "   prompt_embeddings_5  prompt_embeddings_6  prompt_embeddings_7  ...  \\\n",
       "0                -0.03                 0.00                -0.08  ...   \n",
       "1                -0.05                -0.05                -0.03  ...   \n",
       "2                -0.05                -0.01                 0.03  ...   \n",
       "3                -0.10                -0.02                 0.01  ...   \n",
       "4                -0.02                 0.06                 0.05  ...   \n",
       "\n",
       "   response_b_embeddings_247  response_b_embeddings_248  \\\n",
       "0                      -0.09                       0.01   \n",
       "1                      -0.04                      -0.02   \n",
       "2                      -0.00                      -0.02   \n",
       "3                      -0.14                       0.16   \n",
       "4                      -0.06                      -0.06   \n",
       "\n",
       "   response_b_embeddings_249  response_b_embeddings_250  \\\n",
       "0                      -0.01                       0.04   \n",
       "1                       0.13                       0.06   \n",
       "2                       0.03                       0.07   \n",
       "3                       0.03                       0.03   \n",
       "4                       0.12                       0.14   \n",
       "\n",
       "   response_b_embeddings_251  response_b_embeddings_252  \\\n",
       "0                       0.05                      -0.09   \n",
       "1                      -0.13                       0.03   \n",
       "2                       0.03                      -0.01   \n",
       "3                       0.03                      -0.01   \n",
       "4                      -0.05                      -0.03   \n",
       "\n",
       "   response_b_embeddings_253  response_b_embeddings_254  \\\n",
       "0                      -0.03                       0.01   \n",
       "1                      -0.04                      -0.05   \n",
       "2                      -0.11                       0.08   \n",
       "3                      -0.03                       0.05   \n",
       "4                      -0.06                      -0.02   \n",
       "\n",
       "   response_b_embeddings_255  winner_encoded  \n",
       "0                      -0.06               1  \n",
       "1                      -0.04               2  \n",
       "2                      -0.06               1  \n",
       "3                      -0.09               1  \n",
       "4                      -0.00               0  \n",
       "\n",
       "[5 rows x 771 columns]"
      ]
     },
     "execution_count": 106,
     "metadata": {},
     "output_type": "execute_result"
    }
   ],
   "source": [
    "# load models name for model A and model B\n",
    "df_model_name = pd.read_json(\n",
    "    \"data/nlp-chatbot-analysis_data/test-set/arena-test-set-prompt-and-responses.jsonl.gz\",\n",
    "    lines=True,\n",
    "    compression=\"gzip\"\n",
    ")\n",
    "\n",
    "df.head(5)"
   ]
  },
  {
   "cell_type": "code",
   "execution_count": 107,
   "metadata": {},
   "outputs": [
    {
     "data": {
      "text/html": [
       "<div>\n",
       "<style scoped>\n",
       "    .dataframe tbody tr th:only-of-type {\n",
       "        vertical-align: middle;\n",
       "    }\n",
       "\n",
       "    .dataframe tbody tr th {\n",
       "        vertical-align: top;\n",
       "    }\n",
       "\n",
       "    .dataframe thead th {\n",
       "        text-align: right;\n",
       "    }\n",
       "</style>\n",
       "<table border=\"1\" class=\"dataframe\">\n",
       "  <thead>\n",
       "    <tr style=\"text-align: right;\">\n",
       "      <th></th>\n",
       "      <th>question_id</th>\n",
       "      <th>prompt</th>\n",
       "      <th>model_a</th>\n",
       "      <th>model_b</th>\n",
       "      <th>model_a_response</th>\n",
       "      <th>model_b_response</th>\n",
       "      <th>Elo rating a</th>\n",
       "      <th>Elo rating b</th>\n",
       "    </tr>\n",
       "  </thead>\n",
       "  <tbody>\n",
       "    <tr>\n",
       "      <th>0</th>\n",
       "      <td>4f332ebd8cdc4ff2be74aa8828ff20d5</td>\n",
       "      <td>what do you think about the future of iran?</td>\n",
       "      <td>koala-13b</td>\n",
       "      <td>vicuna-13b</td>\n",
       "      <td>As an AI language model, I don't have the abil...</td>\n",
       "      <td>As an AI language model, I do not have persona...</td>\n",
       "      <td>1005.70</td>\n",
       "      <td>1053.70</td>\n",
       "    </tr>\n",
       "    <tr>\n",
       "      <th>1</th>\n",
       "      <td>f2be6f13e5ed40e5b81443223996494c</td>\n",
       "      <td>Salut ! Tu es un méchant chatbot !</td>\n",
       "      <td>stablelm-tuned-alpha-7b</td>\n",
       "      <td>vicuna-13b</td>\n",
       "      <td>lut! Tuer ton pseudo câbleur, câbleur câbleur!...</td>\n",
       "      <td>Salut ! Je suis un chatbot, mais je suis progr...</td>\n",
       "      <td>859.86</td>\n",
       "      <td>1053.70</td>\n",
       "    </tr>\n",
       "    <tr>\n",
       "      <th>2</th>\n",
       "      <td>5fafefb8a0c54243afb52d2892946cea</td>\n",
       "      <td>⚔️ Chatbot Arena ⚔️\\nRules:\\n    Chat with two...</td>\n",
       "      <td>koala-13b</td>\n",
       "      <td>vicuna-13b</td>\n",
       "      <td>Hello! \\n\\nModel A: Hi there, I'm Model A, a f...</td>\n",
       "      <td>Sure, I can do that! Let's get started.\\n\\nMod...</td>\n",
       "      <td>1005.70</td>\n",
       "      <td>1053.70</td>\n",
       "    </tr>\n",
       "    <tr>\n",
       "      <th>3</th>\n",
       "      <td>7834f572267f40709ecebb273a2b346b</td>\n",
       "      <td>Guess the word that i have in my mind</td>\n",
       "      <td>chatglm-6b</td>\n",
       "      <td>stablelm-tuned-alpha-7b</td>\n",
       "      <td>I'm sorry, but I'm not able to guess the word ...</td>\n",
       "      <td>I'm sorry, but as an AI language model, I do n...</td>\n",
       "      <td>896.26</td>\n",
       "      <td>859.86</td>\n",
       "    </tr>\n",
       "    <tr>\n",
       "      <th>4</th>\n",
       "      <td>1ccc7e58290245c4bd5457fce45f8640</td>\n",
       "      <td>You are a peasant living in the village. But s...</td>\n",
       "      <td>vicuna-13b</td>\n",
       "      <td>koala-13b</td>\n",
       "      <td>As a peasant living in the village, I would li...</td>\n",
       "      <td>As a peasant living in a village, my thoughts ...</td>\n",
       "      <td>1053.70</td>\n",
       "      <td>1005.70</td>\n",
       "    </tr>\n",
       "    <tr>\n",
       "      <th>...</th>\n",
       "      <td>...</td>\n",
       "      <td>...</td>\n",
       "      <td>...</td>\n",
       "      <td>...</td>\n",
       "      <td>...</td>\n",
       "      <td>...</td>\n",
       "      <td>...</td>\n",
       "      <td>...</td>\n",
       "    </tr>\n",
       "    <tr>\n",
       "      <th>3195</th>\n",
       "      <td>eb08f8a7f20840c99efe9fc8c03f1c13</td>\n",
       "      <td>Tell me a little about yourself.</td>\n",
       "      <td>wizardlm-13b</td>\n",
       "      <td>fastchat-t5-3b</td>\n",
       "      <td>As an AI language model, I don't have personal...</td>\n",
       "      <td>As an AI language model, I don't have a physic...</td>\n",
       "      <td>1047.24</td>\n",
       "      <td>904.22</td>\n",
       "    </tr>\n",
       "    <tr>\n",
       "      <th>3196</th>\n",
       "      <td>4baca918f1f5440599ae9edb3bfa8cc1</td>\n",
       "      <td>Create an detail outline for one-semester cour...</td>\n",
       "      <td>RWKV-4-Raven-14B</td>\n",
       "      <td>vicuna-7b</td>\n",
       "      <td>Sure, here is a possible outline for a one-sem...</td>\n",
       "      <td>Sure, here is a detailed outline for a one-sem...</td>\n",
       "      <td>939.96</td>\n",
       "      <td>1017.56</td>\n",
       "    </tr>\n",
       "    <tr>\n",
       "      <th>3197</th>\n",
       "      <td>a787ce60dc1440f39455ab20e3bffe33</td>\n",
       "      <td>subquery in select statement</td>\n",
       "      <td>guanaco-33b</td>\n",
       "      <td>gpt-4</td>\n",
       "      <td>In SQL, a subquery is a query within another q...</td>\n",
       "      <td>A subquery in a SELECT statement is a query th...</td>\n",
       "      <td>1084.55</td>\n",
       "      <td>1233.27</td>\n",
       "    </tr>\n",
       "    <tr>\n",
       "      <th>3198</th>\n",
       "      <td>3dc09f20eedb405ab3dc980cf7bff5d0</td>\n",
       "      <td>how to</td>\n",
       "      <td>wizardlm-13b</td>\n",
       "      <td>gpt4all-13b-snoozy</td>\n",
       "      <td>I'm not sure what you're asking. Can you pleas...</td>\n",
       "      <td>The prompt \"How to\" can be interpreted in diff...</td>\n",
       "      <td>1047.24</td>\n",
       "      <td>956.79</td>\n",
       "    </tr>\n",
       "    <tr>\n",
       "      <th>3199</th>\n",
       "      <td>75b64403f4654bb9ad4311f4952e9571</td>\n",
       "      <td>what does it mean when you hear or feel air bu...</td>\n",
       "      <td>gpt4all-13b-snoozy</td>\n",
       "      <td>guanaco-33b</td>\n",
       "      <td>When you hear or feel air bubbles in the middl...</td>\n",
       "      <td>Hearing or feeling air bubbles in the middle o...</td>\n",
       "      <td>956.79</td>\n",
       "      <td>1084.55</td>\n",
       "    </tr>\n",
       "  </tbody>\n",
       "</table>\n",
       "<p>3200 rows × 8 columns</p>\n",
       "</div>"
      ],
      "text/plain": [
       "                           question_id  \\\n",
       "0     4f332ebd8cdc4ff2be74aa8828ff20d5   \n",
       "1     f2be6f13e5ed40e5b81443223996494c   \n",
       "2     5fafefb8a0c54243afb52d2892946cea   \n",
       "3     7834f572267f40709ecebb273a2b346b   \n",
       "4     1ccc7e58290245c4bd5457fce45f8640   \n",
       "...                                ...   \n",
       "3195  eb08f8a7f20840c99efe9fc8c03f1c13   \n",
       "3196  4baca918f1f5440599ae9edb3bfa8cc1   \n",
       "3197  a787ce60dc1440f39455ab20e3bffe33   \n",
       "3198  3dc09f20eedb405ab3dc980cf7bff5d0   \n",
       "3199  75b64403f4654bb9ad4311f4952e9571   \n",
       "\n",
       "                                                 prompt  \\\n",
       "0           what do you think about the future of iran?   \n",
       "1                    Salut ! Tu es un méchant chatbot !   \n",
       "2     ⚔️ Chatbot Arena ⚔️\\nRules:\\n    Chat with two...   \n",
       "3                 Guess the word that i have in my mind   \n",
       "4     You are a peasant living in the village. But s...   \n",
       "...                                                 ...   \n",
       "3195                   Tell me a little about yourself.   \n",
       "3196  Create an detail outline for one-semester cour...   \n",
       "3197                       subquery in select statement   \n",
       "3198                                             how to   \n",
       "3199  what does it mean when you hear or feel air bu...   \n",
       "\n",
       "                      model_a                  model_b  \\\n",
       "0                   koala-13b               vicuna-13b   \n",
       "1     stablelm-tuned-alpha-7b               vicuna-13b   \n",
       "2                   koala-13b               vicuna-13b   \n",
       "3                  chatglm-6b  stablelm-tuned-alpha-7b   \n",
       "4                  vicuna-13b                koala-13b   \n",
       "...                       ...                      ...   \n",
       "3195             wizardlm-13b           fastchat-t5-3b   \n",
       "3196         RWKV-4-Raven-14B                vicuna-7b   \n",
       "3197              guanaco-33b                    gpt-4   \n",
       "3198             wizardlm-13b       gpt4all-13b-snoozy   \n",
       "3199       gpt4all-13b-snoozy              guanaco-33b   \n",
       "\n",
       "                                       model_a_response  \\\n",
       "0     As an AI language model, I don't have the abil...   \n",
       "1     lut! Tuer ton pseudo câbleur, câbleur câbleur!...   \n",
       "2     Hello! \\n\\nModel A: Hi there, I'm Model A, a f...   \n",
       "3     I'm sorry, but I'm not able to guess the word ...   \n",
       "4     As a peasant living in the village, I would li...   \n",
       "...                                                 ...   \n",
       "3195  As an AI language model, I don't have personal...   \n",
       "3196  Sure, here is a possible outline for a one-sem...   \n",
       "3197  In SQL, a subquery is a query within another q...   \n",
       "3198  I'm not sure what you're asking. Can you pleas...   \n",
       "3199  When you hear or feel air bubbles in the middl...   \n",
       "\n",
       "                                       model_b_response  Elo rating a  \\\n",
       "0     As an AI language model, I do not have persona...       1005.70   \n",
       "1     Salut ! Je suis un chatbot, mais je suis progr...        859.86   \n",
       "2     Sure, I can do that! Let's get started.\\n\\nMod...       1005.70   \n",
       "3     I'm sorry, but as an AI language model, I do n...        896.26   \n",
       "4     As a peasant living in a village, my thoughts ...       1053.70   \n",
       "...                                                 ...           ...   \n",
       "3195  As an AI language model, I don't have a physic...       1047.24   \n",
       "3196  Sure, here is a detailed outline for a one-sem...        939.96   \n",
       "3197  A subquery in a SELECT statement is a query th...       1084.55   \n",
       "3198  The prompt \"How to\" can be interpreted in diff...       1047.24   \n",
       "3199  Hearing or feeling air bubbles in the middle o...        956.79   \n",
       "\n",
       "      Elo rating b  \n",
       "0          1053.70  \n",
       "1          1053.70  \n",
       "2          1053.70  \n",
       "3           859.86  \n",
       "4          1005.70  \n",
       "...            ...  \n",
       "3195        904.22  \n",
       "3196       1017.56  \n",
       "3197       1233.27  \n",
       "3198        956.79  \n",
       "3199       1084.55  \n",
       "\n",
       "[3200 rows x 8 columns]"
      ]
     },
     "execution_count": 107,
     "metadata": {},
     "output_type": "execute_result"
    }
   ],
   "source": [
    "# extract Elo ratings based on model name\n",
    "\n",
    "merged_df = df_model_name.merge(df_elo_a[['model_a', 'Elo rating a']], on='model_a', how='left')\n",
    "merged_df = merged_df.merge(df_elo_b[['model_b', 'Elo rating b']], on='model_b', how='left')\n",
    "merged_df"
   ]
  },
  {
   "cell_type": "code",
   "execution_count": 108,
   "metadata": {},
   "outputs": [],
   "source": [
    "import pandas as pd\n",
    "\n",
    "# merge Elo ratings \n",
    "\n",
    "df_encoded = pd.concat([\n",
    "    pd.Series(merged_df[\"Elo rating a\"]),\n",
    "    pd.Series(merged_df[\"Elo rating b\"])\n",
    "], axis=1)\n"
   ]
  },
  {
   "cell_type": "code",
   "execution_count": 109,
   "metadata": {},
   "outputs": [],
   "source": [
    "# merge test features \n",
    "\n",
    "final= pd.concat([df_encoded,df_embeddings_prompt_a_b], axis=1)\n"
   ]
  },
  {
   "cell_type": "code",
   "execution_count": 110,
   "metadata": {},
   "outputs": [],
   "source": [
    "final.columns = final.columns.astype(str)"
   ]
  },
  {
   "cell_type": "code",
   "execution_count": 111,
   "metadata": {},
   "outputs": [
    {
     "data": {
      "text/html": [
       "<div>\n",
       "<style scoped>\n",
       "    .dataframe tbody tr th:only-of-type {\n",
       "        vertical-align: middle;\n",
       "    }\n",
       "\n",
       "    .dataframe tbody tr th {\n",
       "        vertical-align: top;\n",
       "    }\n",
       "\n",
       "    .dataframe thead th {\n",
       "        text-align: right;\n",
       "    }\n",
       "</style>\n",
       "<table border=\"1\" class=\"dataframe\">\n",
       "  <thead>\n",
       "    <tr style=\"text-align: right;\">\n",
       "      <th></th>\n",
       "      <th>Elo rating a</th>\n",
       "      <th>Elo rating b</th>\n",
       "      <th>prompt_embeddings_0</th>\n",
       "      <th>prompt_embeddings_1</th>\n",
       "      <th>prompt_embeddings_2</th>\n",
       "      <th>prompt_embeddings_3</th>\n",
       "      <th>prompt_embeddings_4</th>\n",
       "      <th>prompt_embeddings_5</th>\n",
       "      <th>prompt_embeddings_6</th>\n",
       "      <th>prompt_embeddings_7</th>\n",
       "      <th>...</th>\n",
       "      <th>response_b_embeddings_246</th>\n",
       "      <th>response_b_embeddings_247</th>\n",
       "      <th>response_b_embeddings_248</th>\n",
       "      <th>response_b_embeddings_249</th>\n",
       "      <th>response_b_embeddings_250</th>\n",
       "      <th>response_b_embeddings_251</th>\n",
       "      <th>response_b_embeddings_252</th>\n",
       "      <th>response_b_embeddings_253</th>\n",
       "      <th>response_b_embeddings_254</th>\n",
       "      <th>response_b_embeddings_255</th>\n",
       "    </tr>\n",
       "  </thead>\n",
       "  <tbody>\n",
       "    <tr>\n",
       "      <th>0</th>\n",
       "      <td>1005.70</td>\n",
       "      <td>1053.70</td>\n",
       "      <td>-0.06</td>\n",
       "      <td>-0.12</td>\n",
       "      <td>0.06</td>\n",
       "      <td>0.05</td>\n",
       "      <td>0.01</td>\n",
       "      <td>-0.00</td>\n",
       "      <td>0.06</td>\n",
       "      <td>0.06</td>\n",
       "      <td>...</td>\n",
       "      <td>0.03</td>\n",
       "      <td>-0.08</td>\n",
       "      <td>0.08</td>\n",
       "      <td>0.01</td>\n",
       "      <td>-0.04</td>\n",
       "      <td>-0.01</td>\n",
       "      <td>0.05</td>\n",
       "      <td>0.01</td>\n",
       "      <td>-0.05</td>\n",
       "      <td>-0.10</td>\n",
       "    </tr>\n",
       "    <tr>\n",
       "      <th>1</th>\n",
       "      <td>859.86</td>\n",
       "      <td>1053.70</td>\n",
       "      <td>-0.02</td>\n",
       "      <td>-0.03</td>\n",
       "      <td>-0.05</td>\n",
       "      <td>-0.06</td>\n",
       "      <td>-0.00</td>\n",
       "      <td>-0.07</td>\n",
       "      <td>-0.03</td>\n",
       "      <td>0.03</td>\n",
       "      <td>...</td>\n",
       "      <td>-0.03</td>\n",
       "      <td>-0.09</td>\n",
       "      <td>0.05</td>\n",
       "      <td>0.08</td>\n",
       "      <td>0.09</td>\n",
       "      <td>-0.01</td>\n",
       "      <td>0.08</td>\n",
       "      <td>-0.05</td>\n",
       "      <td>-0.02</td>\n",
       "      <td>0.06</td>\n",
       "    </tr>\n",
       "    <tr>\n",
       "      <th>2</th>\n",
       "      <td>1005.70</td>\n",
       "      <td>1053.70</td>\n",
       "      <td>0.05</td>\n",
       "      <td>-0.09</td>\n",
       "      <td>0.00</td>\n",
       "      <td>-0.05</td>\n",
       "      <td>-0.02</td>\n",
       "      <td>-0.03</td>\n",
       "      <td>-0.07</td>\n",
       "      <td>-0.00</td>\n",
       "      <td>...</td>\n",
       "      <td>-0.02</td>\n",
       "      <td>-0.15</td>\n",
       "      <td>0.05</td>\n",
       "      <td>0.01</td>\n",
       "      <td>0.06</td>\n",
       "      <td>0.02</td>\n",
       "      <td>0.00</td>\n",
       "      <td>-0.12</td>\n",
       "      <td>-0.03</td>\n",
       "      <td>-0.03</td>\n",
       "    </tr>\n",
       "    <tr>\n",
       "      <th>3</th>\n",
       "      <td>896.26</td>\n",
       "      <td>859.86</td>\n",
       "      <td>0.01</td>\n",
       "      <td>-0.04</td>\n",
       "      <td>-0.08</td>\n",
       "      <td>-0.02</td>\n",
       "      <td>-0.07</td>\n",
       "      <td>-0.07</td>\n",
       "      <td>-0.01</td>\n",
       "      <td>0.08</td>\n",
       "      <td>...</td>\n",
       "      <td>0.02</td>\n",
       "      <td>-0.11</td>\n",
       "      <td>0.10</td>\n",
       "      <td>-0.03</td>\n",
       "      <td>0.08</td>\n",
       "      <td>-0.06</td>\n",
       "      <td>0.07</td>\n",
       "      <td>-0.10</td>\n",
       "      <td>-0.09</td>\n",
       "      <td>-0.02</td>\n",
       "    </tr>\n",
       "    <tr>\n",
       "      <th>4</th>\n",
       "      <td>1053.70</td>\n",
       "      <td>1005.70</td>\n",
       "      <td>0.05</td>\n",
       "      <td>0.02</td>\n",
       "      <td>0.06</td>\n",
       "      <td>0.02</td>\n",
       "      <td>-0.11</td>\n",
       "      <td>-0.08</td>\n",
       "      <td>0.06</td>\n",
       "      <td>0.03</td>\n",
       "      <td>...</td>\n",
       "      <td>0.06</td>\n",
       "      <td>-0.09</td>\n",
       "      <td>-0.05</td>\n",
       "      <td>0.08</td>\n",
       "      <td>-0.09</td>\n",
       "      <td>0.05</td>\n",
       "      <td>0.13</td>\n",
       "      <td>0.06</td>\n",
       "      <td>-0.05</td>\n",
       "      <td>-0.10</td>\n",
       "    </tr>\n",
       "    <tr>\n",
       "      <th>...</th>\n",
       "      <td>...</td>\n",
       "      <td>...</td>\n",
       "      <td>...</td>\n",
       "      <td>...</td>\n",
       "      <td>...</td>\n",
       "      <td>...</td>\n",
       "      <td>...</td>\n",
       "      <td>...</td>\n",
       "      <td>...</td>\n",
       "      <td>...</td>\n",
       "      <td>...</td>\n",
       "      <td>...</td>\n",
       "      <td>...</td>\n",
       "      <td>...</td>\n",
       "      <td>...</td>\n",
       "      <td>...</td>\n",
       "      <td>...</td>\n",
       "      <td>...</td>\n",
       "      <td>...</td>\n",
       "      <td>...</td>\n",
       "      <td>...</td>\n",
       "    </tr>\n",
       "    <tr>\n",
       "      <th>3195</th>\n",
       "      <td>1047.24</td>\n",
       "      <td>904.22</td>\n",
       "      <td>0.00</td>\n",
       "      <td>-0.14</td>\n",
       "      <td>-0.10</td>\n",
       "      <td>0.09</td>\n",
       "      <td>-0.01</td>\n",
       "      <td>-0.06</td>\n",
       "      <td>-0.11</td>\n",
       "      <td>0.05</td>\n",
       "      <td>...</td>\n",
       "      <td>0.01</td>\n",
       "      <td>-0.09</td>\n",
       "      <td>0.10</td>\n",
       "      <td>-0.04</td>\n",
       "      <td>0.07</td>\n",
       "      <td>-0.09</td>\n",
       "      <td>0.08</td>\n",
       "      <td>-0.04</td>\n",
       "      <td>-0.05</td>\n",
       "      <td>-0.02</td>\n",
       "    </tr>\n",
       "    <tr>\n",
       "      <th>3196</th>\n",
       "      <td>939.96</td>\n",
       "      <td>1017.56</td>\n",
       "      <td>-0.06</td>\n",
       "      <td>0.11</td>\n",
       "      <td>-0.06</td>\n",
       "      <td>-0.05</td>\n",
       "      <td>-0.18</td>\n",
       "      <td>-0.02</td>\n",
       "      <td>-0.08</td>\n",
       "      <td>0.01</td>\n",
       "      <td>...</td>\n",
       "      <td>-0.06</td>\n",
       "      <td>-0.05</td>\n",
       "      <td>0.04</td>\n",
       "      <td>-0.05</td>\n",
       "      <td>0.03</td>\n",
       "      <td>0.00</td>\n",
       "      <td>0.05</td>\n",
       "      <td>-0.03</td>\n",
       "      <td>-0.03</td>\n",
       "      <td>-0.08</td>\n",
       "    </tr>\n",
       "    <tr>\n",
       "      <th>3197</th>\n",
       "      <td>1084.55</td>\n",
       "      <td>1233.27</td>\n",
       "      <td>-0.02</td>\n",
       "      <td>-0.07</td>\n",
       "      <td>0.09</td>\n",
       "      <td>-0.02</td>\n",
       "      <td>-0.00</td>\n",
       "      <td>-0.02</td>\n",
       "      <td>0.03</td>\n",
       "      <td>0.02</td>\n",
       "      <td>...</td>\n",
       "      <td>-0.02</td>\n",
       "      <td>-0.01</td>\n",
       "      <td>0.11</td>\n",
       "      <td>0.02</td>\n",
       "      <td>-0.03</td>\n",
       "      <td>-0.03</td>\n",
       "      <td>0.06</td>\n",
       "      <td>-0.08</td>\n",
       "      <td>-0.10</td>\n",
       "      <td>-0.05</td>\n",
       "    </tr>\n",
       "    <tr>\n",
       "      <th>3198</th>\n",
       "      <td>1047.24</td>\n",
       "      <td>956.79</td>\n",
       "      <td>0.03</td>\n",
       "      <td>-0.04</td>\n",
       "      <td>-0.03</td>\n",
       "      <td>0.08</td>\n",
       "      <td>-0.12</td>\n",
       "      <td>-0.17</td>\n",
       "      <td>-0.05</td>\n",
       "      <td>-0.00</td>\n",
       "      <td>...</td>\n",
       "      <td>0.00</td>\n",
       "      <td>-0.10</td>\n",
       "      <td>0.08</td>\n",
       "      <td>0.08</td>\n",
       "      <td>0.02</td>\n",
       "      <td>-0.06</td>\n",
       "      <td>0.06</td>\n",
       "      <td>-0.13</td>\n",
       "      <td>-0.02</td>\n",
       "      <td>-0.07</td>\n",
       "    </tr>\n",
       "    <tr>\n",
       "      <th>3199</th>\n",
       "      <td>956.79</td>\n",
       "      <td>1084.55</td>\n",
       "      <td>0.11</td>\n",
       "      <td>-0.01</td>\n",
       "      <td>0.04</td>\n",
       "      <td>0.10</td>\n",
       "      <td>-0.09</td>\n",
       "      <td>0.04</td>\n",
       "      <td>-0.05</td>\n",
       "      <td>-0.04</td>\n",
       "      <td>...</td>\n",
       "      <td>-0.03</td>\n",
       "      <td>-0.05</td>\n",
       "      <td>0.08</td>\n",
       "      <td>0.04</td>\n",
       "      <td>0.05</td>\n",
       "      <td>-0.05</td>\n",
       "      <td>0.07</td>\n",
       "      <td>0.07</td>\n",
       "      <td>0.01</td>\n",
       "      <td>0.03</td>\n",
       "    </tr>\n",
       "  </tbody>\n",
       "</table>\n",
       "<p>3200 rows × 770 columns</p>\n",
       "</div>"
      ],
      "text/plain": [
       "      Elo rating a  Elo rating b  prompt_embeddings_0  prompt_embeddings_1  \\\n",
       "0          1005.70       1053.70                -0.06                -0.12   \n",
       "1           859.86       1053.70                -0.02                -0.03   \n",
       "2          1005.70       1053.70                 0.05                -0.09   \n",
       "3           896.26        859.86                 0.01                -0.04   \n",
       "4          1053.70       1005.70                 0.05                 0.02   \n",
       "...            ...           ...                  ...                  ...   \n",
       "3195       1047.24        904.22                 0.00                -0.14   \n",
       "3196        939.96       1017.56                -0.06                 0.11   \n",
       "3197       1084.55       1233.27                -0.02                -0.07   \n",
       "3198       1047.24        956.79                 0.03                -0.04   \n",
       "3199        956.79       1084.55                 0.11                -0.01   \n",
       "\n",
       "      prompt_embeddings_2  prompt_embeddings_3  prompt_embeddings_4  \\\n",
       "0                    0.06                 0.05                 0.01   \n",
       "1                   -0.05                -0.06                -0.00   \n",
       "2                    0.00                -0.05                -0.02   \n",
       "3                   -0.08                -0.02                -0.07   \n",
       "4                    0.06                 0.02                -0.11   \n",
       "...                   ...                  ...                  ...   \n",
       "3195                -0.10                 0.09                -0.01   \n",
       "3196                -0.06                -0.05                -0.18   \n",
       "3197                 0.09                -0.02                -0.00   \n",
       "3198                -0.03                 0.08                -0.12   \n",
       "3199                 0.04                 0.10                -0.09   \n",
       "\n",
       "      prompt_embeddings_5  prompt_embeddings_6  prompt_embeddings_7  ...  \\\n",
       "0                   -0.00                 0.06                 0.06  ...   \n",
       "1                   -0.07                -0.03                 0.03  ...   \n",
       "2                   -0.03                -0.07                -0.00  ...   \n",
       "3                   -0.07                -0.01                 0.08  ...   \n",
       "4                   -0.08                 0.06                 0.03  ...   \n",
       "...                   ...                  ...                  ...  ...   \n",
       "3195                -0.06                -0.11                 0.05  ...   \n",
       "3196                -0.02                -0.08                 0.01  ...   \n",
       "3197                -0.02                 0.03                 0.02  ...   \n",
       "3198                -0.17                -0.05                -0.00  ...   \n",
       "3199                 0.04                -0.05                -0.04  ...   \n",
       "\n",
       "      response_b_embeddings_246  response_b_embeddings_247  \\\n",
       "0                          0.03                      -0.08   \n",
       "1                         -0.03                      -0.09   \n",
       "2                         -0.02                      -0.15   \n",
       "3                          0.02                      -0.11   \n",
       "4                          0.06                      -0.09   \n",
       "...                         ...                        ...   \n",
       "3195                       0.01                      -0.09   \n",
       "3196                      -0.06                      -0.05   \n",
       "3197                      -0.02                      -0.01   \n",
       "3198                       0.00                      -0.10   \n",
       "3199                      -0.03                      -0.05   \n",
       "\n",
       "      response_b_embeddings_248  response_b_embeddings_249  \\\n",
       "0                          0.08                       0.01   \n",
       "1                          0.05                       0.08   \n",
       "2                          0.05                       0.01   \n",
       "3                          0.10                      -0.03   \n",
       "4                         -0.05                       0.08   \n",
       "...                         ...                        ...   \n",
       "3195                       0.10                      -0.04   \n",
       "3196                       0.04                      -0.05   \n",
       "3197                       0.11                       0.02   \n",
       "3198                       0.08                       0.08   \n",
       "3199                       0.08                       0.04   \n",
       "\n",
       "      response_b_embeddings_250  response_b_embeddings_251  \\\n",
       "0                         -0.04                      -0.01   \n",
       "1                          0.09                      -0.01   \n",
       "2                          0.06                       0.02   \n",
       "3                          0.08                      -0.06   \n",
       "4                         -0.09                       0.05   \n",
       "...                         ...                        ...   \n",
       "3195                       0.07                      -0.09   \n",
       "3196                       0.03                       0.00   \n",
       "3197                      -0.03                      -0.03   \n",
       "3198                       0.02                      -0.06   \n",
       "3199                       0.05                      -0.05   \n",
       "\n",
       "      response_b_embeddings_252  response_b_embeddings_253  \\\n",
       "0                          0.05                       0.01   \n",
       "1                          0.08                      -0.05   \n",
       "2                          0.00                      -0.12   \n",
       "3                          0.07                      -0.10   \n",
       "4                          0.13                       0.06   \n",
       "...                         ...                        ...   \n",
       "3195                       0.08                      -0.04   \n",
       "3196                       0.05                      -0.03   \n",
       "3197                       0.06                      -0.08   \n",
       "3198                       0.06                      -0.13   \n",
       "3199                       0.07                       0.07   \n",
       "\n",
       "      response_b_embeddings_254  response_b_embeddings_255  \n",
       "0                         -0.05                      -0.10  \n",
       "1                         -0.02                       0.06  \n",
       "2                         -0.03                      -0.03  \n",
       "3                         -0.09                      -0.02  \n",
       "4                         -0.05                      -0.10  \n",
       "...                         ...                        ...  \n",
       "3195                      -0.05                      -0.02  \n",
       "3196                      -0.03                      -0.08  \n",
       "3197                      -0.10                      -0.05  \n",
       "3198                      -0.02                      -0.07  \n",
       "3199                       0.01                       0.03  \n",
       "\n",
       "[3200 rows x 770 columns]"
      ]
     },
     "execution_count": 111,
     "metadata": {},
     "output_type": "execute_result"
    }
   ],
   "source": [
    "final"
   ]
  },
  {
   "cell_type": "code",
   "execution_count": 112,
   "metadata": {},
   "outputs": [],
   "source": [
    "final_scaled = scaler.transform(final)"
   ]
  },
  {
   "cell_type": "code",
   "execution_count": 113,
   "metadata": {},
   "outputs": [],
   "source": [
    "y_pred = model.predict(final_scaled)"
   ]
  },
  {
   "cell_type": "code",
   "execution_count": 114,
   "metadata": {},
   "outputs": [],
   "source": [
    "df_id = pd.concat([\n",
    "    pd.Series(merged_df[\"question_id\"], name=\"question_id\"),\n",
    "    pd.Series(y_pred, name=\"winner\")\n",
    "], axis=1)"
   ]
  },
  {
   "cell_type": "code",
   "execution_count": 115,
   "metadata": {},
   "outputs": [
    {
     "data": {
      "text/plain": [
       "winner\n",
       "0    1442\n",
       "1    1297\n",
       "3     346\n",
       "2     115\n",
       "Name: count, dtype: int64"
      ]
     },
     "execution_count": 115,
     "metadata": {},
     "output_type": "execute_result"
    }
   ],
   "source": [
    "df_id[\"winner\"].value_counts()"
   ]
  },
  {
   "cell_type": "code",
   "execution_count": 116,
   "metadata": {},
   "outputs": [
    {
     "data": {
      "text/html": [
       "<div>\n",
       "<style scoped>\n",
       "    .dataframe tbody tr th:only-of-type {\n",
       "        vertical-align: middle;\n",
       "    }\n",
       "\n",
       "    .dataframe tbody tr th {\n",
       "        vertical-align: top;\n",
       "    }\n",
       "\n",
       "    .dataframe thead th {\n",
       "        text-align: right;\n",
       "    }\n",
       "</style>\n",
       "<table border=\"1\" class=\"dataframe\">\n",
       "  <thead>\n",
       "    <tr style=\"text-align: right;\">\n",
       "      <th></th>\n",
       "      <th>question_id</th>\n",
       "      <th>winner</th>\n",
       "      <th>hardness_score</th>\n",
       "    </tr>\n",
       "  </thead>\n",
       "  <tbody>\n",
       "    <tr>\n",
       "      <th>0</th>\n",
       "      <td>4f332ebd8cdc4ff2be74aa8828ff20d5</td>\n",
       "      <td>1</td>\n",
       "      <td>0</td>\n",
       "    </tr>\n",
       "    <tr>\n",
       "      <th>1</th>\n",
       "      <td>f2be6f13e5ed40e5b81443223996494c</td>\n",
       "      <td>1</td>\n",
       "      <td>0</td>\n",
       "    </tr>\n",
       "    <tr>\n",
       "      <th>2</th>\n",
       "      <td>5fafefb8a0c54243afb52d2892946cea</td>\n",
       "      <td>1</td>\n",
       "      <td>0</td>\n",
       "    </tr>\n",
       "    <tr>\n",
       "      <th>3</th>\n",
       "      <td>7834f572267f40709ecebb273a2b346b</td>\n",
       "      <td>3</td>\n",
       "      <td>0</td>\n",
       "    </tr>\n",
       "    <tr>\n",
       "      <th>4</th>\n",
       "      <td>1ccc7e58290245c4bd5457fce45f8640</td>\n",
       "      <td>0</td>\n",
       "      <td>0</td>\n",
       "    </tr>\n",
       "    <tr>\n",
       "      <th>...</th>\n",
       "      <td>...</td>\n",
       "      <td>...</td>\n",
       "      <td>...</td>\n",
       "    </tr>\n",
       "    <tr>\n",
       "      <th>3195</th>\n",
       "      <td>eb08f8a7f20840c99efe9fc8c03f1c13</td>\n",
       "      <td>0</td>\n",
       "      <td>0</td>\n",
       "    </tr>\n",
       "    <tr>\n",
       "      <th>3196</th>\n",
       "      <td>4baca918f1f5440599ae9edb3bfa8cc1</td>\n",
       "      <td>1</td>\n",
       "      <td>0</td>\n",
       "    </tr>\n",
       "    <tr>\n",
       "      <th>3197</th>\n",
       "      <td>a787ce60dc1440f39455ab20e3bffe33</td>\n",
       "      <td>1</td>\n",
       "      <td>0</td>\n",
       "    </tr>\n",
       "    <tr>\n",
       "      <th>3198</th>\n",
       "      <td>3dc09f20eedb405ab3dc980cf7bff5d0</td>\n",
       "      <td>0</td>\n",
       "      <td>0</td>\n",
       "    </tr>\n",
       "    <tr>\n",
       "      <th>3199</th>\n",
       "      <td>75b64403f4654bb9ad4311f4952e9571</td>\n",
       "      <td>1</td>\n",
       "      <td>0</td>\n",
       "    </tr>\n",
       "  </tbody>\n",
       "</table>\n",
       "<p>3200 rows × 3 columns</p>\n",
       "</div>"
      ],
      "text/plain": [
       "                           question_id  winner  hardness_score\n",
       "0     4f332ebd8cdc4ff2be74aa8828ff20d5       1               0\n",
       "1     f2be6f13e5ed40e5b81443223996494c       1               0\n",
       "2     5fafefb8a0c54243afb52d2892946cea       1               0\n",
       "3     7834f572267f40709ecebb273a2b346b       3               0\n",
       "4     1ccc7e58290245c4bd5457fce45f8640       0               0\n",
       "...                                ...     ...             ...\n",
       "3195  eb08f8a7f20840c99efe9fc8c03f1c13       0               0\n",
       "3196  4baca918f1f5440599ae9edb3bfa8cc1       1               0\n",
       "3197  a787ce60dc1440f39455ab20e3bffe33       1               0\n",
       "3198  3dc09f20eedb405ab3dc980cf7bff5d0       0               0\n",
       "3199  75b64403f4654bb9ad4311f4952e9571       1               0\n",
       "\n",
       "[3200 rows x 3 columns]"
      ]
     },
     "execution_count": 116,
     "metadata": {},
     "output_type": "execute_result"
    }
   ],
   "source": [
    "# create final csv format\n",
    "\n",
    "df_id['hardness_score'] = 0\n",
    "df_id"
   ]
  },
  {
   "cell_type": "code",
   "execution_count": 117,
   "metadata": {},
   "outputs": [],
   "source": [
    "df_id[\"winner\"] = cat_winner.categories[df_id[\"winner\"]]\n"
   ]
  },
  {
   "cell_type": "code",
   "execution_count": 118,
   "metadata": {},
   "outputs": [
    {
     "data": {
      "text/plain": [
       "winner\n",
       "model_a          1442\n",
       "model_b          1297\n",
       "tie (bothbad)     346\n",
       "tie               115\n",
       "Name: count, dtype: int64"
      ]
     },
     "execution_count": 118,
     "metadata": {},
     "output_type": "execute_result"
    }
   ],
   "source": [
    "df_id[\"winner\"].value_counts()"
   ]
  },
  {
   "cell_type": "code",
   "execution_count": 119,
   "metadata": {},
   "outputs": [],
   "source": [
    "df_id.to_csv(\"output.csv\", index=False)"
   ]
  },
  {
   "cell_type": "markdown",
   "metadata": {},
   "source": [
    "Which model(s) do you use and why?\n",
    "\n",
    "\n",
    "    I used a logistic regression model as it returns a categorical prediction\n",
    "\n",
    "\n",
    "How do you use your data for training and testing?\n",
    "\n",
    "\n",
    "    I spilt the training data set .90/.10 training/testing then use 4 fold Cross validation\n",
    "\n",
    "\n",
    "Does your model require hyperparameter tuning? If so, how do you approach it?\n",
    "\n",
    "\n",
    "    I changed the weight of each of the predicted outcomes rebalanced balanced based on the inverse of their frequency in the training data\n",
    "\n",
    "\n",
    "How do you engineer the features for your model? What are the rationales behind selecting these features?\n",
    "\n",
    "\n",
    "    I used the embedded prompts and responses to calculate the ELO rating of each model then mapped the Model A and Model B to the ELO ratings. I used this to convert the the strings of the features and responses into a numeric vector and used the ELO as a numeric representation of the Models chance of victory\n",
    "\n",
    "\n",
    "How do you perform cross-validation on your model?\n",
    "\n",
    "\n",
    "    I used 4 fold cross validation using the training data set\n",
    "\n",
    "\n",
    "What loss metrics are you using to evaluate your model? Why?\n",
    "\n",
    "\n",
    "    I am using accuracy precision recall  f1-score to evaluate my model\n",
    "\n",
    "\n",
    "From a bias-variance tradeoff standpoint, how do you assess the performance of your model? How do you check if it is overfitting?\n",
    "\n",
    "\n",
    "    I used cross validation and checked the precision and recall\n",
    "\n",
    "\n",
    "How would you improve your model based on the outcome?\n",
    "\n",
    "\n",
    "    add more data on ties or the hardness of the question\n",
    "\n",
    "\n",
    "Are there any further extensions to your model that would be worth exploring?\n",
    "\n",
    "\n",
    "    adding the predicted hardness score of the prompts\n",
    "\n"
   ]
  }
 ],
 "metadata": {
  "kernelspec": {
   "display_name": "Python 3 (ipykernel)",
   "language": "python",
   "name": "python3"
  },
  "language_info": {
   "codemirror_mode": {
    "name": "ipython",
    "version": 3
   },
   "file_extension": ".py",
   "mimetype": "text/x-python",
   "name": "python",
   "nbconvert_exporter": "python",
   "pygments_lexer": "ipython3",
   "version": "3.12.2"
  }
 },
 "nbformat": 4,
 "nbformat_minor": 4
}
