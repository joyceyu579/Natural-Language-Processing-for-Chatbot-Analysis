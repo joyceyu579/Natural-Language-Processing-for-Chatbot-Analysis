{
 "cells": [
  {
   "cell_type": "markdown",
   "id": "40d60dbd-ee4e-4680-914d-05e983f000b1",
   "metadata": {},
   "source": [
    "# Task B: Hardness Prediction\n",
    "\n",
    "Predicting the difficulty of a question, ranging from 1 (being easy) to 10 (being difficult), using the available features."
   ]
  },
  {
   "cell_type": "markdown",
   "id": "9439ec5f-ff51-4441-b184-970b8611029b",
   "metadata": {},
   "source": [
    "### Import necessary libraries."
   ]
  },
  {
   "cell_type": "code",
   "execution_count": 12,
   "id": "adf7de05-0ee6-48ee-ac1a-7342423e2c11",
   "metadata": {},
   "outputs": [],
   "source": [
    "import numpy as np\n",
    "import math\n",
    "import pandas as pd\n",
    "import matplotlib.pyplot as plt\n",
    "import seaborn as sns\n",
    "from sklearn.model_selection import KFold\n",
    "from sklearn import linear_model\n",
    "import sklearn.linear_model as lm\n",
    "from sklearn.model_selection import train_test_split\n",
    "from sklearn.cluster import KMeans\n",
    "import matplotlib.pyplot as plt\n",
    "from sklearn.metrics import r2_score\n",
    "from sklearn.linear_model import LinearRegression\n",
    "from sklearn.linear_model import Lasso as lasso\n",
    "import plotly.express as px"
   ]
  },
  {
   "cell_type": "markdown",
   "id": "8c33013e-6cc6-4cdd-b6a7-4d7168bd3af7",
   "metadata": {},
   "source": [
    "### Import data"
   ]
  },
  {
   "cell_type": "code",
   "execution_count": 14,
   "id": "3e2d0c4b-a06b-4151-8ee6-3b1036c9ef1d",
   "metadata": {
    "scrolled": true
   },
   "outputs": [],
   "source": [
    "df = pd.read_json(\n",
    "    \"data/nlp-chatbot-analysis_data/training-set/chatbot-arena-conversations.jsonl.gz\",\n",
    "    lines=True,\n",
    "    compression=\"gzip\")\n",
    "\n",
    "topic_and_hardness = pd.read_json(\n",
    "    \"data/nlp-chatbot-analysis_data/training-set/chatbot-arena-gpt3-scores.jsonl.gz\",\n",
    "    lines=True,\n",
    "    compression=\"gzip\")\n",
    "\n",
    "prompt_embeddings = pd.DataFrame(np.load(\n",
    "    \"data/nlp-chatbot-analysis_data/training-set/chatbot-arena-prompts-embeddings.npy\"))\n",
    "\n",
    "response_a_embeddings = pd.DataFrame(np.load(\n",
    "    \"data/nlp-chatbot-analysis_data/training-set/chatbot-arena-model_a_response-embeddings.npy\"))\n",
    "\n",
    "response_b_embeddings = pd.DataFrame(np.load(\n",
    "    \"data/nlp-chatbot-analysis_data/training-set/chatbot-arena-model_b_response-embeddings.npy\"))"
   ]
  },
  {
   "cell_type": "markdown",
   "id": "94cd5e46-6ea9-4540-b386-6da3d4d1c0e7",
   "metadata": {},
   "source": [
    "# Get top 10 most frequently occuring topics as features without losing rows nor creating NaN values."
   ]
  },
  {
   "cell_type": "code",
   "execution_count": 16,
   "id": "3fa6cf71-33e7-4680-85bf-4fe04653f960",
   "metadata": {},
   "outputs": [],
   "source": [
    "# Select top 10 most frequently occuring topics \n",
    "encode_topics = topic_and_hardness['topic_modeling_1'].value_counts().head(10).index\n",
    "\n",
    "# Create a dictionary to map topics to an integer + an integer for topics not frequently occuring. \n",
    "indexes = [i for i in range(len(encode_topics))]\n",
    "encoded_10_topics = dict(zip(encode_topics, indexes))\n",
    "encoded_10_topics['NOT_FREQUENT'] = 10\n",
    "\n",
    "# Create column that is almost identical to 'topic_modeling_1' except, rename all topics that are not in the top 10 as \"NOT_FREQUENT\". \n",
    "topic_and_hardness['topic_modeling_1_preprocessed'] = topic_and_hardness['topic_modeling_1'].where(topic_and_hardness['topic_modeling_1'].isin(encode_topics), 'NOT_FREQUENT')\n",
    "\n",
    "# Create column that maps the topic in 'topic_modeling_1_preprocessed' column to an integer. \n",
    "topic_and_hardness['topic_mapped'] = topic_and_hardness['topic_modeling_1_preprocessed'].map(encoded_10_topics)\n",
    "\n",
    "# One-hot encode the top 10 most frequently occurring topics + the non-frequent topics. \n",
    "one_hot_encoded_10_topics = pd.get_dummies(topic_and_hardness[\"topic_mapped\"]).astype(int)\n",
    "\n",
    "# merge the new one-hot-encoded features with topic_and hardness dataframe. \n",
    "topic_and_hardness_top10_topics = pd.merge(topic_and_hardness,one_hot_encoded_10_topics, left_index=True, right_index=True)"
   ]
  },
  {
   "cell_type": "markdown",
   "id": "16dd09e9-ce97-45d4-afd8-e8ea6532347b",
   "metadata": {},
   "source": [
    "# Clean up the invalid non-NaN values"
   ]
  },
  {
   "cell_type": "code",
   "execution_count": 18,
   "id": "fcf0a7f7-29db-4a1f-bf34-44e40653bb93",
   "metadata": {},
   "outputs": [],
   "source": [
    "def take_out_list(one_series_element):\n",
    "    '''\n",
    "    Input: one_series_element is a single string element or a nested list.\n",
    "    Output: one_series_element or the nested item in the one_series_element if one_series_element is a list. \n",
    "    '''\n",
    "    if isinstance(one_series_element, list):\n",
    "        return one_series_element[0][0]\n",
    "    else:\n",
    "        return one_series_element"
   ]
  },
  {
   "cell_type": "code",
   "execution_count": 19,
   "id": "6851deeb-e07e-41a6-a045-6fbde63b54d2",
   "metadata": {},
   "outputs": [],
   "source": [
    "score_value_1_cleaned = topic_and_hardness[\"score_value_1\"].apply(take_out_list)\n",
    "score_value_2_cleaned = topic_and_hardness[\"score_value_2\"].apply(take_out_list)\n",
    "score_value_3_cleaned = topic_and_hardness[\"score_value_3\"].apply(take_out_list)\n",
    "topic_and_hardness[\"score_value_1\"] = score_value_1_cleaned\n",
    "topic_and_hardness[\"score_value_2\"] = score_value_2_cleaned\n",
    "topic_and_hardness[\"score_value_3\"] = score_value_3_cleaned"
   ]
  },
  {
   "cell_type": "markdown",
   "id": "84e406ce-68e4-42b8-a549-14b58380ad2c",
   "metadata": {},
   "source": [
    "# Find 50 clusters in embeddings using K-means clustering"
   ]
  },
  {
   "cell_type": "code",
   "execution_count": 21,
   "id": "940a955a-d479-4ef6-b4d1-d4ddb70fd782",
   "metadata": {},
   "outputs": [],
   "source": [
    "cluster_features = pd.DataFrame()\n",
    "n_clusters = 50"
   ]
  },
  {
   "cell_type": "code",
   "execution_count": 22,
   "id": "d219681f-457c-43cb-ac2c-8e3673a8b1f1",
   "metadata": {},
   "outputs": [],
   "source": [
    "# Assigning each embedded row in prompt_embeddings to 1 of 50 clusters. \n",
    "kmeans = KMeans(n_clusters=n_clusters, random_state=42)\n",
    "kmeans.fit(prompt_embeddings)\n",
    "# Create new feature/column for prompt clusters. \n",
    "cluster_features[\"prompt_cluster\"] = kmeans.predict(prompt_embeddings)\n",
    "\n",
    "# Assigning each embedded row in response_a_embeddings to 1 of 50 clusters. \n",
    "kmeans = KMeans(n_clusters=n_clusters, random_state=42)\n",
    "kmeans.fit(response_a_embeddings)\n",
    "# Create new feature/column for response a clusters. \n",
    "cluster_features[\"response_a_cluster\"] = kmeans.predict(response_a_embeddings)\n",
    "\n",
    "# Assigning each embedded row in response_b_embeddings to 1 of 50 clusters. \n",
    "kmeans = KMeans(n_clusters=n_clusters, random_state=42)\n",
    "kmeans.fit(response_b_embeddings)\n",
    "# Create new feature/column for response b clusters. \n",
    "cluster_features[\"response_b_cluster\"] = kmeans.predict(response_b_embeddings)"
   ]
  },
  {
   "cell_type": "markdown",
   "id": "a4f7e838-b28b-4721-b96b-9ca48dc2c187",
   "metadata": {},
   "source": [
    "# DROP ROWS IN ALL DATASETS AT ROW INDICES WHERE MISSING VALUES ARE FOUND IN ROWS OF topic_and_hardness dataframe."
   ]
  },
  {
   "cell_type": "code",
   "execution_count": 24,
   "id": "cd29a0bd-00ac-4be3-98d9-f2612115caa0",
   "metadata": {},
   "outputs": [],
   "source": [
    "nan_rows = topic_and_hardness[topic_and_hardness.isna().any(axis=1)]\n",
    "nan_indices = nan_rows.index.tolist()\n",
    "\n",
    "cluster_features.drop(nan_indices, inplace=True)\n",
    "one_hot_encoded_10_topics.drop(nan_indices, inplace=True)\n",
    "topic_and_hardness.drop(nan_indices, inplace=True)\n",
    "prompt_embeddings.drop(nan_indices, inplace=True)\n",
    "response_a_embeddings.drop(nan_indices, inplace=True)\n",
    "response_b_embeddings.drop(nan_indices, inplace=True)"
   ]
  },
  {
   "cell_type": "markdown",
   "id": "5ce08c16-8433-41f9-b284-445211fe2d65",
   "metadata": {},
   "source": [
    "# FEATURE ENGINEER HARDNESS SCORE.\n",
    "Averageing the individual 3 hardness scores and rounding them to the nearest integer helped simplify model training and prevent over-fitting."
   ]
  },
  {
   "cell_type": "code",
   "execution_count": 26,
   "id": "ffbe2b07-03f8-4897-b8f2-7a7160253ba2",
   "metadata": {},
   "outputs": [],
   "source": [
    "def rounding(series_element):\n",
    "    '''\n",
    "    Input: an element in a series of floats.\n",
    "    Output: integer that was rounded to the nearest integer from the input. \n",
    "    '''\n",
    "    decimal_part = series_element - int(series_element)\n",
    "    if decimal_part >= 0.5:\n",
    "        return math.ceil(series_element)\n",
    "    else:\n",
    "        return math.floor(series_element)"
   ]
  },
  {
   "cell_type": "code",
   "execution_count": 27,
   "id": "ee3643ae-0420-400e-ad6c-d4a152e61b89",
   "metadata": {
    "scrolled": true
   },
   "outputs": [],
   "source": [
    "# Feature engineer: average_hardness_score\n",
    "topic_and_hardness['average_hardness_score'] = topic_and_hardness[['score_value_1', 'score_value_2', 'score_value_3']].mean(axis=1)\n",
    "\n",
    "# Feature engineer: discrete values of average_hardness_score\n",
    "topic_and_hardness['rounded_average_hardness_score'] = topic_and_hardness['average_hardness_score'].apply(rounding)"
   ]
  },
  {
   "cell_type": "markdown",
   "id": "208e366b-b2ea-4737-9788-2005549979df",
   "metadata": {},
   "source": [
    "# CREATE DESIGN MATRIX.\n",
    "We incorporated cluster features from K-Means, one-hot-encoded topics, and prompt embeddings into the design matrix. \n",
    "We incorporated prompt embeddings because it was the most influential feature that determined the hardness score. "
   ]
  },
  {
   "cell_type": "code",
   "execution_count": 29,
   "id": "57273e32-7927-4e23-a0c0-d17a0584fabe",
   "metadata": {},
   "outputs": [],
   "source": [
    "# Creating design matrix\n",
    "X = pd.concat([cluster_features, one_hot_encoded_10_topics, prompt_embeddings],axis=1)\n",
    "\n",
    "# Convert column names to be the same type to avoid syntax error during training. \n",
    "X.columns = X.columns.astype(str)"
   ]
  },
  {
   "cell_type": "markdown",
   "id": "1594ad46-83a9-47bb-adf9-1db1358be126",
   "metadata": {},
   "source": [
    "# SPLIT DATA 80/20 FOR TRAINING AND VALIDATION SET. "
   ]
  },
  {
   "cell_type": "code",
   "execution_count": 31,
   "id": "434f7f3a-7717-4643-8a8a-24cae522545b",
   "metadata": {},
   "outputs": [],
   "source": [
    "# Split into train and validation set \n",
    "\n",
    "Y = topic_and_hardness[\"rounded_average_hardness_score\"]\n",
    "X_train, X_valid, y_train, y_valid = train_test_split(X, Y, test_size=0.2, random_state=11)"
   ]
  },
  {
   "cell_type": "markdown",
   "id": "2106f8b8-f631-486f-9bf5-65736d93d48e",
   "metadata": {},
   "source": [
    "# MODEL TRAINING.\n",
    "We chose a linear regression model to determine the hardness score of prompts since the final test set contains the hardness score as a continuous numerical variable.\n",
    "We chose our target variable to be integers rounded from continuous numerical variables to simplify training purposes. "
   ]
  },
  {
   "cell_type": "code",
   "execution_count": 33,
   "id": "e600c2ea-2e18-4185-b767-12e7b9a231e0",
   "metadata": {},
   "outputs": [
    {
     "name": "stderr",
     "output_type": "stream",
     "text": [
      "/opt/anaconda3/lib/python3.12/site-packages/sklearn/utils/validation.py:2739: UserWarning: X does not have valid feature names, but LinearRegression was fitted with feature names\n",
      "  warnings.warn(\n"
     ]
    }
   ],
   "source": [
    "# instatiate linear model\n",
    "TASKB_lm = LinearRegression(fit_intercept = True)\n",
    "\n",
    "# train model\n",
    "TASKB_lm.fit(X_train , y_train)\n",
    "\n",
    "# make predictions\n",
    "training_predictions = TASKB_lm.predict(X_train)\n",
    "validing_predictions = TASKB_lm.predict(X_valid.values)"
   ]
  },
  {
   "cell_type": "markdown",
   "id": "cfb53454-2dc1-4fce-b8ef-c51a6343ee2e",
   "metadata": {},
   "source": [
    "# EVALUATE MODEL.\n",
    "\n",
    "We chose to evaluate the model with mean squared error (mse), as that is considered the loss function used to measure the differences in actual vs. predicted values for linear regression. We also used r^2 as an evaluation metric to understand how well our model captures the variability in our data. Hyperparameters that were adjusted were "
   ]
  },
  {
   "cell_type": "code",
   "execution_count": 35,
   "id": "c24ace66-b29c-4248-b7f1-fb0b6619e09a",
   "metadata": {},
   "outputs": [],
   "source": [
    "def mse(actual_y, predicted_y):\n",
    "    \"\"\"\n",
    "    Args:\n",
    "        predicted_y: An array of the predictions from the model.\n",
    "        actual_y: An array of the ground truth labels.\n",
    "        \n",
    "    Returns:\n",
    "        The mean square error between the predictions and ground truth labels.\n",
    "    \"\"\"\n",
    "    diff_sq = (actual_y - predicted_y)**2\n",
    "    summation = np.sum(diff_sq)\n",
    "    avg = summation/(len(diff_sq))\n",
    "    return avg"
   ]
  },
  {
   "cell_type": "code",
   "execution_count": 36,
   "id": "da765f3b-fabe-42c4-8d60-16344da27d13",
   "metadata": {},
   "outputs": [
    {
     "name": "stdout",
     "output_type": "stream",
     "text": [
      "training mse: 1.9154969570248466\n",
      "validation mse: 1.970335752847665\n",
      "R^2: 0.36622430807863027\n"
     ]
    }
   ],
   "source": [
    "# Calculating mse of training and validation sets\n",
    "print(f'training mse: {mse(y_train, training_predictions)}')\n",
    "print(f'validation mse: {mse(y_valid, validing_predictions)}')\n",
    "# Calculating r^2\n",
    "print(f'R^2: {r2_score(y_train, training_predictions)}')"
   ]
  },
  {
   "cell_type": "markdown",
   "id": "969e1a34-e8de-4bc2-b0e2-8fcfaa737529",
   "metadata": {},
   "source": [
    "# We also tried to improve our model with Lasso regression, but this actually made our model worse, and we did not use it for the final gradescope test submission. \n",
    "\n",
    "Below visualizes the hyperparameter lambda that we tried to change in hopes of finding a value that would help generalize our model. \n",
    "Because no improvement was shown, we chose not to use Lasso Regression for the final submission.\n",
    "\n",
    "Please note: The cell below for lasso regression takes a very long time to run. Therefore, it is commented out because we did not include it in our final submission and it takes a long time to run."
   ]
  },
  {
   "cell_type": "code",
   "execution_count": 38,
   "id": "a21b9c8a-ee3d-487b-a937-406b1729c665",
   "metadata": {},
   "outputs": [],
   "source": [
    "# error_vs_lambda = pd.DataFrame(columns = [\"lambda\", \"Training Error\", \"Validation Error\"])\n",
    "# range_of_lambda = 10**np.linspace(-5, 4, 40)\n",
    "\n",
    "# for lamb in range_of_lambda:\n",
    "#     regularized_model_lambda = lasso(lamb)\n",
    "#     regularized_model_lambda.fit(X_train, y_train)\n",
    "#     train_error_overfit = mse(y_train, regularized_model_lambda.predict(X_train))\n",
    "#     holdout_error_overfit = mse(y_valid, regularized_model_lambda.predict(X_valid))\n",
    "#     error_vs_lambda.loc[len(error_vs_lambda)] = [lamb, train_error_overfit, holdout_error_overfit]\n",
    "\n",
    "# error_vs_lambda.head()\n",
    "# px.line(error_vs_lambda, x = \"lambda\", y = [\"Training Error\", \"Validation Error\"], log_x=True, height = 400, width = 800)"
   ]
  },
  {
   "cell_type": "markdown",
   "id": "59f2987a-2975-4577-862e-af6d2cf3eefe",
   "metadata": {},
   "source": [
    "# Visualize performance."
   ]
  },
  {
   "cell_type": "markdown",
   "id": "8b5de304-0847-4153-980b-458ce8f4ebc5",
   "metadata": {},
   "source": [
    "Initially, we used a scatter plot to visualize performance since a linear regression model should be used to predict continuous data. However, we faced over-plotting issues and decided to use a box-plot to visualize performance. The box-plot works in our favor to also visualize the distribution of predicted scores for every rounded hardness score."
   ]
  },
  {
   "cell_type": "code",
   "execution_count": 41,
   "id": "5f856766-3774-426e-8fd0-315c02914797",
   "metadata": {},
   "outputs": [],
   "source": [
    "# Commented out scatter plot\n",
    "# # Visualizing actual vs. predicted values using scatter plot.\n",
    "# plt.figure(figsize=(6,6))\n",
    "# plt.scatter(y_train, training_predictions, alpha=0.6)\n",
    "# plt.title('Predicted hardness scores\\nvs.\\nActual average hardness scores (rounded)')\n",
    "# plt.xlabel('Actual average hardness scores (rounded)')\n",
    "# plt.ylabel(\"Predicted hardness scores\")\n",
    "# plt.grid(True)\n",
    "# plt.show()"
   ]
  },
  {
   "cell_type": "code",
   "execution_count": 42,
   "id": "ec11f1b8-b58f-4dda-9920-fd5182ac2399",
   "metadata": {
    "scrolled": true
   },
   "outputs": [
    {
     "data": {
      "image/png": "[encoded data removed]",
      "text/plain": [
       "<Figure size 640x480 with 1 Axes>"
      ]
     },
     "metadata": {},
     "output_type": "display_data"
    }
   ],
   "source": [
    "# Visualizing actual vs. predicted values using box plot.\n",
    "sns.boxplot(x=y_train, y=training_predictions)\n",
    "plt.title('Predicted hardness scores\\nvs.\\nActual average hardness scores (rounded)')\n",
    "plt.xlabel('Actual average hardness scores (rounded)')\n",
    "plt.ylabel(\"Predicted hardness scores\")\n",
    "# plt.savefig('figure19.png', format='png')\n",
    "plt.show()"
   ]
  },
  {
   "cell_type": "markdown",
   "id": "74359d33-b0bf-4d00-a7e9-835cda8dac1b",
   "metadata": {},
   "source": [
    "# Additional evaluation metrics. \n",
    "After visualizing the box plot above, we thought of another way to measure performance by taking the rows, averaging each true hardness score found between 1 to 10 , and average their row's predicted hardness score, and taking the absolute differences between the averages. "
   ]
  },
  {
   "cell_type": "code",
   "execution_count": 44,
   "id": "33418c8f-0eac-43e2-9304-7831b0e2e4cd",
   "metadata": {},
   "outputs": [
    {
     "name": "stdout",
     "output_type": "stream",
     "text": [
      "Average y^hat prediction \n",
      "per true hardness score:\n"
     ]
    },
    {
     "data": {
      "text/html": [
       "<div>\n",
       "<style scoped>\n",
       "    .dataframe tbody tr th:only-of-type {\n",
       "        vertical-align: middle;\n",
       "    }\n",
       "\n",
       "    .dataframe tbody tr th {\n",
       "        vertical-align: top;\n",
       "    }\n",
       "\n",
       "    .dataframe thead th {\n",
       "        text-align: right;\n",
       "    }\n",
       "</style>\n",
       "<table border=\"1\" class=\"dataframe\">\n",
       "  <thead>\n",
       "    <tr style=\"text-align: right;\">\n",
       "      <th></th>\n",
       "      <th>avg y</th>\n",
       "      <th>avg y^</th>\n",
       "      <th>abs(avg y - avg y^)</th>\n",
       "    </tr>\n",
       "  </thead>\n",
       "  <tbody>\n",
       "    <tr>\n",
       "      <th>0</th>\n",
       "      <td>1</td>\n",
       "      <td>4.290678</td>\n",
       "      <td>3.290678</td>\n",
       "    </tr>\n",
       "    <tr>\n",
       "      <th>1</th>\n",
       "      <td>2</td>\n",
       "      <td>5.352494</td>\n",
       "      <td>3.352494</td>\n",
       "    </tr>\n",
       "    <tr>\n",
       "      <th>2</th>\n",
       "      <td>3</td>\n",
       "      <td>5.950883</td>\n",
       "      <td>2.950883</td>\n",
       "    </tr>\n",
       "    <tr>\n",
       "      <th>3</th>\n",
       "      <td>4</td>\n",
       "      <td>6.188189</td>\n",
       "      <td>2.188189</td>\n",
       "    </tr>\n",
       "    <tr>\n",
       "      <th>4</th>\n",
       "      <td>5</td>\n",
       "      <td>6.258751</td>\n",
       "      <td>1.258751</td>\n",
       "    </tr>\n",
       "    <tr>\n",
       "      <th>5</th>\n",
       "      <td>6</td>\n",
       "      <td>6.568172</td>\n",
       "      <td>0.568172</td>\n",
       "    </tr>\n",
       "    <tr>\n",
       "      <th>6</th>\n",
       "      <td>7</td>\n",
       "      <td>6.920632</td>\n",
       "      <td>0.079368</td>\n",
       "    </tr>\n",
       "    <tr>\n",
       "      <th>7</th>\n",
       "      <td>8</td>\n",
       "      <td>7.497919</td>\n",
       "      <td>0.502081</td>\n",
       "    </tr>\n",
       "    <tr>\n",
       "      <th>8</th>\n",
       "      <td>9</td>\n",
       "      <td>7.893665</td>\n",
       "      <td>1.106335</td>\n",
       "    </tr>\n",
       "  </tbody>\n",
       "</table>\n",
       "</div>"
      ],
      "text/plain": [
       "   avg y    avg y^  abs(avg y - avg y^)\n",
       "0      1  4.290678             3.290678\n",
       "1      2  5.352494             3.352494\n",
       "2      3  5.950883             2.950883\n",
       "3      4  6.188189             2.188189\n",
       "4      5  6.258751             1.258751\n",
       "5      6  6.568172             0.568172\n",
       "6      7  6.920632             0.079368\n",
       "7      8  7.497919             0.502081\n",
       "8      9  7.893665             1.106335"
      ]
     },
     "execution_count": 44,
     "metadata": {},
     "output_type": "execute_result"
    }
   ],
   "source": [
    "# Create new dataframe of just true and predicted values.\n",
    "y_values = pd.DataFrame({\"avg y\": y_train, \"avg y^\": training_predictions})\n",
    "print(\"Average y^hat prediction \\nper true hardness score:\")\n",
    "y_values.groupby(\"avg y\").agg(\"mean\")\n",
    "differences = pd.DataFrame(y_values.groupby(\"avg y\").agg(\"mean\"))\n",
    "differences.reset_index(inplace=True)\n",
    "differences[\"abs(avg y - avg y^)\"] = np.abs(differences[\"avg y\"] - differences[\"avg y^\"])\n",
    "differences"
   ]
  },
  {
   "cell_type": "markdown",
   "id": "02ff679b-0e8c-4d03-a927-d16677e2e6af",
   "metadata": {},
   "source": [
    "### To ensure a comprehensive evaluation, we also measured mean squared error 10 times with 10 different 80/20 splits in our training data using k-fold cross validation to ensure our evaluation metrics were not due to randomness of initial splits in our data. "
   ]
  },
  {
   "cell_type": "code",
   "execution_count": 46,
   "id": "d023c9aa-5d6a-467d-b66a-ed0d23d9d030",
   "metadata": {},
   "outputs": [],
   "source": [
    "def compute_CV_error(model, X_train, Y_train):\n",
    "    '''\n",
    "    Split the training data into 10 subsets.\n",
    "    For each subset, \n",
    "        - Fit a model holding out that subset.\n",
    "        - Compute the MSE on that subset (the validation set).\n",
    "\n",
    "    Args:\n",
    "        model: An sklearn model with fit and predict functions. \n",
    "        X_train (DataFrame): Training data.\n",
    "        Y_train (DataFrame): Label.\n",
    "    \n",
    "    Return:\n",
    "        The average validation MSE for the 10 splits.\n",
    "    '''\n",
    "    kf = KFold(n_splits=10)\n",
    "    validation_errors = []\n",
    "    \n",
    "    for train_idx, valid_idx in kf.split(X_train):\n",
    "        # split the data\n",
    "        split_X_train, split_X_valid = X_train.iloc[train_idx], X_train.iloc[valid_idx] \n",
    "        split_Y_train, split_Y_valid = Y_train.iloc[train_idx], Y_train.iloc[valid_idx] \n",
    "\n",
    "        # Fit the model on the training split\n",
    "        model.fit(split_X_train, split_Y_train)\n",
    "        \n",
    "        # Compute the MSE on the validation split\n",
    "        error = mse(split_Y_valid, model.predict(split_X_valid))\n",
    "\n",
    "        validation_errors.append(error)\n",
    "        \n",
    "    return np.mean(validation_errors), validation_errors"
   ]
  },
  {
   "cell_type": "code",
   "execution_count": 47,
   "id": "54325b20-3f1b-408f-ab48-68858e9a7b6c",
   "metadata": {},
   "outputs": [
    {
     "name": "stdout",
     "output_type": "stream",
     "text": [
      "Average loss: 1.9726546170991206\n"
     ]
    }
   ],
   "source": [
    "mean_mse, fold_errors = compute_CV_error(LinearRegression(fit_intercept=True), X_train, y_train)\n",
    "print(f'Average loss: {mean_mse}')"
   ]
  },
  {
   "cell_type": "markdown",
   "id": "a88f5735-00c7-4eda-90b1-99052c636a9a",
   "metadata": {},
   "source": [
    "# Plotting our validation mse of each fold in our cross-validation of k=10. "
   ]
  },
  {
   "cell_type": "code",
   "execution_count": 49,
   "id": "428a6ce5-bb22-4715-9824-b4972003b95a",
   "metadata": {},
   "outputs": [
    {
     "data": {
      "image/png": "[encoded data removed]",
      "text/plain": [
       "<Figure size 800x500 with 1 Axes>"
      ]
     },
     "metadata": {},
     "output_type": "display_data"
    }
   ],
   "source": [
    "plt.figure(figsize=(8,5))\n",
    "plt.scatter(range(1, 11), fold_errors)\n",
    "plt.plot(range(1, 11), fold_errors)\n",
    "plt.xlabel('Fold Number', fontsize=12)\n",
    "plt.ylabel('Validation MSE', fontsize=12)\n",
    "plt.title('K-fold Cross Validation (K = 10)\\nValidation MSE per Fold', fontsize=14)\n",
    "plt.grid(True)\n",
    "plt.show()"
   ]
  },
  {
   "cell_type": "markdown",
   "id": "71dd8601-c42c-4d03-9ad2-df9cd548aa29",
   "metadata": {},
   "source": [
    "# USING TEST SETS"
   ]
  },
  {
   "cell_type": "code",
   "execution_count": 51,
   "id": "2b0d1e26-6779-4c3a-9292-579515927289",
   "metadata": {},
   "outputs": [],
   "source": [
    "# Hold out sets:\n",
    "\n",
    "df = pd.read_json(\n",
    "    \"data/nlp-chatbot-analysis_data/test-set/arena-test-set-prompt-and-responses.jsonl.gz\",\n",
    "    lines=True,\n",
    "    compression=\"gzip\")\n",
    "\n",
    "topic_and_hardness = pd.read_json(\n",
    "    \"data/nlp-chatbot-analysis_data/test-set/arena-test-set-topic-modeling.jsonl.gz\",\n",
    "    lines=True,\n",
    "    compression=\"gzip\")\n",
    "\n",
    "prompt_embeddings = pd.DataFrame(np.load(\n",
    "    \"data/nlp-chatbot-analysis_data/test-set/arena-test-set-prompts-embeddings.npy\"))\n",
    "\n",
    "response_a_embeddings = pd.DataFrame(np.load(\n",
    "    \"data/nlp-chatbot-analysis_data/test-set/arena-test-set-model_a_response-embeddings.npy\"))\n",
    "\n",
    "response_b_embeddings = pd.DataFrame(np.load(\n",
    "    \"data/nlp-chatbot-analysis_data/test-set/arena-test-set-model_b_response-embeddings.npy\"))"
   ]
  },
  {
   "cell_type": "markdown",
   "id": "4f57da3f-9b72-4d1c-8fd7-01b2c04c9bad",
   "metadata": {},
   "source": [
    "# Get top 10 most frequently occuring topics as features without losing rows nor creating NaN values."
   ]
  },
  {
   "cell_type": "code",
   "execution_count": 53,
   "id": "c35c62dd-766b-48f2-a8b2-ebb4cd7e62fc",
   "metadata": {},
   "outputs": [],
   "source": [
    "# Select top 10 most frequently occuring topics \n",
    "encode_topics = topic_and_hardness['topic_modeling_1'].value_counts().head(10).index\n",
    "\n",
    "# Create a dictionary to map topics to an integer + an integer for topics not frequently occuring. \n",
    "indexes = [i for i in range(len(encode_topics))]\n",
    "encoded_10_topics = dict(zip(encode_topics, indexes))\n",
    "encoded_10_topics['NOT_FREQUENT'] = 10\n",
    "\n",
    "# Create column that is almost identical to 'topic_modeling_1' except, rename all topics that are not in the top 10 as \"NOT_FREQUENT\". \n",
    "topic_and_hardness['topic_modeling_1_preprocessed'] = topic_and_hardness['topic_modeling_1'].where(topic_and_hardness['topic_modeling_1'].isin(encode_topics), 'NOT_FREQUENT')\n",
    "\n",
    "# Create column that maps the topic in 'topic_modeling_1_preprocessed' column to an integer. \n",
    "topic_and_hardness['topic_mapped'] = topic_and_hardness['topic_modeling_1_preprocessed'].map(encoded_10_topics)\n",
    "\n",
    "# One-hot encode the top 10 most frequently occurring topics + the non-frequent topics. \n",
    "one_hot_encoded_10_topics = pd.get_dummies(topic_and_hardness[\"topic_mapped\"]).astype(int)\n",
    "\n",
    "# merge the new one-hot-encoded features with topic_and hardness dataframe. \n",
    "topic_and_hardness_top10_topics = pd.merge(topic_and_hardness,one_hot_encoded_10_topics, left_index=True, right_index=True)"
   ]
  },
  {
   "cell_type": "markdown",
   "id": "dcbe06df-6aca-40ee-8707-4be938429c19",
   "metadata": {},
   "source": [
    "# Find 50 clusters in test embeddings using K-means clustering"
   ]
  },
  {
   "cell_type": "code",
   "execution_count": 55,
   "id": "00d24ff0-b1c2-44c1-ac2c-441a36301b98",
   "metadata": {},
   "outputs": [],
   "source": [
    "cluster_features = pd.DataFrame()"
   ]
  },
  {
   "cell_type": "code",
   "execution_count": 56,
   "id": "9a546416-f1a4-4e03-a7f5-f2fc169ea687",
   "metadata": {},
   "outputs": [],
   "source": [
    "kmeans = KMeans(n_clusters=n_clusters, random_state=42)\n",
    "kmeans.fit(prompt_embeddings)\n",
    "cluster_features[\"prompt_cluster\"] = kmeans.predict(prompt_embeddings)"
   ]
  },
  {
   "cell_type": "code",
   "execution_count": 57,
   "id": "7272e9f0-a277-4a81-91f5-8d68b1fd7314",
   "metadata": {},
   "outputs": [],
   "source": [
    "kmeans = KMeans(n_clusters=n_clusters, random_state=42)\n",
    "kmeans.fit(response_a_embeddings)\n",
    "cluster_features[\"response_a_cluster\"] = kmeans.predict(response_a_embeddings)"
   ]
  },
  {
   "cell_type": "code",
   "execution_count": 58,
   "id": "272efe60-dbc9-4bcc-8106-e90f99b1dfe6",
   "metadata": {},
   "outputs": [],
   "source": [
    "kmeans = KMeans(n_clusters=n_clusters, random_state=42)\n",
    "kmeans.fit(response_b_embeddings)\n",
    "cluster_features[\"response_b_cluster\"] = kmeans.predict(response_b_embeddings)"
   ]
  },
  {
   "cell_type": "markdown",
   "id": "6fc120e2-270a-4938-8959-79c2d6037bb0",
   "metadata": {},
   "source": [
    "# Create design matrix and predict hardness score for final predictions."
   ]
  },
  {
   "cell_type": "code",
   "execution_count": 60,
   "id": "a1fd2362-b752-4f8f-a65f-21664195a00d",
   "metadata": {},
   "outputs": [],
   "source": [
    "X = pd.concat([cluster_features, one_hot_encoded_10_topics, prompt_embeddings],axis=1)\n",
    "X.columns = X.columns.astype(str) # convert all column names to string to avoid syntax error."
   ]
  },
  {
   "cell_type": "markdown",
   "id": "f7bb4858-97bf-4012-9db7-5415f093b721",
   "metadata": {},
   "source": [
    "# Make final predictions. "
   ]
  },
  {
   "cell_type": "code",
   "execution_count": 62,
   "id": "0f27573b-10ab-4ba4-b5fd-15a32d926811",
   "metadata": {},
   "outputs": [],
   "source": [
    "FINAL_PREDICTIONS = TASKB_lm.predict(X)"
   ]
  },
  {
   "cell_type": "markdown",
   "id": "de89830f-0d87-45b9-af73-1ed6a751029a",
   "metadata": {},
   "source": [
    "# Export hardness score predictions to combine with TASK A."
   ]
  },
  {
   "cell_type": "code",
   "execution_count": 64,
   "id": "9aa68d1f-059e-4b1c-8f8f-98cc7e944ccf",
   "metadata": {},
   "outputs": [],
   "source": [
    "FINAL_PREDICTIONS = pd.DataFrame(FINAL_PREDICTIONS)\n",
    "FINAL_PREDICTIONS.to_csv(\"data/PREDICTED_HARDNESS_SCORES.CSV\")"
   ]
  },
  {
   "cell_type": "markdown",
   "id": "df3a12ed-3a79-4211-8d13-131056072bff",
   "metadata": {},
   "source": [
    "# COMBINE WITH TASK A + PUT CSV IN PROPER FORMAT FOR GRADESCOPE SUBMISSION."
   ]
  },
  {
   "cell_type": "code",
   "execution_count": 66,
   "id": "37464f75-a632-4b83-8a99-ac862c8dcb17",
   "metadata": {},
   "outputs": [],
   "source": [
    "FINAL_PREDICTIONS = FINAL_PREDICTIONS.rename(columns = {0:\"hardness_score\"})\n",
    "\n",
    "Task_A_predictions = pd.read_csv(\"data/output.csv\")\n",
    "Task_A_predictions = Task_A_predictions[[\"question_id\", \"winner\"]]\n",
    "\n",
    "GRADESCOPE_SUBMISSION = pd.concat([Task_A_predictions, FINAL_PREDICTIONS], axis =1)\n",
    "GRADESCOPE_SUBMISSION = GRADESCOPE_SUBMISSION.set_index(\"question_id\")\n",
    "\n",
    "GRADESCOPE_SUBMISSION.to_csv(\"data/GRADESCOPE_SUBMISSION.csv\")"
   ]
  },
  {
   "cell_type": "markdown",
   "id": "6c58defe-c8be-42bb-9e6e-f56cd797a2d8",
   "metadata": {},
   "source": [
    "Which model(s) do you use and why?\n",
    "\n",
    "\n",
    "    I used a linear regression model as it returns a continuous prediction\n",
    "\n",
    "\n",
    "How do you use your data for training and testing?\n",
    "\n",
    "\n",
    "    I spilt the training data set .80/.20 training/validation then use 10 fold Cross validation\n",
    "\n",
    "\n",
    "Does your model require hyperparameter tuning? If so, how do you approach it?\n",
    "\n",
    "\n",
    "    I tried to improve our model with Lasso regression and tuning the hyperparameter lambda, but this actually made our model worse, and I did not use Lasso regression for the final gradescope test submission. I did tune the number of k clusters we used and found 50 clustered the embeddings nicely based on our EDA. \n",
    "\n",
    "\n",
    "How do you engineer the features for your model? What are the rationales behind selecting these features?\n",
    "\n",
    "\n",
    "    I one-hot encoded the top 10 most frequently occuring topics because they are categorical variables. \n",
    "    I also performed K-means clustering to assign each embedded row in the embedded dataset to 1 of 50 clusters.\n",
    "    I also averaged the hardness scores 1, 2, and 3; and rounded them to the nearest integer to simplify training purposes and quantify error.\n",
    "    These features were selected because the hardness score was being determined for prompts/topics that  were being answered by the chatbots (whose conversations were embedded).\n",
    "\n",
    "\n",
    "How do you perform cross-validation on your model?\n",
    "\n",
    "\n",
    "    I used 10 fold cross validation using the training data set. Each split was done 80% for training and 20% for validation. \n",
    "\n",
    "\n",
    "What loss metrics are you using to evaluate your model? Why?\n",
    "\n",
    "\n",
    "    I am using mean squared error for my loss metric because I am performing a linear regression to predict continuous values and the true labels are also continuous values.\n",
    "    I also included the absolute difference between each true average hardness score rounded to the nearest integer, and the average of their predicted values as another way\n",
    "    to evaluate the model since we had initially rounded the average hardness scores to their nearest integer. \n",
    "\n",
    "\n",
    "From a bias-variance tradeoff standpoint, how do you assess the performance of your model? How do you check if it is overfitting?\n",
    "\n",
    "\n",
    "    I used cross validation and compard r^2 values of my different 3 models to measure variability. \n",
    "    Since variability was relatively low across all 3 models (i.e. <0.5), it is assumed there is high bias due to the bias-variance tradeoff. \n",
    "\n",
    "\n",
    "How would you improve your model based on the outcome?\n",
    "\n",
    "\n",
    "    add more data with prompts that are truly considered easy with hardness scores less than 5. \n",
    "\n",
    "\n",
    "Are there any further extensions to your model that would be worth exploring?\n",
    "\n",
    "\n",
    "    Adding different clustering algorithms like DBSCAN or UMAP instead of PCA to capture and visualize clustered embeddings. Perhaps feed the data into a deep neural network. "
   ]
  },
  {
   "cell_type": "code",
   "execution_count": null,
   "id": "8d00ffcd-46c0-4669-b3c8-1a86afe24351",
   "metadata": {},
   "outputs": [],
   "source": []
  }
 ],
 "metadata": {
  "kernelspec": {
   "display_name": "Python 3 (ipykernel)",
   "language": "python",
   "name": "python3"
  },
  "language_info": {
   "codemirror_mode": {
    "name": "ipython",
    "version": 3
   },
   "file_extension": ".py",
   "mimetype": "text/x-python",
   "name": "python",
   "nbconvert_exporter": "python",
   "pygments_lexer": "ipython3",
   "version": "3.12.2"
  }
 },
 "nbformat": 4,
 "nbformat_minor": 5
}
